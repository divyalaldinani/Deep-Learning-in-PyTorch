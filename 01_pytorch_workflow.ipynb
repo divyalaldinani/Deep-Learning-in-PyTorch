{
  "nbformat": 4,
  "nbformat_minor": 0,
  "metadata": {
    "colab": {
      "provenance": [],
      "authorship_tag": "ABX9TyPjA9jAlLIGrAHJDLn8Rl8U",
      "include_colab_link": true
    },
    "kernelspec": {
      "name": "python3",
      "display_name": "Python 3"
    },
    "language_info": {
      "name": "python"
    }
  },
  "cells": [
    {
      "cell_type": "markdown",
      "metadata": {
        "id": "view-in-github",
        "colab_type": "text"
      },
      "source": [
        "<a href=\"https://colab.research.google.com/github/divyalaldinani/Deep-Learning-in-PyTorch/blob/main/01_pytorch_workflow.ipynb\" target=\"_parent\"><img src=\"https://colab.research.google.com/assets/colab-badge.svg\" alt=\"Open In Colab\"/></a>"
      ]
    },
    {
      "cell_type": "markdown",
      "source": [
        "## PyTorch workflow\n",
        "Covered in this notebook:\n",
        "* Get data ready\n",
        "* Build or pick a pretrained model\n",
        "* fit the model\n",
        "* making predictions(inference) and evaluating\n",
        "* save and reload"
      ],
      "metadata": {
        "id": "jnUAAHc4cPEp"
      }
    },
    {
      "cell_type": "code",
      "source": [
        "import torch\n",
        "from torch import nn # contains all building blocks of nn in torch\n",
        "import matplotlib.pyplot as plt\n",
        "%matplotlib inline"
      ],
      "metadata": {
        "id": "kMJKOaeMdBSg"
      },
      "execution_count": 1,
      "outputs": []
    },
    {
      "cell_type": "markdown",
      "source": [
        "#### 1. Data (preparing and loading)\n",
        "\n",
        "-> Get data into numerical representation\n",
        "\n",
        "-> Build a model to learn model from that numerical representation.\n",
        "\n",
        "-> Here, lets make a linearly dependant output feature in relation to input feature"
      ],
      "metadata": {
        "id": "5fqH5YlOdvsm"
      }
    },
    {
      "cell_type": "code",
      "source": [
        "w = 0.3\n",
        "b = 0.5"
      ],
      "metadata": {
        "id": "waf8kSmDfHcq"
      },
      "execution_count": 2,
      "outputs": []
    },
    {
      "cell_type": "code",
      "source": [
        "X = torch.arange(1, 15, 0.25).unsqueeze(dim=1)\n",
        "Y = w*X + b # actual output"
      ],
      "metadata": {
        "id": "rOprc1JpfRcD"
      },
      "execution_count": 18,
      "outputs": []
    },
    {
      "cell_type": "code",
      "source": [
        "X, Y, X.shape, Y.shape"
      ],
      "metadata": {
        "colab": {
          "base_uri": "https://localhost:8080/"
        },
        "id": "ubpj4tYLfd77",
        "outputId": "4d905d41-6e1f-4ae1-82eb-f37c5da026d0"
      },
      "execution_count": 19,
      "outputs": [
        {
          "output_type": "execute_result",
          "data": {
            "text/plain": [
              "(tensor([[ 1.0000],\n",
              "         [ 1.2500],\n",
              "         [ 1.5000],\n",
              "         [ 1.7500],\n",
              "         [ 2.0000],\n",
              "         [ 2.2500],\n",
              "         [ 2.5000],\n",
              "         [ 2.7500],\n",
              "         [ 3.0000],\n",
              "         [ 3.2500],\n",
              "         [ 3.5000],\n",
              "         [ 3.7500],\n",
              "         [ 4.0000],\n",
              "         [ 4.2500],\n",
              "         [ 4.5000],\n",
              "         [ 4.7500],\n",
              "         [ 5.0000],\n",
              "         [ 5.2500],\n",
              "         [ 5.5000],\n",
              "         [ 5.7500],\n",
              "         [ 6.0000],\n",
              "         [ 6.2500],\n",
              "         [ 6.5000],\n",
              "         [ 6.7500],\n",
              "         [ 7.0000],\n",
              "         [ 7.2500],\n",
              "         [ 7.5000],\n",
              "         [ 7.7500],\n",
              "         [ 8.0000],\n",
              "         [ 8.2500],\n",
              "         [ 8.5000],\n",
              "         [ 8.7500],\n",
              "         [ 9.0000],\n",
              "         [ 9.2500],\n",
              "         [ 9.5000],\n",
              "         [ 9.7500],\n",
              "         [10.0000],\n",
              "         [10.2500],\n",
              "         [10.5000],\n",
              "         [10.7500],\n",
              "         [11.0000],\n",
              "         [11.2500],\n",
              "         [11.5000],\n",
              "         [11.7500],\n",
              "         [12.0000],\n",
              "         [12.2500],\n",
              "         [12.5000],\n",
              "         [12.7500],\n",
              "         [13.0000],\n",
              "         [13.2500],\n",
              "         [13.5000],\n",
              "         [13.7500],\n",
              "         [14.0000],\n",
              "         [14.2500],\n",
              "         [14.5000],\n",
              "         [14.7500]]),\n",
              " tensor([[0.8000],\n",
              "         [0.8750],\n",
              "         [0.9500],\n",
              "         [1.0250],\n",
              "         [1.1000],\n",
              "         [1.1750],\n",
              "         [1.2500],\n",
              "         [1.3250],\n",
              "         [1.4000],\n",
              "         [1.4750],\n",
              "         [1.5500],\n",
              "         [1.6250],\n",
              "         [1.7000],\n",
              "         [1.7750],\n",
              "         [1.8500],\n",
              "         [1.9250],\n",
              "         [2.0000],\n",
              "         [2.0750],\n",
              "         [2.1500],\n",
              "         [2.2250],\n",
              "         [2.3000],\n",
              "         [2.3750],\n",
              "         [2.4500],\n",
              "         [2.5250],\n",
              "         [2.6000],\n",
              "         [2.6750],\n",
              "         [2.7500],\n",
              "         [2.8250],\n",
              "         [2.9000],\n",
              "         [2.9750],\n",
              "         [3.0500],\n",
              "         [3.1250],\n",
              "         [3.2000],\n",
              "         [3.2750],\n",
              "         [3.3500],\n",
              "         [3.4250],\n",
              "         [3.5000],\n",
              "         [3.5750],\n",
              "         [3.6500],\n",
              "         [3.7250],\n",
              "         [3.8000],\n",
              "         [3.8750],\n",
              "         [3.9500],\n",
              "         [4.0250],\n",
              "         [4.1000],\n",
              "         [4.1750],\n",
              "         [4.2500],\n",
              "         [4.3250],\n",
              "         [4.4000],\n",
              "         [4.4750],\n",
              "         [4.5500],\n",
              "         [4.6250],\n",
              "         [4.7000],\n",
              "         [4.7750],\n",
              "         [4.8500],\n",
              "         [4.9250]]),\n",
              " torch.Size([56, 1]),\n",
              " torch.Size([56, 1]))"
            ]
          },
          "metadata": {},
          "execution_count": 19
        }
      ]
    },
    {
      "cell_type": "markdown",
      "source": [
        "#### 2. Splitting data into train, validation and test data"
      ],
      "metadata": {
        "id": "AV438Zu6fe5u"
      }
    },
    {
      "cell_type": "code",
      "source": [
        "train_split = int(0.8*len(X))\n",
        "X_train, Y_train = X[:train_split], Y[:train_split]\n",
        "X_test, Y_test = X[train_split:], Y[train_split:]"
      ],
      "metadata": {
        "id": "lQy0-qmvgI3_"
      },
      "execution_count": 23,
      "outputs": []
    },
    {
      "cell_type": "code",
      "source": [
        "X_train.shape, X_test.shape, Y_train.shape, Y_test.shape"
      ],
      "metadata": {
        "colab": {
          "base_uri": "https://localhost:8080/"
        },
        "id": "lxefmz1jhNrH",
        "outputId": "fad7b959-c9b2-45a6-f11a-e945ed6385e1"
      },
      "execution_count": 24,
      "outputs": [
        {
          "output_type": "execute_result",
          "data": {
            "text/plain": [
              "(torch.Size([44, 1]),\n",
              " torch.Size([12, 1]),\n",
              " torch.Size([44, 1]),\n",
              " torch.Size([12, 1]))"
            ]
          },
          "metadata": {},
          "execution_count": 24
        }
      ]
    },
    {
      "cell_type": "code",
      "source": [
        "plt.scatter(X_train, Y_train, label='training data');\n",
        "plt.scatter(X_test, Y_test, label='testing data');\n",
        "plt.legend()"
      ],
      "metadata": {
        "colab": {
          "base_uri": "https://localhost:8080/",
          "height": 447
        },
        "id": "FstyM4RUhelm",
        "outputId": "7ee58bf6-93f0-48aa-e8b5-788fc35d4baf"
      },
      "execution_count": 26,
      "outputs": [
        {
          "output_type": "execute_result",
          "data": {
            "text/plain": [
              "<matplotlib.legend.Legend at 0x7a74a5bd2c50>"
            ]
          },
          "metadata": {},
          "execution_count": 26
        },
        {
          "output_type": "display_data",
          "data": {
            "text/plain": [
              "<Figure size 640x480 with 1 Axes>"
            ],
            "image/png": "[encoded data removed]"
          },
          "metadata": {}
        }
      ]
    },
    {
      "cell_type": "code",
      "source": [
        "def plot_data(x_train=X_train, y_train=Y_train, x_test=X_test, y_test=Y_test, predictions=None):\n",
        "    plt.scatter(X_train, Y_train, label='training data');\n",
        "    plt.scatter(X_test, Y_test, label='testing data');\n",
        "    if predictions is not None:\n",
        "      plt.scatter(X_test, predictions, label = \"predictions\");\n",
        "    plt.legend()"
      ],
      "metadata": {
        "id": "8W0DWh-rhuhi"
      },
      "execution_count": 27,
      "outputs": []
    },
    {
      "cell_type": "code",
      "source": [
        "plot_data()"
      ],
      "metadata": {
        "colab": {
          "base_uri": "https://localhost:8080/",
          "height": 430
        },
        "id": "97rssWmGi3Wy",
        "outputId": "90ff37df-1539-47f1-b23c-96246a4d5f31"
      },
      "execution_count": 28,
      "outputs": [
        {
          "output_type": "display_data",
          "data": {
            "text/plain": [
              "<Figure size 640x480 with 1 Axes>"
            ],
            "image/png": "[encoded data removed]"
          },
          "metadata": {}
        }
      ]
    },
    {
      "cell_type": "markdown",
      "source": [
        "#### 3. Building the model"
      ],
      "metadata": {
        "id": "-OwU9YI5i4X3"
      }
    },
    {
      "cell_type": "code",
      "source": [
        "from torch import nn\n",
        "class LinearModel(nn.Module): # nn.Module contains all building blocks for NN\n",
        "  def __init__(self):\n",
        "    super().__init__()\n",
        "    self.weights = nn.Parameter(torch.randn(1, requires_grad = True, dtype = torch.float)) # a kind of tensor that is considered as module parameter\n",
        "    self.bias = nn.Parameter(torch.randn(1, requires_grad = True, dtype = torch.float))\n",
        "\n",
        "  def forward(self, x:torch.Tensor) -> torch.Tensor: # X : input data, forward propagation\n",
        "    return self.weights*x + self.bias"
      ],
      "metadata": {
        "id": "EGx6-q0ljjLn"
      },
      "execution_count": 31,
      "outputs": []
    },
    {
      "cell_type": "code",
      "source": [],
      "metadata": {
        "id": "WO8TSu3Ykj5j"
      },
      "execution_count": null,
      "outputs": []
    }
  ]
}