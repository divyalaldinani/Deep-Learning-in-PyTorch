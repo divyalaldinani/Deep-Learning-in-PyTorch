{
  "nbformat": 4,
  "nbformat_minor": 0,
  "metadata": {
    "colab": {
      "provenance": [],
      "authorship_tag": "ABX9TyPWe1iEpw09VPnDuEW0//ou",
      "include_colab_link": true
    },
    "kernelspec": {
      "name": "python3",
      "display_name": "Python 3"
    },
    "language_info": {
      "name": "python"
    }
  },
  "cells": [
    {
      "cell_type": "markdown",
      "metadata": {
        "id": "view-in-github",
        "colab_type": "text"
      },
      "source": [
        "<a href=\"https://colab.research.google.com/github/divyalaldinani/Deep-Learning-in-PyTorch/blob/main/01_pytorch_workflow.ipynb\" target=\"_parent\"><img src=\"https://colab.research.google.com/assets/colab-badge.svg\" alt=\"Open In Colab\"/></a>"
      ]
    },
    {
      "cell_type": "markdown",
      "source": [
        "## PyTorch workflow\n",
        "Covered in this notebook:\n",
        "* Get data ready\n",
        "* Build or pick a pretrained model\n",
        "* fit the model\n",
        "* making predictions(inference) and evaluating\n",
        "* save and reload"
      ],
      "metadata": {
        "id": "jnUAAHc4cPEp"
      }
    },
    {
      "cell_type": "code",
      "source": [
        "import torch\n",
        "from torch import nn # contains all building blocks of nn in torch\n",
        "import matplotlib.pyplot as plt\n",
        "import random\n",
        "%matplotlib inline"
      ],
      "metadata": {
        "id": "kMJKOaeMdBSg"
      },
      "execution_count": 310,
      "outputs": []
    },
    {
      "cell_type": "markdown",
      "source": [
        "#### 1. Data (preparing and loading)\n",
        "\n",
        "-> Get data into numerical representation\n",
        "\n",
        "-> Build a model to learn model from that numerical representation.\n",
        "\n",
        "-> Here, lets make a linearly dependant output feature in relation to input feature"
      ],
      "metadata": {
        "id": "5fqH5YlOdvsm"
      }
    },
    {
      "cell_type": "code",
      "source": [
        "w = 0.3\n",
        "b = 0.5"
      ],
      "metadata": {
        "id": "waf8kSmDfHcq"
      },
      "execution_count": 311,
      "outputs": []
    },
    {
      "cell_type": "code",
      "source": [
        "X = torch.arange(1, 15, 0.25).unsqueeze(dim=1)\n",
        "Y = w*X + b # actual output"
      ],
      "metadata": {
        "id": "rOprc1JpfRcD"
      },
      "execution_count": 312,
      "outputs": []
    },
    {
      "cell_type": "code",
      "source": [
        "X, Y, X.shape, Y.shape"
      ],
      "metadata": {
        "colab": {
          "base_uri": "https://localhost:8080/"
        },
        "id": "ubpj4tYLfd77",
        "outputId": "a6b82333-fc05-4618-b210-07c0f69a3ef1"
      },
      "execution_count": 313,
      "outputs": [
        {
          "output_type": "execute_result",
          "data": {
            "text/plain": [
              "(tensor([[ 1.0000],\n",
              "         [ 1.2500],\n",
              "         [ 1.5000],\n",
              "         [ 1.7500],\n",
              "         [ 2.0000],\n",
              "         [ 2.2500],\n",
              "         [ 2.5000],\n",
              "         [ 2.7500],\n",
              "         [ 3.0000],\n",
              "         [ 3.2500],\n",
              "         [ 3.5000],\n",
              "         [ 3.7500],\n",
              "         [ 4.0000],\n",
              "         [ 4.2500],\n",
              "         [ 4.5000],\n",
              "         [ 4.7500],\n",
              "         [ 5.0000],\n",
              "         [ 5.2500],\n",
              "         [ 5.5000],\n",
              "         [ 5.7500],\n",
              "         [ 6.0000],\n",
              "         [ 6.2500],\n",
              "         [ 6.5000],\n",
              "         [ 6.7500],\n",
              "         [ 7.0000],\n",
              "         [ 7.2500],\n",
              "         [ 7.5000],\n",
              "         [ 7.7500],\n",
              "         [ 8.0000],\n",
              "         [ 8.2500],\n",
              "         [ 8.5000],\n",
              "         [ 8.7500],\n",
              "         [ 9.0000],\n",
              "         [ 9.2500],\n",
              "         [ 9.5000],\n",
              "         [ 9.7500],\n",
              "         [10.0000],\n",
              "         [10.2500],\n",
              "         [10.5000],\n",
              "         [10.7500],\n",
              "         [11.0000],\n",
              "         [11.2500],\n",
              "         [11.5000],\n",
              "         [11.7500],\n",
              "         [12.0000],\n",
              "         [12.2500],\n",
              "         [12.5000],\n",
              "         [12.7500],\n",
              "         [13.0000],\n",
              "         [13.2500],\n",
              "         [13.5000],\n",
              "         [13.7500],\n",
              "         [14.0000],\n",
              "         [14.2500],\n",
              "         [14.5000],\n",
              "         [14.7500]]),\n",
              " tensor([[0.8000],\n",
              "         [0.8750],\n",
              "         [0.9500],\n",
              "         [1.0250],\n",
              "         [1.1000],\n",
              "         [1.1750],\n",
              "         [1.2500],\n",
              "         [1.3250],\n",
              "         [1.4000],\n",
              "         [1.4750],\n",
              "         [1.5500],\n",
              "         [1.6250],\n",
              "         [1.7000],\n",
              "         [1.7750],\n",
              "         [1.8500],\n",
              "         [1.9250],\n",
              "         [2.0000],\n",
              "         [2.0750],\n",
              "         [2.1500],\n",
              "         [2.2250],\n",
              "         [2.3000],\n",
              "         [2.3750],\n",
              "         [2.4500],\n",
              "         [2.5250],\n",
              "         [2.6000],\n",
              "         [2.6750],\n",
              "         [2.7500],\n",
              "         [2.8250],\n",
              "         [2.9000],\n",
              "         [2.9750],\n",
              "         [3.0500],\n",
              "         [3.1250],\n",
              "         [3.2000],\n",
              "         [3.2750],\n",
              "         [3.3500],\n",
              "         [3.4250],\n",
              "         [3.5000],\n",
              "         [3.5750],\n",
              "         [3.6500],\n",
              "         [3.7250],\n",
              "         [3.8000],\n",
              "         [3.8750],\n",
              "         [3.9500],\n",
              "         [4.0250],\n",
              "         [4.1000],\n",
              "         [4.1750],\n",
              "         [4.2500],\n",
              "         [4.3250],\n",
              "         [4.4000],\n",
              "         [4.4750],\n",
              "         [4.5500],\n",
              "         [4.6250],\n",
              "         [4.7000],\n",
              "         [4.7750],\n",
              "         [4.8500],\n",
              "         [4.9250]]),\n",
              " torch.Size([56, 1]),\n",
              " torch.Size([56, 1]))"
            ]
          },
          "metadata": {},
          "execution_count": 313
        }
      ]
    },
    {
      "cell_type": "markdown",
      "source": [
        "#### 2. Splitting data into train, validation and test data"
      ],
      "metadata": {
        "id": "AV438Zu6fe5u"
      }
    },
    {
      "cell_type": "code",
      "source": [
        "train_split = int(0.8*len(X))\n",
        "X_train, Y_train = X[:train_split], Y[:train_split]\n",
        "X_test, Y_test = X[train_split:], Y[train_split:]"
      ],
      "metadata": {
        "id": "lQy0-qmvgI3_"
      },
      "execution_count": 314,
      "outputs": []
    },
    {
      "cell_type": "code",
      "source": [
        "X_train.shape, X_test.shape, Y_train.shape, Y_test.shape"
      ],
      "metadata": {
        "colab": {
          "base_uri": "https://localhost:8080/"
        },
        "id": "lxefmz1jhNrH",
        "outputId": "930edc09-95fd-4517-ee09-501c27e9dd27"
      },
      "execution_count": 315,
      "outputs": [
        {
          "output_type": "execute_result",
          "data": {
            "text/plain": [
              "(torch.Size([44, 1]),\n",
              " torch.Size([12, 1]),\n",
              " torch.Size([44, 1]),\n",
              " torch.Size([12, 1]))"
            ]
          },
          "metadata": {},
          "execution_count": 315
        }
      ]
    },
    {
      "cell_type": "code",
      "source": [
        "plt.scatter(X_train, Y_train, label='training data');\n",
        "plt.scatter(X_test, Y_test, label='testing data');\n",
        "plt.legend()"
      ],
      "metadata": {
        "colab": {
          "base_uri": "https://localhost:8080/",
          "height": 447
        },
        "id": "FstyM4RUhelm",
        "outputId": "24735301-e04d-4b3d-9b92-e17281cc7e1f"
      },
      "execution_count": 316,
      "outputs": [
        {
          "output_type": "execute_result",
          "data": {
            "text/plain": [
              "<matplotlib.legend.Legend at 0x7f4f4c987310>"
            ]
          },
          "metadata": {},
          "execution_count": 316
        },
        {
          "output_type": "display_data",
          "data": {
            "text/plain": [
              "<Figure size 640x480 with 1 Axes>"
            ],
            "image/png": "[encoded data removed]"
          },
          "metadata": {}
        }
      ]
    },
    {
      "cell_type": "code",
      "source": [
        "def plot_data(x_train=X_train, y_train=Y_train, x_test=X_test, y_test=Y_test, predictions=None):\n",
        "    plt.scatter(X_train, Y_train, label='training data');\n",
        "    plt.scatter(X_test, Y_test, label='testing data');\n",
        "    if predictions is not None:\n",
        "      plt.scatter(X_test, predictions, label = \"predictions\");\n",
        "    plt.legend()"
      ],
      "metadata": {
        "id": "8W0DWh-rhuhi"
      },
      "execution_count": 317,
      "outputs": []
    },
    {
      "cell_type": "code",
      "source": [
        "plot_data()"
      ],
      "metadata": {
        "colab": {
          "base_uri": "https://localhost:8080/",
          "height": 430
        },
        "id": "97rssWmGi3Wy",
        "outputId": "88a769cb-5f62-443b-bd3a-e39901902715"
      },
      "execution_count": 318,
      "outputs": [
        {
          "output_type": "display_data",
          "data": {
            "text/plain": [
              "<Figure size 640x480 with 1 Axes>"
            ],
            "image/png": "[encoded data removed]"
          },
          "metadata": {}
        }
      ]
    },
    {
      "cell_type": "markdown",
      "source": [
        "#### 3. Building the model"
      ],
      "metadata": {
        "id": "-OwU9YI5i4X3"
      }
    },
    {
      "cell_type": "code",
      "source": [
        "from torch import nn\n",
        "class LinearModel(nn.Module): # nn.Module contains all building blocks for NN\n",
        "  def __init__(self):\n",
        "    super().__init__()\n",
        "    self.weights = nn.Parameter(torch.randn(1, requires_grad = True, dtype = torch.float)) # a kind of tensor that is considered as module parameter\n",
        "    self.bias = nn.Parameter(torch.randn(1, requires_grad = True, dtype = torch.float))\n",
        "\n",
        "  def forward(self, x:torch.Tensor) -> torch.Tensor: # X : input data, forward propagation\n",
        "    return self.weights*x + self.bias"
      ],
      "metadata": {
        "id": "EGx6-q0ljjLn"
      },
      "execution_count": 319,
      "outputs": []
    },
    {
      "cell_type": "markdown",
      "source": [
        "### PyTorch essential NN building Modules\n",
        "\n",
        " * torch.nn -> contains all buildings for computationl graphs/NN\n",
        " * torch.nn.Parameter -> what parameters sould our model try and learn, often a PyTorch layer from torch.nn will set these for us\n",
        " * torch.nn.Module -> the base class for all NN modules, if you subclass it, you should overwrite forward()\n",
        " * torch.optim -> this is where optimizers are defined(like Adam, RMS Prop)\n",
        " * def forward() - All nn.Module subclasses **require you to overwrite forward()**"
      ],
      "metadata": {
        "id": "WO8TSu3Ykj5j"
      }
    },
    {
      "cell_type": "markdown",
      "source": [
        "### Checking contents for out PyTorch Model\n",
        "\n",
        "To check our model's parameters, see using `.parameters()`"
      ],
      "metadata": {
        "id": "Yqj7edZ6_Uhn"
      }
    },
    {
      "cell_type": "code",
      "source": [
        "torch.manual_seed(10)\n",
        "\n",
        "model1 = LinearModel()\n",
        "model1"
      ],
      "metadata": {
        "colab": {
          "base_uri": "https://localhost:8080/"
        },
        "id": "h3v4RmonAz-7",
        "outputId": "a40fc0a9-059a-49bf-9672-f39358aad28e"
      },
      "execution_count": 320,
      "outputs": [
        {
          "output_type": "execute_result",
          "data": {
            "text/plain": [
              "LinearModel()"
            ]
          },
          "metadata": {},
          "execution_count": 320
        }
      ]
    },
    {
      "cell_type": "code",
      "source": [
        "list(model1.parameters())"
      ],
      "metadata": {
        "colab": {
          "base_uri": "https://localhost:8080/"
        },
        "id": "OWix1xa_A8L9",
        "outputId": "d9de0205-b6eb-495a-f6de-12949b91c13c"
      },
      "execution_count": 321,
      "outputs": [
        {
          "output_type": "execute_result",
          "data": {
            "text/plain": [
              "[Parameter containing:\n",
              " tensor([-0.6014], requires_grad=True),\n",
              " Parameter containing:\n",
              " tensor([-1.0122], requires_grad=True)]"
            ]
          },
          "metadata": {},
          "execution_count": 321
        }
      ]
    },
    {
      "cell_type": "code",
      "source": [
        "model1.state_dict()"
      ],
      "metadata": {
        "colab": {
          "base_uri": "https://localhost:8080/"
        },
        "id": "eZ6H99GeCrHT",
        "outputId": "b60c26d8-c8e6-47c3-f6d3-f5089f0fefc4"
      },
      "execution_count": 322,
      "outputs": [
        {
          "output_type": "execute_result",
          "data": {
            "text/plain": [
              "OrderedDict([('weights', tensor([-0.6014])), ('bias', tensor([-1.0122]))])"
            ]
          },
          "metadata": {},
          "execution_count": 322
        }
      ]
    },
    {
      "cell_type": "markdown",
      "source": [
        "### Making predictions using `torch.inference_mode()`\n"
      ],
      "metadata": {
        "id": "HIfWVa7oDdeM"
      }
    },
    {
      "cell_type": "code",
      "source": [
        "with torch.inference_mode(): # turns off gradient tracking -> while testing we dont need to calculate graidents\n",
        "  y_preds = model1(X_test)\n",
        "\n",
        "# or\n",
        "with torch.no_grad():\n",
        "  y_preds = model1(X_test) # less faster than inference mode\n",
        "# or\n",
        "# y_preds = model1(X_test) # gradient tracking is on\n",
        "y_preds"
      ],
      "metadata": {
        "colab": {
          "base_uri": "https://localhost:8080/"
        },
        "id": "Y3LA3MHvEf95",
        "outputId": "69691071-63a0-4f9d-9cd1-629fdc1ea911"
      },
      "execution_count": 323,
      "outputs": [
        {
          "output_type": "execute_result",
          "data": {
            "text/plain": [
              "tensor([[-8.2289],\n",
              "        [-8.3793],\n",
              "        [-8.5296],\n",
              "        [-8.6800],\n",
              "        [-8.8303],\n",
              "        [-8.9807],\n",
              "        [-9.1310],\n",
              "        [-9.2814],\n",
              "        [-9.4317],\n",
              "        [-9.5821],\n",
              "        [-9.7324],\n",
              "        [-9.8828]])"
            ]
          },
          "metadata": {},
          "execution_count": 323
        }
      ]
    },
    {
      "cell_type": "code",
      "source": [
        "plot_data(predictions=y_preds)"
      ],
      "metadata": {
        "colab": {
          "base_uri": "https://localhost:8080/",
          "height": 430
        },
        "id": "IZJ1Y-OCEqYe",
        "outputId": "6e3f9e67-220d-4b9b-e7af-9f1adab202f2"
      },
      "execution_count": 324,
      "outputs": [
        {
          "output_type": "display_data",
          "data": {
            "text/plain": [
              "<Figure size 640x480 with 1 Axes>"
            ],
            "image/png": "[encoded data removed]"
          },
          "metadata": {}
        }
      ]
    },
    {
      "cell_type": "markdown",
      "source": [
        "### 3. Train the model\n",
        "\n",
        "To train the model, we need:\n",
        "* Loss function\n",
        "* Optimizer"
      ],
      "metadata": {
        "id": "XHozDDPdFU-Y"
      }
    },
    {
      "cell_type": "code",
      "source": [
        "loss_function = nn.L1Loss()\n",
        "\n",
        "optimizer = torch.optim.SGD(model1.parameters(), lr = 0.01) # pass model parameters and lr"
      ],
      "metadata": {
        "id": "67puczlUHEjo"
      },
      "execution_count": 325,
      "outputs": []
    },
    {
      "cell_type": "markdown",
      "source": [
        "#### Building a training and testing loop in PyTorch\n",
        "\n",
        "1. Forward pass on data\n",
        "2. Calculate the loss\n",
        "3. Optimizer zero grad, set all parameters to have initial grad = 0/None\n",
        "4. Call loss.backward() for backpropagation\n",
        "5. Optimizer steps"
      ],
      "metadata": {
        "id": "_BYUsMkrJBo_"
      }
    },
    {
      "cell_type": "code",
      "source": [
        "epochs = 1000\n",
        "\n",
        "for epoch in range(epochs):\n",
        "  model1.train() # train mode in pytorch -> sets requires_grad = True\n",
        "\n",
        "  y_preds = model1(X_train)\n",
        "  loss = loss_function(y_preds, Y_train)\n",
        "\n",
        "  if epoch == 500:\n",
        "    optimizer = torch.optim.SGD(model1.parameters(), lr = 0.001) # changing the lr\n",
        "\n",
        "  optimizer.zero_grad()\n",
        "\n",
        "  loss.backward()\n",
        "\n",
        "  optimizer.step()\n",
        "  if epoch % 100 == 0:\n",
        "    print(f\"Iteration : {epoch+1} | Training Loss : {loss:.2f}\")\n",
        "\n",
        "    # model1.eval()\n",
        "    with torch.no_grad():\n",
        "      model1.train()\n",
        "      y_preds = model1(X_test)\n",
        "      loss = loss_function(y_preds, Y_test)\n",
        "      print(f\"Iteration : {epoch} | Testing Loss : {loss:.2f}\")"
      ],
      "metadata": {
        "colab": {
          "base_uri": "https://localhost:8080/"
        },
        "id": "LYMlf8suJTEK",
        "outputId": "3ea66782-30f8-409a-c7b4-d2f5ec233496"
      },
      "execution_count": 326,
      "outputs": [
        {
          "output_type": "stream",
          "name": "stdout",
          "text": [
            "Iteration : 1 | Training Loss : 7.26\n",
            "Iteration : 0 | Testing Loss : 12.71\n",
            "Iteration : 101 | Training Loss : 0.39\n",
            "Iteration : 100 | Testing Loss : 0.60\n",
            "Iteration : 201 | Training Loss : 0.25\n",
            "Iteration : 200 | Testing Loss : 0.38\n",
            "Iteration : 301 | Training Loss : 0.31\n",
            "Iteration : 300 | Testing Loss : 0.18\n",
            "Iteration : 401 | Training Loss : 0.25\n",
            "Iteration : 400 | Testing Loss : 0.14\n",
            "Iteration : 501 | Training Loss : 0.37\n",
            "Iteration : 500 | Testing Loss : 0.77\n",
            "Iteration : 601 | Training Loss : 0.02\n",
            "Iteration : 600 | Testing Loss : 0.03\n",
            "Iteration : 701 | Training Loss : 0.01\n",
            "Iteration : 700 | Testing Loss : 0.09\n",
            "Iteration : 801 | Training Loss : 0.02\n",
            "Iteration : 800 | Testing Loss : 0.06\n",
            "Iteration : 901 | Training Loss : 0.01\n",
            "Iteration : 900 | Testing Loss : 0.08\n"
          ]
        }
      ]
    },
    {
      "cell_type": "code",
      "source": [
        "with torch.inference_mode():\n",
        "  y_preds = model1(X_test)\n",
        "plot_data(predictions=y_preds)\n",
        "\n",
        "with torch.inference_mode():\n",
        "  y_preds = model1(X_train)\n",
        "plt.scatter(X_train, y_preds, label = 'predictions on training data')\n",
        "plt.legend()"
      ],
      "metadata": {
        "colab": {
          "base_uri": "https://localhost:8080/",
          "height": 447
        },
        "id": "l55gFq98J2za",
        "outputId": "95489e2a-90f3-4501-843a-8ac97a19e6e1"
      },
      "execution_count": 327,
      "outputs": [
        {
          "output_type": "execute_result",
          "data": {
            "text/plain": [
              "<matplotlib.legend.Legend at 0x7f4f4c7aaa10>"
            ]
          },
          "metadata": {},
          "execution_count": 327
        },
        {
          "output_type": "display_data",
          "data": {
            "text/plain": [
              "<Figure size 640x480 with 1 Axes>"
            ],
            "image/png": "[encoded data removed]"
          },
          "metadata": {}
        }
      ]
    },
    {
      "cell_type": "code",
      "source": [],
      "metadata": {
        "id": "AflYtTCZTxdR"
      },
      "execution_count": 327,
      "outputs": []
    }
  ]
}