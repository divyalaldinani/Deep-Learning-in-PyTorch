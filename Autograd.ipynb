{
  "nbformat": 4,
  "nbformat_minor": 0,
  "metadata": {
    "colab": {
      "provenance": [],
      "authorship_tag": "ABX9TyMbE2sebDrI7Afox5Aa2nF7",
      "include_colab_link": true
    },
    "kernelspec": {
      "name": "python3",
      "display_name": "Python 3"
    },
    "language_info": {
      "name": "python"
    }
  },
  "cells": [
    {
      "cell_type": "markdown",
      "metadata": {
        "id": "view-in-github",
        "colab_type": "text"
      },
      "source": [
        "<a href=\"https://colab.research.google.com/github/divyalaldinani/Deep-Learning-in-PyTorch/blob/main/Autograd.ipynb\" target=\"_parent\"><img src=\"https://colab.research.google.com/assets/colab-badge.svg\" alt=\"Open In Colab\"/></a>"
      ]
    },
    {
      "cell_type": "markdown",
      "source": [
        "Learn the basics of Autograd by visting: [this notebook](https://colab.research.google.com/drive/1JswGdhZ8vNZEXKR0v1gRAldIBJdcom7D) or [this video](https://www.youtube.com/watch?v=M0fX15_-xrY&t=14s)"
      ],
      "metadata": {
        "id": "sjNcJFmd-x8T"
      }
    },
    {
      "cell_type": "code",
      "source": [
        "import torch\n",
        "\n",
        "x = torch.rand(3, requires_grad=True) # must specify requires_grad as True\n",
        "x"
      ],
      "metadata": {
        "colab": {
          "base_uri": "https://localhost:8080/"
        },
        "id": "uSJwetn5hsiM",
        "outputId": "011f7ee1-6189-4acb-f875-184e251d1065"
      },
      "execution_count": 1,
      "outputs": [
        {
          "output_type": "execute_result",
          "data": {
            "text/plain": [
              "tensor([0.8366, 0.5702, 0.8546], requires_grad=True)"
            ]
          },
          "metadata": {},
          "execution_count": 1
        }
      ]
    },
    {
      "cell_type": "code",
      "source": [
        "y = x+2\n",
        "y"
      ],
      "metadata": {
        "colab": {
          "base_uri": "https://localhost:8080/"
        },
        "id": "sZL7ZQlfi0Ns",
        "outputId": "87fb89ff-c253-444b-8bd7-a806a36d1865"
      },
      "execution_count": 2,
      "outputs": [
        {
          "output_type": "execute_result",
          "data": {
            "text/plain": [
              "tensor([2.8366, 2.5702, 2.8546], grad_fn=<AddBackward0>)"
            ]
          },
          "metadata": {},
          "execution_count": 2
        }
      ]
    },
    {
      "cell_type": "code",
      "source": [
        "z = y * y * 2\n",
        "z"
      ],
      "metadata": {
        "colab": {
          "base_uri": "https://localhost:8080/"
        },
        "id": "xdrQnb8Ui1Fw",
        "outputId": "0e8cc0c9-81d1-454c-cc6c-24b63c0c14ba"
      },
      "execution_count": 3,
      "outputs": [
        {
          "output_type": "execute_result",
          "data": {
            "text/plain": [
              "tensor([16.0927, 13.2123, 16.2975], grad_fn=<MulBackward0>)"
            ]
          },
          "metadata": {},
          "execution_count": 3
        }
      ]
    },
    {
      "cell_type": "code",
      "source": [
        "w = z.mean()\n",
        "w"
      ],
      "metadata": {
        "colab": {
          "base_uri": "https://localhost:8080/"
        },
        "id": "RyBT-TqUjBgu",
        "outputId": "065d078c-8ec0-435c-95a5-1f41f6d85dc3"
      },
      "execution_count": 4,
      "outputs": [
        {
          "output_type": "execute_result",
          "data": {
            "text/plain": [
              "tensor(15.2008, grad_fn=<MeanBackward0>)"
            ]
          },
          "metadata": {},
          "execution_count": 4
        }
      ]
    },
    {
      "cell_type": "code",
      "source": [
        "w.backward() #computes gradients backwards from w"
      ],
      "metadata": {
        "id": "4qiqQPfPjN34"
      },
      "execution_count": 5,
      "outputs": []
    },
    {
      "cell_type": "code",
      "source": [
        "x.grad # dz/ dx"
      ],
      "metadata": {
        "colab": {
          "base_uri": "https://localhost:8080/"
        },
        "id": "GD4WuBu1jdN9",
        "outputId": "a283c545-4b26-4993-a4bd-53f3bdf90d65"
      },
      "execution_count": 6,
      "outputs": [
        {
          "output_type": "execute_result",
          "data": {
            "text/plain": [
              "tensor([3.7821, 3.4270, 3.8061])"
            ]
          },
          "metadata": {},
          "execution_count": 6
        }
      ]
    },
    {
      "cell_type": "code",
      "source": [
        "4*y/3"
      ],
      "metadata": {
        "colab": {
          "base_uri": "https://localhost:8080/"
        },
        "id": "ECzucsZujjQG",
        "outputId": "f189f64c-a52b-480c-842a-0d472dbc6dbf"
      },
      "execution_count": 7,
      "outputs": [
        {
          "output_type": "execute_result",
          "data": {
            "text/plain": [
              "tensor([3.7821, 3.4270, 3.8061], grad_fn=<DivBackward0>)"
            ]
          },
          "metadata": {},
          "execution_count": 7
        }
      ]
    },
    {
      "cell_type": "markdown",
      "source": [
        "What if `w` is a tensor?"
      ],
      "metadata": {
        "id": "OXX0qpMnkTCT"
      }
    },
    {
      "cell_type": "code",
      "source": [
        "p = torch.rand(3, requires_grad=True)\n",
        "q = p+2\n",
        "r = 2*q*q\n",
        "v = torch.tensor([0.33333333, 0.33333333, 0.33333333], dtype=torch.float32)"
      ],
      "metadata": {
        "id": "LIbzD7WqllON"
      },
      "execution_count": 18,
      "outputs": []
    },
    {
      "cell_type": "code",
      "source": [
        "r.backward(v) #v.w"
      ],
      "metadata": {
        "id": "vScc50cUmkOQ"
      },
      "execution_count": 19,
      "outputs": []
    },
    {
      "cell_type": "code",
      "source": [
        "p.grad"
      ],
      "metadata": {
        "colab": {
          "base_uri": "https://localhost:8080/"
        },
        "id": "B_6T40zNl4SK",
        "outputId": "37d00204-cb56-46d1-ed6a-1e2ecfd6baca"
      },
      "execution_count": 20,
      "outputs": [
        {
          "output_type": "execute_result",
          "data": {
            "text/plain": [
              "tensor([3.6971, 3.0497, 2.8719])"
            ]
          },
          "metadata": {},
          "execution_count": 20
        }
      ]
    },
    {
      "cell_type": "code",
      "source": [
        "4*q/3"
      ],
      "metadata": {
        "colab": {
          "base_uri": "https://localhost:8080/"
        },
        "id": "tdxZ-z8Gl-7n",
        "outputId": "156061c0-e6a3-4a88-afd1-44a6fabe442b"
      },
      "execution_count": 22,
      "outputs": [
        {
          "output_type": "execute_result",
          "data": {
            "text/plain": [
              "tensor([3.6971, 3.0497, 2.8719], grad_fn=<DivBackward0>)"
            ]
          },
          "metadata": {},
          "execution_count": 22
        }
      ]
    },
    {
      "cell_type": "markdown",
      "source": [
        "Turning off requires_grad from a tensor/disabling the creation of gradients for a tensor"
      ],
      "metadata": {
        "id": "spoaKbSwngJ1"
      }
    },
    {
      "cell_type": "code",
      "source": [
        "x.requires_grad_(False)\n",
        "x.detach()\n",
        "x"
      ],
      "metadata": {
        "colab": {
          "base_uri": "https://localhost:8080/"
        },
        "id": "C_c9Nv-qn9Sw",
        "outputId": "c87c065c-e7e3-4711-b816-43453a364209"
      },
      "execution_count": 29,
      "outputs": [
        {
          "output_type": "execute_result",
          "data": {
            "text/plain": [
              "tensor([0.6247, 0.8119, 0.6901])"
            ]
          },
          "metadata": {},
          "execution_count": 29
        }
      ]
    },
    {
      "cell_type": "code",
      "source": [
        "with torch.no_grad():\n",
        "    y = x+2\n",
        "    print(y)"
      ],
      "metadata": {
        "colab": {
          "base_uri": "https://localhost:8080/"
        },
        "id": "rEgKuYOKn-zk",
        "outputId": "d3db3a77-ef22-459c-8e7c-b22d8d54d38c"
      },
      "execution_count": 30,
      "outputs": [
        {
          "output_type": "stream",
          "name": "stdout",
          "text": [
            "tensor([2.6247, 2.8119, 2.6901])\n"
          ]
        }
      ]
    },
    {
      "cell_type": "code",
      "source": [],
      "metadata": {
        "id": "pFSTg3rDoR5N"
      },
      "execution_count": null,
      "outputs": []
    }
  ]
}