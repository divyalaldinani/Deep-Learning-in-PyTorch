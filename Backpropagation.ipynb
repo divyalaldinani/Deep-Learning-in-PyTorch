{
  "nbformat": 4,
  "nbformat_minor": 0,
  "metadata": {
    "colab": {
      "provenance": [],
      "authorship_tag": "ABX9TyMwBrlqh4XdLwumEl+rEsBf",
      "include_colab_link": true
    },
    "kernelspec": {
      "name": "python3",
      "display_name": "Python 3"
    },
    "language_info": {
      "name": "python"
    }
  },
  "cells": [
    {
      "cell_type": "markdown",
      "metadata": {
        "id": "view-in-github",
        "colab_type": "text"
      },
      "source": [
        "<a href=\"https://colab.research.google.com/github/divyalaldinani/Deep-Learning-in-PyTorch/blob/main/Backpropagation.ipynb\" target=\"_parent\"><img src=\"https://colab.research.google.com/assets/colab-badge.svg\" alt=\"Open In Colab\"/></a>"
      ]
    },
    {
      "cell_type": "markdown",
      "source": [
        "### Using Numpy to understand what's done"
      ],
      "metadata": {
        "id": "aDmJ3xMKNC91"
      }
    },
    {
      "cell_type": "code",
      "source": [
        "import numpy as np\n",
        "\n",
        "X = np.array([1, 2, 3, 4], dtype=np.float32)\n",
        "Y = np.array([2, 4, 6, 8], dtype=np.float32)\n",
        "\n",
        "w = 0.0\n",
        "\n",
        "def forward(x):\n",
        "    return w*x\n",
        "\n",
        "def loss(y, y_predicted):\n",
        "    return ((y_predicted-y)**2).mean()\n",
        "\n",
        "def gradient(x, y, y_predicted):\n",
        "    return np.dot(2*X, (y_predicted-y)).mean()\n",
        "\n",
        "\n",
        "print(f\"Prediction before training: f(5) = {forward(5):.3f}\")"
      ],
      "metadata": {
        "colab": {
          "base_uri": "https://localhost:8080/"
        },
        "id": "6-1tdbpPKVf9",
        "outputId": "342b905f-0ebe-46da-8ea6-ea314fb9c840"
      },
      "execution_count": 41,
      "outputs": [
        {
          "output_type": "stream",
          "name": "stdout",
          "text": [
            "Prediction before training: f(5) = 0.000\n"
          ]
        }
      ]
    },
    {
      "cell_type": "code",
      "source": [
        "lr = 0.01\n",
        "n_iters = 20\n",
        "\n",
        "for epoch in range(n_iters):\n",
        "    # prediction = forward pass\n",
        "    y_pred = forward(X)\n",
        "\n",
        "    l = loss(Y, y_pred)\n",
        "\n",
        "    dw = gradient(X, Y, y_pred)\n",
        "\n",
        "    w -= lr * dw\n",
        "\n",
        "    print(f\"epoch: {epoch+1}, w = {w:.3f}, loss = {l:.8f}\")"
      ],
      "metadata": {
        "colab": {
          "base_uri": "https://localhost:8080/"
        },
        "id": "IPyeTacsLjCx",
        "outputId": "e89a0f3d-0e23-4776-eef1-b40154aa1409"
      },
      "execution_count": 42,
      "outputs": [
        {
          "output_type": "stream",
          "name": "stdout",
          "text": [
            "epoch: 1, w = 1.200, loss = 30.00000000\n",
            "epoch: 2, w = 1.680, loss = 4.79999924\n",
            "epoch: 3, w = 1.872, loss = 0.76800019\n",
            "epoch: 4, w = 1.949, loss = 0.12288000\n",
            "epoch: 5, w = 1.980, loss = 0.01966083\n",
            "epoch: 6, w = 1.992, loss = 0.00314574\n",
            "epoch: 7, w = 1.997, loss = 0.00050331\n",
            "epoch: 8, w = 1.999, loss = 0.00008053\n",
            "epoch: 9, w = 1.999, loss = 0.00001288\n",
            "epoch: 10, w = 2.000, loss = 0.00000206\n",
            "epoch: 11, w = 2.000, loss = 0.00000033\n",
            "epoch: 12, w = 2.000, loss = 0.00000005\n",
            "epoch: 13, w = 2.000, loss = 0.00000001\n",
            "epoch: 14, w = 2.000, loss = 0.00000000\n",
            "epoch: 15, w = 2.000, loss = 0.00000000\n",
            "epoch: 16, w = 2.000, loss = 0.00000000\n",
            "epoch: 17, w = 2.000, loss = 0.00000000\n",
            "epoch: 18, w = 2.000, loss = 0.00000000\n",
            "epoch: 19, w = 2.000, loss = 0.00000000\n",
            "epoch: 20, w = 2.000, loss = 0.00000000\n"
          ]
        }
      ]
    },
    {
      "cell_type": "markdown",
      "source": [
        "### Using PyTorch"
      ],
      "metadata": {
        "id": "ws5JBx5-MJok"
      }
    },
    {
      "cell_type": "code",
      "source": [
        "import torch\n",
        "\n",
        "X = torch.tensor([1, 2, 3, 4], dtype=torch.float32)\n",
        "Y = torch.tensor([2, 4, 6, 8], dtype=torch.float32)\n",
        "\n",
        "w = torch.tensor(0.0, dtype = torch.float32, requires_grad=True) # weights -> will be updated via backprop\n",
        "\n",
        "def forward(x):\n",
        "    return w*x"
      ],
      "metadata": {
        "id": "wlo3Ao3wNLh5"
      },
      "execution_count": 51,
      "outputs": []
    },
    {
      "cell_type": "code",
      "source": [
        "n_iters = 100\n",
        "lr = 0.01\n",
        "\n",
        "\n",
        "for epoch in range(n_iters):\n",
        "    y_pred = forward(X)\n",
        "\n",
        "    l =loss(Y, y_pred)\n",
        "\n",
        "    l.backward() # dl/dw\n",
        "\n",
        "    with torch.no_grad(): # not a part of computation graph\n",
        "        w -= lr * w.grad\n",
        "\n",
        "    w.grad.zero_() # otherwise it will accumulate gradients\n",
        "    if epoch % 10 == 0 :\n",
        "      print(f\"epoch: {epoch+1}, weight: {w:.3f}, loss: {l:.8f}\")"
      ],
      "metadata": {
        "colab": {
          "base_uri": "https://localhost:8080/"
        },
        "id": "urL9HhkvPZrm",
        "outputId": "977e902a-b900-4c29-baa4-e20be2ae165a"
      },
      "execution_count": 52,
      "outputs": [
        {
          "output_type": "stream",
          "name": "stdout",
          "text": [
            "epoch: 1, weight: 0.300, loss: 30.00000000\n",
            "epoch: 11, weight: 1.665, loss: 1.16278565\n",
            "epoch: 21, weight: 1.934, loss: 0.04506890\n",
            "epoch: 31, weight: 1.987, loss: 0.00174685\n",
            "epoch: 41, weight: 1.997, loss: 0.00006770\n",
            "epoch: 51, weight: 1.999, loss: 0.00000262\n",
            "epoch: 61, weight: 2.000, loss: 0.00000010\n",
            "epoch: 71, weight: 2.000, loss: 0.00000000\n",
            "epoch: 81, weight: 2.000, loss: 0.00000000\n",
            "epoch: 91, weight: 2.000, loss: 0.00000000\n"
          ]
        }
      ]
    },
    {
      "cell_type": "markdown",
      "source": [
        "### Whats a Computation Graph?"
      ],
      "metadata": {
        "id": "AfzKedi0Wna_"
      }
    },
    {
      "cell_type": "markdown",
      "source": [
        "A computation graph (also called a computational graph or computational DAG) is a dynamic structure that PyTorch builds automatically to track operations on tensors. It helps PyTorch compute gradients efficiently using automatic differentiation."
      ],
      "metadata": {
        "id": "1FvQZ_2aQBzU"
      }
    },
    {
      "cell_type": "code",
      "source": [
        "# !pip install torchviz"
      ],
      "metadata": {
        "id": "i1HO9BpNVD1W"
      },
      "execution_count": 57,
      "outputs": []
    },
    {
      "cell_type": "code",
      "source": [
        "from torchviz import make_dot\n"
      ],
      "metadata": {
        "id": "pA_kwBMXUwYP"
      },
      "execution_count": 54,
      "outputs": []
    },
    {
      "cell_type": "code",
      "source": [
        "make_dot(Y, params={\"x\": X}).render(\"computation_graph\", format=\"png\", view=True)"
      ],
      "metadata": {
        "colab": {
          "base_uri": "https://localhost:8080/",
          "height": 36
        },
        "id": "mMw1oqqoVGOz",
        "outputId": "3c902511-30f1-465a-9cec-df2e0dd82189"
      },
      "execution_count": 55,
      "outputs": [
        {
          "output_type": "execute_result",
          "data": {
            "text/plain": [
              "'computation_graph.png'"
            ],
            "application/vnd.google.colaboratory.intrinsic+json": {
              "type": "string"
            }
          },
          "metadata": {},
          "execution_count": 55
        }
      ]
    },
    {
      "cell_type": "code",
      "source": [
        "import torch\n",
        "from torchviz import make_dot  # Import visualization tool\n",
        "\n",
        "x = torch.tensor(3.0, requires_grad=True)\n",
        "\n",
        "y = x**2 + 2*x + 1\n",
        "\n",
        "y.backward()\n",
        "\n",
        "# Visualize computation graph\n",
        "make_dot(y, params={\"x\": x}).render(\"computation_graph\", format=\"png\", view=True)"
      ],
      "metadata": {
        "colab": {
          "base_uri": "https://localhost:8080/",
          "height": 36
        },
        "id": "zNV0FU0TViyp",
        "outputId": "fe0dbeff-7a92-4b0b-a03b-3b041870097e"
      },
      "execution_count": 58,
      "outputs": [
        {
          "output_type": "execute_result",
          "data": {
            "text/plain": [
              "'computation_graph.png'"
            ],
            "application/vnd.google.colaboratory.intrinsic+json": {
              "type": "string"
            }
          },
          "metadata": {},
          "execution_count": 58
        }
      ]
    },
    {
      "cell_type": "code",
      "source": [
        "import matplotlib.image as mpimg\n",
        "import matplotlib.pyplot as plt\n",
        "img=mpimg.imread('computation_graph.png')\n",
        "plt.imshow(img)\n",
        "plt.axis('off')\n",
        "plt.show()"
      ],
      "metadata": {
        "colab": {
          "base_uri": "https://localhost:8080/",
          "height": 406
        },
        "id": "Ui1huuM5V5j0",
        "outputId": "54d9faa5-e7f2-458d-fc3a-a564f34caf35"
      },
      "execution_count": 62,
      "outputs": [
        {
          "output_type": "display_data",
          "data": {
            "text/plain": [
              "<Figure size 640x480 with 1 Axes>"
            ],
            "image/png": "[encoded data removed]"
          },
          "metadata": {}
        }
      ]
    }
  ]
}