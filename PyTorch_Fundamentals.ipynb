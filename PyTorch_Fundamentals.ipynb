{
  "nbformat": 4,
  "nbformat_minor": 0,
  "metadata": {
    "colab": {
      "provenance": [],
      "gpuType": "T4",
      "include_colab_link": true
    },
    "kernelspec": {
      "name": "python3",
      "display_name": "Python 3"
    },
    "language_info": {
      "name": "python"
    },
    "accelerator": "GPU"
  },
  "cells": [
    {
      "cell_type": "markdown",
      "metadata": {
        "id": "view-in-github",
        "colab_type": "text"
      },
      "source": [
        "<a href=\"https://colab.research.google.com/github/divyalaldinani/Deep-Learning-in-PyTorch/blob/main/PyTorch_Fundamentals.ipynb\" target=\"_parent\"><img src=\"https://colab.research.google.com/assets/colab-badge.svg\" alt=\"Open In Colab\"/></a>"
      ]
    },
    {
      "cell_type": "code",
      "execution_count": 1,
      "metadata": {
        "id": "Q2h3eYzqlqU0"
      },
      "outputs": [],
      "source": [
        "import torch"
      ]
    },
    {
      "cell_type": "code",
      "source": [
        "torch.__version__"
      ],
      "metadata": {
        "colab": {
          "base_uri": "https://localhost:8080/",
          "height": 36
        },
        "id": "5sYDEzf4l4iM",
        "outputId": "16af4aea-4ccd-42c5-da0a-33d98b7fb292"
      },
      "execution_count": 2,
      "outputs": [
        {
          "output_type": "execute_result",
          "data": {
            "text/plain": [
              "'2.5.1+cu124'"
            ],
            "application/vnd.google.colaboratory.intrinsic+json": {
              "type": "string"
            }
          },
          "metadata": {},
          "execution_count": 2
        }
      ]
    },
    {
      "cell_type": "code",
      "source": [
        "scalar = torch.tensor(7)"
      ],
      "metadata": {
        "id": "XfPmK8cLmFdR"
      },
      "execution_count": 3,
      "outputs": []
    },
    {
      "cell_type": "code",
      "source": [
        "scalar"
      ],
      "metadata": {
        "colab": {
          "base_uri": "https://localhost:8080/"
        },
        "id": "Bq9-KrszmM5_",
        "outputId": "8d12022b-c921-46d7-8f9d-544e194f9aeb"
      },
      "execution_count": 4,
      "outputs": [
        {
          "output_type": "execute_result",
          "data": {
            "text/plain": [
              "tensor(7)"
            ]
          },
          "metadata": {},
          "execution_count": 4
        }
      ]
    },
    {
      "cell_type": "code",
      "source": [
        "scalar.ndim"
      ],
      "metadata": {
        "colab": {
          "base_uri": "https://localhost:8080/"
        },
        "id": "F4_pf0RZmPRf",
        "outputId": "b2e63230-7d9e-425e-df57-6cf2dc707439"
      },
      "execution_count": 5,
      "outputs": [
        {
          "output_type": "execute_result",
          "data": {
            "text/plain": [
              "0"
            ]
          },
          "metadata": {},
          "execution_count": 5
        }
      ]
    },
    {
      "cell_type": "code",
      "source": [
        "# retreive the number from the tensor\n",
        "scalar.item()"
      ],
      "metadata": {
        "colab": {
          "base_uri": "https://localhost:8080/"
        },
        "id": "An1CMlJMmRLX",
        "outputId": "c8119911-e5bc-40c2-9e4a-5a4c387eb32d"
      },
      "execution_count": 6,
      "outputs": [
        {
          "output_type": "execute_result",
          "data": {
            "text/plain": [
              "7"
            ]
          },
          "metadata": {},
          "execution_count": 6
        }
      ]
    },
    {
      "cell_type": "code",
      "source": [
        "vector = torch.tensor([7, 7])\n",
        "vector"
      ],
      "metadata": {
        "colab": {
          "base_uri": "https://localhost:8080/"
        },
        "id": "2OZWWOeKmW3e",
        "outputId": "216a33aa-2b5f-478e-b072-31f93f345001"
      },
      "execution_count": 7,
      "outputs": [
        {
          "output_type": "execute_result",
          "data": {
            "text/plain": [
              "tensor([7, 7])"
            ]
          },
          "metadata": {},
          "execution_count": 7
        }
      ]
    },
    {
      "cell_type": "code",
      "source": [
        "vector.ndim"
      ],
      "metadata": {
        "colab": {
          "base_uri": "https://localhost:8080/"
        },
        "id": "CbOhcXiXmcIj",
        "outputId": "4f319a72-a882-4f5a-8213-b814c1cf5f5e"
      },
      "execution_count": 8,
      "outputs": [
        {
          "output_type": "execute_result",
          "data": {
            "text/plain": [
              "1"
            ]
          },
          "metadata": {},
          "execution_count": 8
        }
      ]
    },
    {
      "cell_type": "code",
      "source": [
        "vector.shape"
      ],
      "metadata": {
        "colab": {
          "base_uri": "https://localhost:8080/"
        },
        "id": "RPiwSXUAmdXX",
        "outputId": "84bf0214-026c-4d9b-930a-48e426559582"
      },
      "execution_count": 9,
      "outputs": [
        {
          "output_type": "execute_result",
          "data": {
            "text/plain": [
              "torch.Size([2])"
            ]
          },
          "metadata": {},
          "execution_count": 9
        }
      ]
    },
    {
      "cell_type": "code",
      "source": [
        "matrix = torch.tensor([[7, 8],\n",
        "                       [9, 10]])\n",
        "matrix"
      ],
      "metadata": {
        "colab": {
          "base_uri": "https://localhost:8080/"
        },
        "id": "gdz8psuTmgGp",
        "outputId": "6efc927d-3d33-499a-d38c-da988514175c"
      },
      "execution_count": 10,
      "outputs": [
        {
          "output_type": "execute_result",
          "data": {
            "text/plain": [
              "tensor([[ 7,  8],\n",
              "        [ 9, 10]])"
            ]
          },
          "metadata": {},
          "execution_count": 10
        }
      ]
    },
    {
      "cell_type": "code",
      "source": [
        "matrix.ndim"
      ],
      "metadata": {
        "colab": {
          "base_uri": "https://localhost:8080/"
        },
        "id": "DTd9xcGJmlG3",
        "outputId": "2c568044-5a4f-461d-d8ce-eabe9b1a79cc"
      },
      "execution_count": 11,
      "outputs": [
        {
          "output_type": "execute_result",
          "data": {
            "text/plain": [
              "2"
            ]
          },
          "metadata": {},
          "execution_count": 11
        }
      ]
    },
    {
      "cell_type": "code",
      "source": [
        "matrix.shape"
      ],
      "metadata": {
        "colab": {
          "base_uri": "https://localhost:8080/"
        },
        "id": "G3paqHFzmmfH",
        "outputId": "28efc95f-4fb6-43a9-a10a-e4d14b0dfc05"
      },
      "execution_count": 12,
      "outputs": [
        {
          "output_type": "execute_result",
          "data": {
            "text/plain": [
              "torch.Size([2, 2])"
            ]
          },
          "metadata": {},
          "execution_count": 12
        }
      ]
    },
    {
      "cell_type": "code",
      "source": [
        "matrix = torch.tensor([[1]])"
      ],
      "metadata": {
        "id": "cLT3RhW2movW"
      },
      "execution_count": 13,
      "outputs": []
    },
    {
      "cell_type": "code",
      "source": [
        "matrix.item()"
      ],
      "metadata": {
        "colab": {
          "base_uri": "https://localhost:8080/"
        },
        "id": "bmCHpvTtmpjH",
        "outputId": "8f6b39d1-27f6-490a-f7d3-3ad694400390"
      },
      "execution_count": 14,
      "outputs": [
        {
          "output_type": "execute_result",
          "data": {
            "text/plain": [
              "1"
            ]
          },
          "metadata": {},
          "execution_count": 14
        }
      ]
    },
    {
      "cell_type": "code",
      "source": [
        "tensor = torch.tensor([[[1, 2, 3],\n",
        "                        [3, 6, 9],\n",
        "                        [4, 8, 12]]])\n",
        "tensor.shape"
      ],
      "metadata": {
        "colab": {
          "base_uri": "https://localhost:8080/"
        },
        "id": "0sB5MJEpmxLf",
        "outputId": "b690bd1b-c71b-4f36-e222-2362b5561ec5"
      },
      "execution_count": 15,
      "outputs": [
        {
          "output_type": "execute_result",
          "data": {
            "text/plain": [
              "torch.Size([1, 3, 3])"
            ]
          },
          "metadata": {},
          "execution_count": 15
        }
      ]
    },
    {
      "cell_type": "code",
      "source": [
        "tensor.ndim"
      ],
      "metadata": {
        "colab": {
          "base_uri": "https://localhost:8080/"
        },
        "id": "Tkg6NPozm5wm",
        "outputId": "879c2a8d-df77-4302-cfd6-fa55c874d614"
      },
      "execution_count": 16,
      "outputs": [
        {
          "output_type": "execute_result",
          "data": {
            "text/plain": [
              "3"
            ]
          },
          "metadata": {},
          "execution_count": 16
        }
      ]
    },
    {
      "cell_type": "markdown",
      "source": [
        "https://raw.githubusercontent.com/mrdbourke/pytorch-deep-learning/main/images/00-scalar-vector-matrix-tensor.png"
      ],
      "metadata": {
        "id": "Tk2MdxFrm_SK"
      }
    },
    {
      "cell_type": "markdown",
      "source": [
        "## Random Tensors"
      ],
      "metadata": {
        "id": "QXgjhJ61nA8F"
      }
    },
    {
      "cell_type": "code",
      "source": [
        "tensor = torch.rand(size = (3, 4))\n",
        "tensor, tensor.dtype"
      ],
      "metadata": {
        "colab": {
          "base_uri": "https://localhost:8080/"
        },
        "id": "fmqdaj7AnG_m",
        "outputId": "70b74fa2-e6c0-4aeb-dd8c-32a4531ca909"
      },
      "execution_count": 17,
      "outputs": [
        {
          "output_type": "execute_result",
          "data": {
            "text/plain": [
              "(tensor([[0.4780, 0.8429, 0.8330, 0.2208],\n",
              "         [0.4484, 0.2780, 0.9931, 0.7269],\n",
              "         [0.2463, 0.6927, 0.2683, 0.5697]]),\n",
              " torch.float32)"
            ]
          },
          "metadata": {},
          "execution_count": 17
        }
      ]
    },
    {
      "cell_type": "code",
      "source": [
        "tensor.ndim, tensor.shape"
      ],
      "metadata": {
        "colab": {
          "base_uri": "https://localhost:8080/"
        },
        "id": "NitWBDd-nOHf",
        "outputId": "8bbb903f-0bf8-419d-80d6-9e35e92b667b"
      },
      "execution_count": 18,
      "outputs": [
        {
          "output_type": "execute_result",
          "data": {
            "text/plain": [
              "(2, torch.Size([3, 4]))"
            ]
          },
          "metadata": {},
          "execution_count": 18
        }
      ]
    },
    {
      "cell_type": "markdown",
      "source": [
        "### Random Tensors of zeros and ones"
      ],
      "metadata": {
        "id": "VIkPWKainR0H"
      }
    },
    {
      "cell_type": "code",
      "source": [
        "zeros = torch.zeros(size=(3, 4))\n",
        "zeros, zeros.dtype"
      ],
      "metadata": {
        "colab": {
          "base_uri": "https://localhost:8080/"
        },
        "id": "69E5aKTonY3p",
        "outputId": "40fb376a-0323-4952-9a4a-408a95d802ed"
      },
      "execution_count": 19,
      "outputs": [
        {
          "output_type": "execute_result",
          "data": {
            "text/plain": [
              "(tensor([[0., 0., 0., 0.],\n",
              "         [0., 0., 0., 0.],\n",
              "         [0., 0., 0., 0.]]),\n",
              " torch.float32)"
            ]
          },
          "metadata": {},
          "execution_count": 19
        }
      ]
    },
    {
      "cell_type": "code",
      "source": [
        "ones = torch.ones(size=(3, 4))\n",
        "ones, ones.dtype"
      ],
      "metadata": {
        "colab": {
          "base_uri": "https://localhost:8080/"
        },
        "id": "phh82IsYngY5",
        "outputId": "3a405f30-356a-4452-eafe-c067e489ab67"
      },
      "execution_count": 20,
      "outputs": [
        {
          "output_type": "execute_result",
          "data": {
            "text/plain": [
              "(tensor([[1., 1., 1., 1.],\n",
              "         [1., 1., 1., 1.],\n",
              "         [1., 1., 1., 1.]]),\n",
              " torch.float32)"
            ]
          },
          "metadata": {},
          "execution_count": 20
        }
      ]
    },
    {
      "cell_type": "markdown",
      "source": [
        "## Range tensors"
      ],
      "metadata": {
        "id": "XyUN-aCmnlmk"
      }
    },
    {
      "cell_type": "code",
      "source": [
        "# numbers starting with specific numbers and having diff as specified and diff = step size between them\n",
        "range_tensor = torch.arange(start = 0, end=10, step=0.5)\n",
        "range_tensor"
      ],
      "metadata": {
        "colab": {
          "base_uri": "https://localhost:8080/"
        },
        "id": "NgbRr6IYoS-P",
        "outputId": "6d75c3a5-62b9-4956-c48a-71daaa3f99f9"
      },
      "execution_count": 21,
      "outputs": [
        {
          "output_type": "execute_result",
          "data": {
            "text/plain": [
              "tensor([0.0000, 0.5000, 1.0000, 1.5000, 2.0000, 2.5000, 3.0000, 3.5000, 4.0000,\n",
              "        4.5000, 5.0000, 5.5000, 6.0000, 6.5000, 7.0000, 7.5000, 8.0000, 8.5000,\n",
              "        9.0000, 9.5000])"
            ]
          },
          "metadata": {},
          "execution_count": 21
        }
      ]
    },
    {
      "cell_type": "code",
      "source": [
        "range_tensor = torch.arange(start = 0, end= 10, step=1)\n",
        "range_tensor"
      ],
      "metadata": {
        "colab": {
          "base_uri": "https://localhost:8080/"
        },
        "id": "13xXr10yobFv",
        "outputId": "2b279ea3-9143-40d8-f99d-8a4939ffdb57"
      },
      "execution_count": 22,
      "outputs": [
        {
          "output_type": "execute_result",
          "data": {
            "text/plain": [
              "tensor([0, 1, 2, 3, 4, 5, 6, 7, 8, 9])"
            ]
          },
          "metadata": {},
          "execution_count": 22
        }
      ]
    },
    {
      "cell_type": "code",
      "source": [
        "# random integers in a range\n",
        "random_range_tensor = torch.randint(1, 10, (5,), dtype = torch.float32)\n",
        "random_range_tensor"
      ],
      "metadata": {
        "colab": {
          "base_uri": "https://localhost:8080/"
        },
        "id": "qRxAcz4sop84",
        "outputId": "af3b9acb-4fbf-442d-abe1-f5fe60a5014b"
      },
      "execution_count": 23,
      "outputs": [
        {
          "output_type": "execute_result",
          "data": {
            "text/plain": [
              "tensor([2., 8., 5., 8., 8.])"
            ]
          },
          "metadata": {},
          "execution_count": 23
        }
      ]
    },
    {
      "cell_type": "code",
      "source": [
        "# random float numbers in a range -> torch.rand() returns UNIFORM distribution\n",
        "random_range_tensor = torch.rand(5)*(100-65)+65 # range - [65, 100)\n",
        "random_range_tensor"
      ],
      "metadata": {
        "colab": {
          "base_uri": "https://localhost:8080/"
        },
        "id": "sjBEq5DfpUAf",
        "outputId": "0c9de2d4-a6c3-4f2d-cd11-e9b60824a7f1"
      },
      "execution_count": 24,
      "outputs": [
        {
          "output_type": "execute_result",
          "data": {
            "text/plain": [
              "tensor([89.9659, 66.7210, 88.8395, 66.2874, 72.7093])"
            ]
          },
          "metadata": {},
          "execution_count": 24
        }
      ]
    },
    {
      "cell_type": "code",
      "source": [
        "# random float numbers in a range -> torch.randn() returns NORMAL/GUASSIAN distribution\n",
        "tensor = torch.randn(5) * 2 + 5 # mean = 5, std dev = 2\n",
        "tensor"
      ],
      "metadata": {
        "colab": {
          "base_uri": "https://localhost:8080/"
        },
        "id": "XQwhviLzpuzh",
        "outputId": "adc996db-e2ac-40c5-a0bf-593bdc10077b"
      },
      "execution_count": 25,
      "outputs": [
        {
          "output_type": "execute_result",
          "data": {
            "text/plain": [
              "tensor([3.9660, 2.3469, 3.5036, 6.6934, 6.1635])"
            ]
          },
          "metadata": {},
          "execution_count": 25
        }
      ]
    },
    {
      "cell_type": "markdown",
      "source": [
        "### Data types in tensors"
      ],
      "metadata": {
        "id": "e658eSpXqnPC"
      }
    },
    {
      "cell_type": "markdown",
      "source": [
        "#### Default dtype in torch tensor is float32, the datatype, size and device of the tensors must be approapriate if you want to perform any operation between them"
      ],
      "metadata": {
        "id": "oq1tGfABspb1"
      }
    },
    {
      "cell_type": "code",
      "source": [
        "float_16_tensor = torch.tensor([3., 6., 9.], dtype = torch.float16)\n",
        "float_16_tensor"
      ],
      "metadata": {
        "colab": {
          "base_uri": "https://localhost:8080/"
        },
        "id": "nnJF89mDs5PK",
        "outputId": "350d7866-a633-4799-c70c-19f325b2b80a"
      },
      "execution_count": 26,
      "outputs": [
        {
          "output_type": "execute_result",
          "data": {
            "text/plain": [
              "tensor([3., 6., 9.], dtype=torch.float16)"
            ]
          },
          "metadata": {},
          "execution_count": 26
        }
      ]
    },
    {
      "cell_type": "markdown",
      "source": [
        "### Tensor Operations"
      ],
      "metadata": {
        "id": "UCCpNw0zs_xb"
      }
    },
    {
      "cell_type": "markdown",
      "source": [
        "\n",
        "* Addition\n",
        "* Subtraction\n",
        "* Multiplication (element-wise) / dot product\n",
        "* Division\n",
        "* Matrix Multiplication"
      ],
      "metadata": {
        "id": "JtP4EJLhtD6T"
      }
    },
    {
      "cell_type": "code",
      "source": [
        "tensor = torch.tensor([1, 2, 3])\n",
        "tensor + 10 # performed on the copy of tensor, original tensor unchanged"
      ],
      "metadata": {
        "colab": {
          "base_uri": "https://localhost:8080/"
        },
        "id": "0tHYZmLitdFX",
        "outputId": "1a308b9f-fbba-4868-d6f6-0a8c4573d00e"
      },
      "execution_count": 27,
      "outputs": [
        {
          "output_type": "execute_result",
          "data": {
            "text/plain": [
              "tensor([11, 12, 13])"
            ]
          },
          "metadata": {},
          "execution_count": 27
        }
      ]
    },
    {
      "cell_type": "code",
      "source": [
        "tensor * 10 # performed on the copy of tensor, original tensor unchanged"
      ],
      "metadata": {
        "colab": {
          "base_uri": "https://localhost:8080/"
        },
        "id": "Og8_sCrZtrjm",
        "outputId": "858b9790-1883-46db-a7a6-dc76b30307a0"
      },
      "execution_count": 28,
      "outputs": [
        {
          "output_type": "execute_result",
          "data": {
            "text/plain": [
              "tensor([10, 20, 30])"
            ]
          },
          "metadata": {},
          "execution_count": 28
        }
      ]
    },
    {
      "cell_type": "code",
      "source": [
        "tensor"
      ],
      "metadata": {
        "colab": {
          "base_uri": "https://localhost:8080/"
        },
        "id": "2Z8JvQ1ettxa",
        "outputId": "59a890b6-30a0-4f50-c225-13c517cec7e5"
      },
      "execution_count": 29,
      "outputs": [
        {
          "output_type": "execute_result",
          "data": {
            "text/plain": [
              "tensor([1, 2, 3])"
            ]
          },
          "metadata": {},
          "execution_count": 29
        }
      ]
    },
    {
      "cell_type": "code",
      "source": [
        "torch.multiply(tensor, 10)"
      ],
      "metadata": {
        "colab": {
          "base_uri": "https://localhost:8080/"
        },
        "id": "1ETVwZUrtvEo",
        "outputId": "110aeb1f-c743-4860-9729-9c9b879d6873"
      },
      "execution_count": 30,
      "outputs": [
        {
          "output_type": "execute_result",
          "data": {
            "text/plain": [
              "tensor([10, 20, 30])"
            ]
          },
          "metadata": {},
          "execution_count": 30
        }
      ]
    },
    {
      "cell_type": "code",
      "source": [
        "tensor # original tensor -> unchanged"
      ],
      "metadata": {
        "colab": {
          "base_uri": "https://localhost:8080/"
        },
        "id": "vJw8tPGWuASg",
        "outputId": "ce729192-3556-4984-8e2b-3d17d3238562"
      },
      "execution_count": 31,
      "outputs": [
        {
          "output_type": "execute_result",
          "data": {
            "text/plain": [
              "tensor([1, 2, 3])"
            ]
          },
          "metadata": {},
          "execution_count": 31
        }
      ]
    },
    {
      "cell_type": "code",
      "source": [
        "tensor * tensor # element wise multiplication"
      ],
      "metadata": {
        "colab": {
          "base_uri": "https://localhost:8080/"
        },
        "id": "ZbcrtsouuBI7",
        "outputId": "11d606bd-87c7-4886-f881-962b20cc492d"
      },
      "execution_count": 32,
      "outputs": [
        {
          "output_type": "execute_result",
          "data": {
            "text/plain": [
              "tensor([1, 4, 9])"
            ]
          },
          "metadata": {},
          "execution_count": 32
        }
      ]
    },
    {
      "cell_type": "markdown",
      "source": [
        "#### Matrix Multiplication\n",
        "using `torch.matmul()` method.\n",
        "Main rules for inner dimensions must match:\n",
        "* Scalar () x () -> ()\n",
        "* (m,) x (m,) -> Not allowed\n",
        "* (m,) x (m, n) -> (n,)\n",
        "* (m, n) x (n,) -> (m,)\n",
        "* (m, k) x (k, n) -> (m, n)\n",
        "* (b, m, k) x (k,) -> (b, m)\n",
        "* (b, m, k) x (k, n) -> (b, m, n)\n",
        "* (b, m, k) x (b, k, n) -> (b, m, n)\n",
        "* (b1, b2, m, k) x (k,) -> (b1, b2, m)\n",
        "* (b1, b2, m , k) x (k, n) -> (b1, b2, m, n)\n",
        "* (b, m, k) x (b, k, n, p) -> (b, m, n, p)\n",
        "* (b1, b2, m, k) x (b1, b2, k, n) -> (b1, b2, m, n)"
      ],
      "metadata": {
        "id": "uZehNKEYuIMb"
      }
    },
    {
      "cell_type": "markdown",
      "source": [
        "In case of 4d tensor x 4d tensor:-\n",
        "* We can think of (b1, b2) as b1 × b2 independent batch groups.\n",
        "* Each batch (m, k) from A gets multiplied with the corresponding batch (k, n) from B.\n",
        "* This results in a (m, n) matrix for each batch.\n",
        "* Since there are b1 × b2 total batches, the output shape is (b1, b2, m, n).\n",
        "\n",
        "Similarly, you can think of how 4d tensor x 3d tensor or 3d tensor x 3d tesnor works."
      ],
      "metadata": {
        "id": "FZP9UG-wuQAQ"
      }
    },
    {
      "cell_type": "code",
      "source": [
        "tensor.matmul(tensor)"
      ],
      "metadata": {
        "colab": {
          "base_uri": "https://localhost:8080/"
        },
        "id": "WAwIlKoR15XX",
        "outputId": "20a52f92-55ad-4bdb-8653-92f621ea6a21"
      },
      "execution_count": 33,
      "outputs": [
        {
          "output_type": "execute_result",
          "data": {
            "text/plain": [
              "tensor(14)"
            ]
          },
          "metadata": {},
          "execution_count": 33
        }
      ]
    },
    {
      "cell_type": "code",
      "source": [
        "tensor @ tensor"
      ],
      "metadata": {
        "colab": {
          "base_uri": "https://localhost:8080/"
        },
        "id": "xb3QDI-8kVU0",
        "outputId": "35709e1b-52bb-4d13-b574-925d372e8df4"
      },
      "execution_count": 34,
      "outputs": [
        {
          "output_type": "execute_result",
          "data": {
            "text/plain": [
              "tensor(14)"
            ]
          },
          "metadata": {},
          "execution_count": 34
        }
      ]
    },
    {
      "cell_type": "code",
      "source": [
        "A = torch.randn(3, 2)\n",
        "B = torch.randn(3, 2)"
      ],
      "metadata": {
        "id": "-Gfnqor9lacZ"
      },
      "execution_count": 35,
      "outputs": []
    },
    {
      "cell_type": "code",
      "source": [
        "# A @ B"
      ],
      "metadata": {
        "id": "NM1k1-hsnk0E"
      },
      "execution_count": 36,
      "outputs": []
    },
    {
      "cell_type": "code",
      "source": [
        "A @ B.T"
      ],
      "metadata": {
        "id": "JTdZseZJnsm4",
        "outputId": "f45d3520-74b8-43a0-aa1c-e2391c33a164",
        "colab": {
          "base_uri": "https://localhost:8080/"
        }
      },
      "execution_count": 37,
      "outputs": [
        {
          "output_type": "execute_result",
          "data": {
            "text/plain": [
              "tensor([[ 0.2897, -0.5791,  0.9477],\n",
              "        [-0.0900, -0.1300, -0.6544],\n",
              "        [-0.8454,  2.2712, -2.0894]])"
            ]
          },
          "metadata": {},
          "execution_count": 37
        }
      ]
    },
    {
      "cell_type": "markdown",
      "source": [
        "### torch.nn.Linear()"
      ],
      "metadata": {
        "id": "tFlVQgxnnvM7"
      }
    },
    {
      "cell_type": "markdown",
      "source": [
        "Understanding torch.nn.Linear(in_features=2, out_features=6)\n",
        "This defines a fully connected (linear) layer in PyTorch that transforms an input tensor of size 2 into an output tensor of size 6 using a learnable weight matrix and a bias.<br>\n",
        "\n",
        "What Happens Internally?<br>\n",
        "* Weight Matrix (W): A learnable matrix of shape (6, 2) (since output features = 6, input features = 2).\n",
        "* Bias Vector (b): A learnable vector of shape (6,) (one bias per output feature).\n",
        "* Forward Pass Computation:\n",
        "Given an input x of shape (batch_size, 2), the layer computes:\n",
        "𝑦=𝑥𝑊^T+𝑏<br>\n",
        "where:<br>\n",
        "x is of shape (batch_size, 2)<br>\n",
        "W^T (transpose of W) is of shape (2, 6)<br>\n",
        "b is of shape (6,), broadcasted across the batch<br>\n",
        "y is of shape (batch_size, 6)\n"
      ],
      "metadata": {
        "id": "DL9BywdEs5Ot"
      }
    },
    {
      "cell_type": "code",
      "source": [
        "torch.manual_seed(42)\n",
        "linear = torch.nn.Linear(in_features=2, out_features=6)"
      ],
      "metadata": {
        "id": "Aes1J8SXrvwp"
      },
      "execution_count": 38,
      "outputs": []
    },
    {
      "cell_type": "code",
      "source": [
        "x = A\n",
        "output = linear(A) # foward pass through linear layer"
      ],
      "metadata": {
        "id": "-N1-dUuWsE5L"
      },
      "execution_count": 39,
      "outputs": []
    },
    {
      "cell_type": "code",
      "source": [
        "output"
      ],
      "metadata": {
        "colab": {
          "base_uri": "https://localhost:8080/"
        },
        "id": "JTDNYZ4AsHHp",
        "outputId": "236022f4-e1de-45d7-bb11-9e7419f9559d"
      },
      "execution_count": 40,
      "outputs": [
        {
          "output_type": "execute_result",
          "data": {
            "text/plain": [
              "tensor([[ 0.0237, -0.3164,  0.2721, -0.3198,  0.7845, -0.0980],\n",
              "        [ 0.9101,  0.7551,  0.5215,  0.3936, -0.1295,  0.0434],\n",
              "        [ 1.5405,  0.3011,  0.2431, -0.2560,  0.9734,  0.9284]],\n",
              "       grad_fn=<AddmmBackward0>)"
            ]
          },
          "metadata": {},
          "execution_count": 40
        }
      ]
    },
    {
      "cell_type": "markdown",
      "source": [
        "### finding min, max, mean, sum etc (AGGREGATION)"
      ],
      "metadata": {
        "id": "vZgEj7JasKGL"
      }
    },
    {
      "cell_type": "code",
      "source": [
        "x = torch.randn(100, 20)\n",
        "x"
      ],
      "metadata": {
        "colab": {
          "base_uri": "https://localhost:8080/"
        },
        "id": "t9eOkD-ht_KR",
        "outputId": "d870c68b-7a42-4c30-b535-a95fd5e1f512"
      },
      "execution_count": 41,
      "outputs": [
        {
          "output_type": "execute_result",
          "data": {
            "text/plain": [
              "tensor([[-0.4974,  0.4396, -0.7581,  ...,  1.7174,  0.3189, -0.4245],\n",
              "        [ 0.3057, -0.7746,  0.0349,  ..., -0.7360, -0.8371, -0.9224],\n",
              "        [-0.0635,  0.6756, -0.0978,  ...,  0.4263,  0.5750, -0.6417],\n",
              "        ...,\n",
              "        [ 0.1637,  1.3456, -1.1182,  ..., -0.1790, -0.1972, -0.6042],\n",
              "        [-1.7987, -0.6078, -0.5876,  ...,  0.9967,  1.0238, -1.2133],\n",
              "        [ 0.9745,  0.4532,  1.1673,  ...,  0.2250, -0.5818,  0.8647]])"
            ]
          },
          "metadata": {},
          "execution_count": 41
        }
      ]
    },
    {
      "cell_type": "code",
      "source": [
        "x.min()"
      ],
      "metadata": {
        "colab": {
          "base_uri": "https://localhost:8080/"
        },
        "id": "te5YhcISuEF2",
        "outputId": "28d19a0c-f0ce-4896-fb66-7ff4951f6644"
      },
      "execution_count": 42,
      "outputs": [
        {
          "output_type": "execute_result",
          "data": {
            "text/plain": [
              "tensor(-3.1063)"
            ]
          },
          "metadata": {},
          "execution_count": 42
        }
      ]
    },
    {
      "cell_type": "code",
      "source": [
        "x.max()"
      ],
      "metadata": {
        "colab": {
          "base_uri": "https://localhost:8080/"
        },
        "id": "KyNshPmCuFYA",
        "outputId": "de7df6d8-99f7-45b4-8473-adc027983e2f"
      },
      "execution_count": 43,
      "outputs": [
        {
          "output_type": "execute_result",
          "data": {
            "text/plain": [
              "tensor(3.4456)"
            ]
          },
          "metadata": {},
          "execution_count": 43
        }
      ]
    },
    {
      "cell_type": "code",
      "source": [
        "x.type(torch.float32).mean()"
      ],
      "metadata": {
        "colab": {
          "base_uri": "https://localhost:8080/"
        },
        "id": "BhDLlRHHvNyg",
        "outputId": "92d93120-d519-4156-dea1-042372616c84"
      },
      "execution_count": 44,
      "outputs": [
        {
          "output_type": "execute_result",
          "data": {
            "text/plain": [
              "tensor(0.0253)"
            ]
          },
          "metadata": {},
          "execution_count": 44
        }
      ]
    },
    {
      "cell_type": "code",
      "source": [
        "x.sum()"
      ],
      "metadata": {
        "colab": {
          "base_uri": "https://localhost:8080/"
        },
        "id": "zk91tBU5vST1",
        "outputId": "2459bf9f-1fec-491c-9289-da39ada3df4f"
      },
      "execution_count": 45,
      "outputs": [
        {
          "output_type": "execute_result",
          "data": {
            "text/plain": [
              "tensor(50.5648)"
            ]
          },
          "metadata": {},
          "execution_count": 45
        }
      ]
    },
    {
      "cell_type": "markdown",
      "source": [
        "using `torch` methods"
      ],
      "metadata": {
        "id": "RMg5HthXvTG9"
      }
    },
    {
      "cell_type": "code",
      "source": [
        "torch.max(x), torch.min(x), torch.mean(x), torch.sum(x)"
      ],
      "metadata": {
        "colab": {
          "base_uri": "https://localhost:8080/"
        },
        "id": "kBy2xW7jvZv6",
        "outputId": "85083a02-6ac8-4ef9-e171-b011421ec992"
      },
      "execution_count": 46,
      "outputs": [
        {
          "output_type": "execute_result",
          "data": {
            "text/plain": [
              "(tensor(3.4456), tensor(-3.1063), tensor(0.0253), tensor(50.5648))"
            ]
          },
          "metadata": {},
          "execution_count": 46
        }
      ]
    },
    {
      "cell_type": "markdown",
      "source": [
        "### Positional min/max"
      ],
      "metadata": {
        "id": "VazI9pn2vh80"
      }
    },
    {
      "cell_type": "code",
      "source": [
        "tensor = torch.arange(10, 100, 10)\n",
        "tensor"
      ],
      "metadata": {
        "colab": {
          "base_uri": "https://localhost:8080/"
        },
        "id": "8qwuqJyHvost",
        "outputId": "0c48120e-d24c-430c-9ea6-6b7b9bb7f658"
      },
      "execution_count": 47,
      "outputs": [
        {
          "output_type": "execute_result",
          "data": {
            "text/plain": [
              "tensor([10, 20, 30, 40, 50, 60, 70, 80, 90])"
            ]
          },
          "metadata": {},
          "execution_count": 47
        }
      ]
    },
    {
      "cell_type": "code",
      "source": [
        "tensor.argmax(), tensor.argmin()"
      ],
      "metadata": {
        "colab": {
          "base_uri": "https://localhost:8080/"
        },
        "id": "bmvcf0ouvsNQ",
        "outputId": "c818d4ae-091c-486b-d707-19c7bb383412"
      },
      "execution_count": 48,
      "outputs": [
        {
          "output_type": "execute_result",
          "data": {
            "text/plain": [
              "(tensor(8), tensor(0))"
            ]
          },
          "metadata": {},
          "execution_count": 48
        }
      ]
    },
    {
      "cell_type": "markdown",
      "source": [
        "### Change tensor datatype"
      ],
      "metadata": {
        "id": "PoShItNJvxEG"
      }
    },
    {
      "cell_type": "code",
      "source": [
        "tensor = torch.randn(3, 10)\n",
        "tensor.dtype"
      ],
      "metadata": {
        "colab": {
          "base_uri": "https://localhost:8080/"
        },
        "id": "tpOzGxPOv7h6",
        "outputId": "12c65c35-172a-4ac6-d48d-446fff12bcf3"
      },
      "execution_count": 49,
      "outputs": [
        {
          "output_type": "execute_result",
          "data": {
            "text/plain": [
              "torch.float32"
            ]
          },
          "metadata": {},
          "execution_count": 49
        }
      ]
    },
    {
      "cell_type": "code",
      "source": [
        "tensor_float16 = tensor.type(torch.float16)\n",
        "tensor_float16"
      ],
      "metadata": {
        "colab": {
          "base_uri": "https://localhost:8080/"
        },
        "id": "jOwFNme7wBIE",
        "outputId": "8a6b9de9-1cf1-4eaa-ddb9-fd4c800d18ac"
      },
      "execution_count": 50,
      "outputs": [
        {
          "output_type": "execute_result",
          "data": {
            "text/plain": [
              "tensor([[ 0.6934, -0.4358, -0.9824, -0.9062,  1.2598,  0.3462,  0.2145, -0.2671,\n",
              "          0.4604,  1.1787],\n",
              "        [-1.0107, -0.6201, -1.4551, -0.5898, -0.6001, -0.0580,  0.2976,  1.6328,\n",
              "         -1.4951, -0.2998],\n",
              "        [-0.4146, -0.7832, -1.5078, -1.3662,  0.9639,  0.0405,  0.2469,  0.1125,\n",
              "         -0.5352,  0.9170]], dtype=torch.float16)"
            ]
          },
          "metadata": {},
          "execution_count": 50
        }
      ]
    },
    {
      "cell_type": "code",
      "source": [
        "tensor_int8 = tensor.type(torch.int8)\n",
        "tensor_int8"
      ],
      "metadata": {
        "colab": {
          "base_uri": "https://localhost:8080/"
        },
        "id": "8Ta2H87jwOqO",
        "outputId": "32655a36-cfba-4734-dc3b-8eba0b235661"
      },
      "execution_count": 51,
      "outputs": [
        {
          "output_type": "execute_result",
          "data": {
            "text/plain": [
              "tensor([[ 0,  0,  0,  0,  1,  0,  0,  0,  0,  1],\n",
              "        [-1,  0, -1,  0,  0,  0,  0,  1, -1,  0],\n",
              "        [ 0,  0, -1, -1,  0,  0,  0,  0,  0,  0]], dtype=torch.int8)"
            ]
          },
          "metadata": {},
          "execution_count": 51
        }
      ]
    },
    {
      "cell_type": "code",
      "source": [
        "tensor"
      ],
      "metadata": {
        "colab": {
          "base_uri": "https://localhost:8080/"
        },
        "id": "XnoGakGWwYt-",
        "outputId": "e3560818-0395-4fd4-e4ad-80e5b4b296e4"
      },
      "execution_count": 52,
      "outputs": [
        {
          "output_type": "execute_result",
          "data": {
            "text/plain": [
              "tensor([[ 0.6935, -0.4359, -0.9825, -0.9063,  1.2596,  0.3463,  0.2145, -0.2671,\n",
              "          0.4603,  1.1791],\n",
              "        [-1.0106, -0.6203, -1.4549, -0.5898, -0.6002, -0.0580,  0.2975,  1.6328,\n",
              "         -1.4954, -0.2997],\n",
              "        [-0.4145, -0.7833, -1.5083, -1.3664,  0.9640,  0.0405,  0.2469,  0.1125,\n",
              "         -0.5349,  0.9171]])"
            ]
          },
          "metadata": {},
          "execution_count": 52
        }
      ]
    },
    {
      "cell_type": "code",
      "source": [
        "tensor.dtype"
      ],
      "metadata": {
        "colab": {
          "base_uri": "https://localhost:8080/"
        },
        "id": "CIwoYHtSwg0r",
        "outputId": "c15a21be-f9ad-44ea-dbf9-37c178dcd75c"
      },
      "execution_count": 53,
      "outputs": [
        {
          "output_type": "execute_result",
          "data": {
            "text/plain": [
              "torch.float32"
            ]
          },
          "metadata": {},
          "execution_count": 53
        }
      ]
    },
    {
      "cell_type": "markdown",
      "source": [
        "### Reshaping, stacking, squeezing and unsqueezing"
      ],
      "metadata": {
        "id": "gUtWw2C6wkne"
      }
    },
    {
      "cell_type": "markdown",
      "source": [
        "![image.png](data:image/png;base64,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)"
      ],
      "metadata": {
        "id": "1xBiu4yow5ME"
      }
    },
    {
      "cell_type": "code",
      "source": [
        "x = torch.randn(1, 10)\n",
        "x"
      ],
      "metadata": {
        "colab": {
          "base_uri": "https://localhost:8080/"
        },
        "id": "HVyM2wkVwvPV",
        "outputId": "c8391dcd-b2e6-4f6b-f764-39b7731de617"
      },
      "execution_count": 54,
      "outputs": [
        {
          "output_type": "execute_result",
          "data": {
            "text/plain": [
              "tensor([[ 2.1046,  0.8042, -3.1167, -2.2687,  0.8120,  0.3449,  0.9291, -1.2824,\n",
              "          0.7300, -0.7016]])"
            ]
          },
          "metadata": {},
          "execution_count": 54
        }
      ]
    },
    {
      "cell_type": "code",
      "source": [
        "x.shape"
      ],
      "metadata": {
        "colab": {
          "base_uri": "https://localhost:8080/"
        },
        "id": "yXHvySnMw5wz",
        "outputId": "d9532607-8391-4952-b9ff-90991e113970"
      },
      "execution_count": 55,
      "outputs": [
        {
          "output_type": "execute_result",
          "data": {
            "text/plain": [
              "torch.Size([1, 10])"
            ]
          },
          "metadata": {},
          "execution_count": 55
        }
      ]
    },
    {
      "cell_type": "code",
      "source": [
        "x_reshaped = x.reshape(2, 5)\n",
        "x_reshaped"
      ],
      "metadata": {
        "colab": {
          "base_uri": "https://localhost:8080/"
        },
        "id": "4xM5m4i6xDCz",
        "outputId": "466da91a-ab7d-4f24-9ed8-0e77d53e3fc8"
      },
      "execution_count": 56,
      "outputs": [
        {
          "output_type": "execute_result",
          "data": {
            "text/plain": [
              "tensor([[ 2.1046,  0.8042, -3.1167, -2.2687,  0.8120],\n",
              "        [ 0.3449,  0.9291, -1.2824,  0.7300, -0.7016]])"
            ]
          },
          "metadata": {},
          "execution_count": 56
        }
      ]
    },
    {
      "cell_type": "markdown",
      "source": [
        "creating a view of the original tensor"
      ],
      "metadata": {
        "id": "MGgNfG2CxdeO"
      }
    },
    {
      "cell_type": "code",
      "source": [
        "z = x.view(1, 10)\n",
        "z, z.shape"
      ],
      "metadata": {
        "colab": {
          "base_uri": "https://localhost:8080/"
        },
        "id": "cvOE9FNXxJqy",
        "outputId": "015046f1-651f-471e-8fb2-dd0226d2c986"
      },
      "execution_count": 57,
      "outputs": [
        {
          "output_type": "execute_result",
          "data": {
            "text/plain": [
              "(tensor([[ 2.1046,  0.8042, -3.1167, -2.2687,  0.8120,  0.3449,  0.9291, -1.2824,\n",
              "           0.7300, -0.7016]]),\n",
              " torch.Size([1, 10]))"
            ]
          },
          "metadata": {},
          "execution_count": 57
        }
      ]
    },
    {
      "cell_type": "markdown",
      "source": [
        "🔑NOTE: Remember though, changing the view of a tensor with torch.view() really only creates a new view of the same tensor.\n",
        "So changing the view changes the original tensor too.\n"
      ],
      "metadata": {
        "id": "mMpA9xstxiO4"
      }
    },
    {
      "cell_type": "code",
      "source": [
        "z[:, 0] = 5\n",
        "z, x"
      ],
      "metadata": {
        "colab": {
          "base_uri": "https://localhost:8080/"
        },
        "id": "_93u4QWIxOQt",
        "outputId": "fc54526e-3376-4b6e-b884-8533e558091e"
      },
      "execution_count": 58,
      "outputs": [
        {
          "output_type": "execute_result",
          "data": {
            "text/plain": [
              "(tensor([[ 5.0000,  0.8042, -3.1167, -2.2687,  0.8120,  0.3449,  0.9291, -1.2824,\n",
              "           0.7300, -0.7016]]),\n",
              " tensor([[ 5.0000,  0.8042, -3.1167, -2.2687,  0.8120,  0.3449,  0.9291, -1.2824,\n",
              "           0.7300, -0.7016]]))"
            ]
          },
          "metadata": {},
          "execution_count": 58
        }
      ]
    },
    {
      "cell_type": "markdown",
      "source": [
        "stacking up the tensor multiple times using `torch.stack()`"
      ],
      "metadata": {
        "id": "lPw36kMlx3s1"
      }
    },
    {
      "cell_type": "code",
      "source": [
        "x_stacked = torch.stack([x, x, x, x], dim=0)\n",
        "x_stacked"
      ],
      "metadata": {
        "colab": {
          "base_uri": "https://localhost:8080/"
        },
        "id": "tddpSYAbxR5F",
        "outputId": "f46ffe45-766c-4db0-c267-abbebcb3ad25"
      },
      "execution_count": 59,
      "outputs": [
        {
          "output_type": "execute_result",
          "data": {
            "text/plain": [
              "tensor([[[ 5.0000,  0.8042, -3.1167, -2.2687,  0.8120,  0.3449,  0.9291,\n",
              "          -1.2824,  0.7300, -0.7016]],\n",
              "\n",
              "        [[ 5.0000,  0.8042, -3.1167, -2.2687,  0.8120,  0.3449,  0.9291,\n",
              "          -1.2824,  0.7300, -0.7016]],\n",
              "\n",
              "        [[ 5.0000,  0.8042, -3.1167, -2.2687,  0.8120,  0.3449,  0.9291,\n",
              "          -1.2824,  0.7300, -0.7016]],\n",
              "\n",
              "        [[ 5.0000,  0.8042, -3.1167, -2.2687,  0.8120,  0.3449,  0.9291,\n",
              "          -1.2824,  0.7300, -0.7016]]])"
            ]
          },
          "metadata": {},
          "execution_count": 59
        }
      ]
    },
    {
      "cell_type": "markdown",
      "source": [
        "removing all the single dims from the tensor, i.e, if a dim has a single inner element, then we remove it<br>\n",
        "suppose we have a tensor of shape (4, 3, 1, 2) then we make it (4, 3, 2)"
      ],
      "metadata": {
        "id": "L5-Xp9tnyJ4O"
      }
    },
    {
      "cell_type": "code",
      "source": [
        "x = torch.randn(4, 3, 1, 2)\n",
        "x.squeeze(), x.squeeze().shape"
      ],
      "metadata": {
        "colab": {
          "base_uri": "https://localhost:8080/"
        },
        "id": "Oed6vMJ2yS_5",
        "outputId": "136c9e09-235d-41f9-cf10-fd285ed5bee4"
      },
      "execution_count": 60,
      "outputs": [
        {
          "output_type": "execute_result",
          "data": {
            "text/plain": [
              "(tensor([[[-0.8791,  1.5491],\n",
              "          [ 0.0154, -0.0276],\n",
              "          [-0.0537, -0.7734]],\n",
              " \n",
              "         [[-1.3838,  0.9782],\n",
              "          [ 0.6528,  0.4743],\n",
              "          [-1.1011, -0.5321]],\n",
              " \n",
              "         [[-0.5346, -1.4052],\n",
              "          [ 1.8912,  1.3595],\n",
              "          [-0.9208, -0.9451]],\n",
              " \n",
              "         [[-1.3551, -1.0257],\n",
              "          [-0.8582, -0.4748],\n",
              "          [-0.9581, -0.3348]]]),\n",
              " torch.Size([4, 3, 2]))"
            ]
          },
          "metadata": {},
          "execution_count": 60
        }
      ]
    },
    {
      "cell_type": "code",
      "source": [
        "x.shape"
      ],
      "metadata": {
        "colab": {
          "base_uri": "https://localhost:8080/"
        },
        "id": "k2Woip9PyvAT",
        "outputId": "6ac0ca9a-474e-440d-9347-02367bd23d1a"
      },
      "execution_count": 61,
      "outputs": [
        {
          "output_type": "execute_result",
          "data": {
            "text/plain": [
              "torch.Size([4, 3, 1, 2])"
            ]
          },
          "metadata": {},
          "execution_count": 61
        }
      ]
    },
    {
      "cell_type": "code",
      "source": [
        "x_squeezed = x.squeeze()\n",
        "x_squeezed"
      ],
      "metadata": {
        "colab": {
          "base_uri": "https://localhost:8080/"
        },
        "id": "asTz4vdryz3X",
        "outputId": "e1d92e6b-10b5-471d-8f97-f05b0bf41689"
      },
      "execution_count": 62,
      "outputs": [
        {
          "output_type": "execute_result",
          "data": {
            "text/plain": [
              "tensor([[[-0.8791,  1.5491],\n",
              "         [ 0.0154, -0.0276],\n",
              "         [-0.0537, -0.7734]],\n",
              "\n",
              "        [[-1.3838,  0.9782],\n",
              "         [ 0.6528,  0.4743],\n",
              "         [-1.1011, -0.5321]],\n",
              "\n",
              "        [[-0.5346, -1.4052],\n",
              "         [ 1.8912,  1.3595],\n",
              "         [-0.9208, -0.9451]],\n",
              "\n",
              "        [[-1.3551, -1.0257],\n",
              "         [-0.8582, -0.4748],\n",
              "         [-0.9581, -0.3348]]])"
            ]
          },
          "metadata": {},
          "execution_count": 62
        }
      ]
    },
    {
      "cell_type": "markdown",
      "source": [
        "🔑`unsqueeze()` requires dim so that it can add a dimension value of 1 at particular position in the tensor"
      ],
      "metadata": {
        "id": "gTcYG7QhzIYP"
      }
    },
    {
      "cell_type": "code",
      "source": [
        "x_unsqueezed = x.unsqueeze(dim=3)\n",
        "x.shape"
      ],
      "metadata": {
        "colab": {
          "base_uri": "https://localhost:8080/"
        },
        "id": "VwsZAeDOy6TX",
        "outputId": "ea8851a5-f2e0-4abf-a7e3-531670047b2f"
      },
      "execution_count": 63,
      "outputs": [
        {
          "output_type": "execute_result",
          "data": {
            "text/plain": [
              "torch.Size([4, 3, 1, 2])"
            ]
          },
          "metadata": {},
          "execution_count": 63
        }
      ]
    },
    {
      "cell_type": "markdown",
      "source": [
        "rearange axes values with torch.permute(input, dims) where input gets turned into a view with new dims"
      ],
      "metadata": {
        "id": "5foCOglAzCEx"
      }
    },
    {
      "cell_type": "code",
      "source": [
        "x = torch.rand(224, 512, 3)\n",
        "x_permuted = x.permute(2, 0, 1) # dim = (3, 224, 224)"
      ],
      "metadata": {
        "id": "9th4Gy5Lzi3t"
      },
      "execution_count": 64,
      "outputs": []
    },
    {
      "cell_type": "code",
      "source": [
        "x_permuted.shape"
      ],
      "metadata": {
        "colab": {
          "base_uri": "https://localhost:8080/"
        },
        "id": "Cc_CfD5Uztue",
        "outputId": "75050888-e13a-49b8-d3d2-a522ba30de96"
      },
      "execution_count": 65,
      "outputs": [
        {
          "output_type": "execute_result",
          "data": {
            "text/plain": [
              "torch.Size([3, 224, 512])"
            ]
          },
          "metadata": {},
          "execution_count": 65
        }
      ]
    },
    {
      "cell_type": "markdown",
      "source": [
        "### Indexing( selecting specific data from tensors)"
      ],
      "metadata": {
        "id": "ItR_itD1zxKB"
      }
    },
    {
      "cell_type": "code",
      "source": [
        "x = torch.randn(3, 8).reshape(4, 3, 2)\n",
        "x, x.shape"
      ],
      "metadata": {
        "colab": {
          "base_uri": "https://localhost:8080/"
        },
        "id": "iPsuG00tz4Ie",
        "outputId": "29439d50-3c89-4539-c0a8-22c2f5b8cbbe"
      },
      "execution_count": 66,
      "outputs": [
        {
          "output_type": "execute_result",
          "data": {
            "text/plain": [
              "(tensor([[[-1.4204, -1.3899],\n",
              "          [ 1.4084, -0.7380],\n",
              "          [ 1.2645, -0.0307]],\n",
              " \n",
              "         [[-1.7492,  0.2599],\n",
              "          [ 2.1796, -0.2982],\n",
              "          [-1.4531,  0.0088]],\n",
              " \n",
              "         [[-0.3315, -1.2489],\n",
              "          [-0.2512,  0.6765],\n",
              "          [ 0.9320, -1.3856]],\n",
              " \n",
              "         [[ 0.9507, -1.3206],\n",
              "          [ 1.1417, -0.5916],\n",
              "          [ 0.1290,  0.5944]]]),\n",
              " torch.Size([4, 3, 2]))"
            ]
          },
          "metadata": {},
          "execution_count": 66
        }
      ]
    },
    {
      "cell_type": "code",
      "source": [
        "x[0], x[0][0], x[0][0][0]"
      ],
      "metadata": {
        "colab": {
          "base_uri": "https://localhost:8080/"
        },
        "id": "f1MczCkO0JTE",
        "outputId": "c7a24a0e-6146-4c6d-a2a1-563762040e8d"
      },
      "execution_count": 67,
      "outputs": [
        {
          "output_type": "execute_result",
          "data": {
            "text/plain": [
              "(tensor([[-1.4204, -1.3899],\n",
              "         [ 1.4084, -0.7380],\n",
              "         [ 1.2645, -0.0307]]),\n",
              " tensor([-1.4204, -1.3899]),\n",
              " tensor(-1.4204))"
            ]
          },
          "metadata": {},
          "execution_count": 67
        }
      ]
    },
    {
      "cell_type": "code",
      "source": [
        "x[:, 0]"
      ],
      "metadata": {
        "colab": {
          "base_uri": "https://localhost:8080/"
        },
        "id": "v08Ubwml0Nlp",
        "outputId": "d0c216c4-a9bd-4b02-85c8-31f43674f4e9"
      },
      "execution_count": 68,
      "outputs": [
        {
          "output_type": "execute_result",
          "data": {
            "text/plain": [
              "tensor([[-1.4204, -1.3899],\n",
              "        [-1.7492,  0.2599],\n",
              "        [-0.3315, -1.2489],\n",
              "        [ 0.9507, -1.3206]])"
            ]
          },
          "metadata": {},
          "execution_count": 68
        }
      ]
    },
    {
      "cell_type": "markdown",
      "source": [
        "x is (4, 3, 2)<br>\n",
        "`x[:, 0]` selects all vectors in outer dim and 1st row in each batch and all elements in it as the 3rd dim is not specified"
      ],
      "metadata": {
        "id": "QgYz2fgX0-Tm"
      }
    },
    {
      "cell_type": "code",
      "source": [
        "x[:, 1, 1] # all batches and 1st value in 1st row in each batch"
      ],
      "metadata": {
        "colab": {
          "base_uri": "https://localhost:8080/"
        },
        "id": "yJ6bgtMR0Rnj",
        "outputId": "6761de7d-b777-4efa-8503-f5c6bc701a4f"
      },
      "execution_count": 69,
      "outputs": [
        {
          "output_type": "execute_result",
          "data": {
            "text/plain": [
              "tensor([-0.7380, -0.2982,  0.6765, -0.5916])"
            ]
          },
          "metadata": {},
          "execution_count": 69
        }
      ]
    },
    {
      "cell_type": "code",
      "source": [
        "x[0, 0, :] # first batch and 1st row and all values in it"
      ],
      "metadata": {
        "colab": {
          "base_uri": "https://localhost:8080/"
        },
        "id": "1jnzOdL11m6w",
        "outputId": "58f4be90-bfc7-4363-d449-e58878f2d8f6"
      },
      "execution_count": 70,
      "outputs": [
        {
          "output_type": "execute_result",
          "data": {
            "text/plain": [
              "tensor([-1.4204, -1.3899])"
            ]
          },
          "metadata": {},
          "execution_count": 70
        }
      ]
    },
    {
      "cell_type": "markdown",
      "source": [
        "### PyTorch Tensors and NumPy"
      ],
      "metadata": {
        "id": "0fiCpLpG1oMW"
      }
    },
    {
      "cell_type": "code",
      "source": [
        "# converting numpy array to tensor\n",
        "\n",
        "import numpy as np\n",
        "array = np.arange(1, 8)\n",
        "tensor = torch.from_numpy(array)\n",
        "array, tensor"
      ],
      "metadata": {
        "colab": {
          "base_uri": "https://localhost:8080/"
        },
        "id": "1apoGXNF1-qI",
        "outputId": "936ff957-4ba4-4b5e-f325-3a9782fbfbcb"
      },
      "execution_count": 71,
      "outputs": [
        {
          "output_type": "execute_result",
          "data": {
            "text/plain": [
              "(array([1, 2, 3, 4, 5, 6, 7]), tensor([1, 2, 3, 4, 5, 6, 7]))"
            ]
          },
          "metadata": {},
          "execution_count": 71
        }
      ]
    },
    {
      "cell_type": "code",
      "source": [
        "# converting tensor to numpy array\n",
        "\n",
        "tensor = torch.ones(12)\n",
        "array = tensor.numpy()\n",
        "tensor, array"
      ],
      "metadata": {
        "colab": {
          "base_uri": "https://localhost:8080/"
        },
        "id": "pEy0tHBc2RKc",
        "outputId": "6ef46de7-067c-4bb0-8570-1f282486fb93"
      },
      "execution_count": 72,
      "outputs": [
        {
          "output_type": "execute_result",
          "data": {
            "text/plain": [
              "(tensor([1., 1., 1., 1., 1., 1., 1., 1., 1., 1., 1., 1.]),\n",
              " array([1., 1., 1., 1., 1., 1., 1., 1., 1., 1., 1., 1.], dtype=float32))"
            ]
          },
          "metadata": {},
          "execution_count": 72
        }
      ]
    },
    {
      "cell_type": "markdown",
      "source": [
        "### Reproducibilty"
      ],
      "metadata": {
        "id": "0mq6BK0t2s0B"
      }
    },
    {
      "cell_type": "code",
      "source": [
        "A = torch.rand(3, 4)\n",
        "B = torch.rand(3, 4)\n",
        "\n",
        "A == B"
      ],
      "metadata": {
        "colab": {
          "base_uri": "https://localhost:8080/"
        },
        "id": "pvmLdnCy3Bd8",
        "outputId": "332e9f2a-87f3-4434-cda2-f6c5dce1a7f3"
      },
      "execution_count": 73,
      "outputs": [
        {
          "output_type": "execute_result",
          "data": {
            "text/plain": [
              "tensor([[False, False, False, False],\n",
              "        [False, False, False, False],\n",
              "        [False, False, False, False]])"
            ]
          },
          "metadata": {},
          "execution_count": 73
        }
      ]
    },
    {
      "cell_type": "code",
      "source": [
        "torch.manual_seed(42)\n",
        "\n",
        "A = torch.rand(3, 4)\n",
        "# without below line, B tensor would be different from A tensor\n",
        "torch.random.manual_seed(42)\n",
        "B = torch.rand(3, 4)\n",
        "\n",
        "A == B"
      ],
      "metadata": {
        "colab": {
          "base_uri": "https://localhost:8080/"
        },
        "id": "BH_-CQrD3P56",
        "outputId": "4bbab69d-e933-4f13-9160-bfd9395e890a"
      },
      "execution_count": 74,
      "outputs": [
        {
          "output_type": "execute_result",
          "data": {
            "text/plain": [
              "tensor([[True, True, True, True],\n",
              "        [True, True, True, True],\n",
              "        [True, True, True, True]])"
            ]
          },
          "metadata": {},
          "execution_count": 74
        }
      ]
    },
    {
      "cell_type": "markdown",
      "source": [
        "### Running tensors on GPUs"
      ],
      "metadata": {
        "id": "65xIAo_930YL"
      }
    },
    {
      "cell_type": "code",
      "source": [
        "!nvidia-smi"
      ],
      "metadata": {
        "colab": {
          "base_uri": "https://localhost:8080/"
        },
        "id": "sEZjUwp_4zkA",
        "outputId": "8bebe343-d97c-49ad-eaf0-888cfd46a12c"
      },
      "execution_count": 75,
      "outputs": [
        {
          "output_type": "stream",
          "name": "stdout",
          "text": [
            "Fri Feb 21 09:55:37 2025       \n",
            "+-----------------------------------------------------------------------------------------+\n",
            "| NVIDIA-SMI 550.54.15              Driver Version: 550.54.15      CUDA Version: 12.4     |\n",
            "|-----------------------------------------+------------------------+----------------------+\n",
            "| GPU  Name                 Persistence-M | Bus-Id          Disp.A | Volatile Uncorr. ECC |\n",
            "| Fan  Temp   Perf          Pwr:Usage/Cap |           Memory-Usage | GPU-Util  Compute M. |\n",
            "|                                         |                        |               MIG M. |\n",
            "|=========================================+========================+======================|\n",
            "|   0  Tesla T4                       Off |   00000000:00:04.0 Off |                    0 |\n",
            "| N/A   46C    P8              9W /   70W |       0MiB /  15360MiB |      0%      Default |\n",
            "|                                         |                        |                  N/A |\n",
            "+-----------------------------------------+------------------------+----------------------+\n",
            "                                                                                         \n",
            "+-----------------------------------------------------------------------------------------+\n",
            "| Processes:                                                                              |\n",
            "|  GPU   GI   CI        PID   Type   Process name                              GPU Memory |\n",
            "|        ID   ID                                                               Usage      |\n",
            "|=========================================================================================|\n",
            "|  No running processes found                                                             |\n",
            "+-----------------------------------------------------------------------------------------+\n"
          ]
        }
      ]
    },
    {
      "cell_type": "code",
      "source": [
        "torch.cuda.is_available()"
      ],
      "metadata": {
        "id": "Gb4IM0Gc40u9",
        "colab": {
          "base_uri": "https://localhost:8080/"
        },
        "outputId": "7f21fc44-7411-4c6c-fdd5-792a1699f25d"
      },
      "execution_count": 76,
      "outputs": [
        {
          "output_type": "execute_result",
          "data": {
            "text/plain": [
              "True"
            ]
          },
          "metadata": {},
          "execution_count": 76
        }
      ]
    },
    {
      "cell_type": "code",
      "source": [
        "device = 'cuda'\n",
        "device"
      ],
      "metadata": {
        "id": "Sec4CvLB4_qe",
        "colab": {
          "base_uri": "https://localhost:8080/",
          "height": 36
        },
        "outputId": "24c9b1ee-7404-4d02-f7a5-925142623e74"
      },
      "execution_count": 77,
      "outputs": [
        {
          "output_type": "execute_result",
          "data": {
            "text/plain": [
              "'cuda'"
            ],
            "application/vnd.google.colaboratory.intrinsic+json": {
              "type": "string"
            }
          },
          "metadata": {},
          "execution_count": 77
        }
      ]
    },
    {
      "cell_type": "code",
      "source": [
        "torch.cuda.device_count()"
      ],
      "metadata": {
        "id": "7jQwlYUh5E6e",
        "colab": {
          "base_uri": "https://localhost:8080/"
        },
        "outputId": "9ba55b50-d9c4-4a15-c8e7-5bfbd2cd5277"
      },
      "execution_count": 78,
      "outputs": [
        {
          "output_type": "execute_result",
          "data": {
            "text/plain": [
              "1"
            ]
          },
          "metadata": {},
          "execution_count": 78
        }
      ]
    },
    {
      "cell_type": "code",
      "source": [
        "torch.backends.mps.is_available()"
      ],
      "metadata": {
        "colab": {
          "base_uri": "https://localhost:8080/"
        },
        "id": "t0q8xVhj8CyM",
        "outputId": "aa22636d-a57a-464e-90ea-531862b79f5c"
      },
      "execution_count": 79,
      "outputs": [
        {
          "output_type": "execute_result",
          "data": {
            "text/plain": [
              "False"
            ]
          },
          "metadata": {},
          "execution_count": 79
        }
      ]
    },
    {
      "cell_type": "code",
      "source": [
        "device = 'mps' if torch.backends.mps.is_available() else 'cpu'\n",
        "device"
      ],
      "metadata": {
        "colab": {
          "base_uri": "https://localhost:8080/",
          "height": 36
        },
        "id": "aQF73n8c8Kxn",
        "outputId": "c71a4415-e75f-4ce7-f6f4-764f7f6ea67c"
      },
      "execution_count": 81,
      "outputs": [
        {
          "output_type": "execute_result",
          "data": {
            "text/plain": [
              "'cpu'"
            ],
            "application/vnd.google.colaboratory.intrinsic+json": {
              "type": "string"
            }
          },
          "metadata": {},
          "execution_count": 81
        }
      ]
    },
    {
      "cell_type": "markdown",
      "source": [
        "### Moving tensors to GPU"
      ],
      "metadata": {
        "id": "Tj7mbOHa8VfA"
      }
    },
    {
      "cell_type": "code",
      "source": [
        "tensor = torch.tensor([1, 3, 6])\n",
        "tensor, tensor.device"
      ],
      "metadata": {
        "colab": {
          "base_uri": "https://localhost:8080/"
        },
        "id": "fROIxIKs8qov",
        "outputId": "cdad29ba-4d30-4e5c-839f-06b2f0bc5482"
      },
      "execution_count": 82,
      "outputs": [
        {
          "output_type": "execute_result",
          "data": {
            "text/plain": [
              "(tensor([1, 3, 6]), device(type='cpu'))"
            ]
          },
          "metadata": {},
          "execution_count": 82
        }
      ]
    },
    {
      "cell_type": "code",
      "source": [
        "if torch.cuda.is_available():\n",
        "    device = \"cuda\" # Use NVIDIA GPU (if available)\n",
        "elif torch.backends.mps.is_available():\n",
        "    device = \"mps\" # Use Apple Silicon GPU (if available)\n",
        "else:\n",
        "    device = \"cpu\" # Default to CPU if no GPU is available"
      ],
      "metadata": {
        "id": "nHcsNQu09F1J"
      },
      "execution_count": 84,
      "outputs": []
    },
    {
      "cell_type": "code",
      "source": [
        "tensor_on_gpu = tensor.to(device)\n",
        "tensor_on_gpu"
      ],
      "metadata": {
        "colab": {
          "base_uri": "https://localhost:8080/"
        },
        "id": "11ycNUlv8wZR",
        "outputId": "a053ae9b-a5d4-4778-ec74-cef6c3cade18"
      },
      "execution_count": 87,
      "outputs": [
        {
          "output_type": "execute_result",
          "data": {
            "text/plain": [
              "tensor([1, 3, 6], device='cuda:0')"
            ]
          },
          "metadata": {},
          "execution_count": 87
        }
      ]
    },
    {
      "cell_type": "markdown",
      "source": [
        "### Moving back tensors to CPU"
      ],
      "metadata": {
        "id": "z2PogT8Q9SBj"
      }
    },
    {
      "cell_type": "code",
      "source": [
        "tensor_on_gpu.numpy()"
      ],
      "metadata": {
        "colab": {
          "base_uri": "https://localhost:8080/",
          "height": 141
        },
        "id": "2w6rQ1b_88tE",
        "outputId": "265353dc-ccd3-4b8b-fd16-22b24b290a19"
      },
      "execution_count": 88,
      "outputs": [
        {
          "output_type": "error",
          "ename": "TypeError",
          "evalue": "can't convert cuda:0 device type tensor to numpy. Use Tensor.cpu() to copy the tensor to host memory first.",
          "traceback": [
            "\u001b[0;31m---------------------------------------------------------------------------\u001b[0m",
            "\u001b[0;31mTypeError\u001b[0m                                 Traceback (most recent call last)",
            "\u001b[0;32m<ipython-input-88-e0c96c7436fd>\u001b[0m in \u001b[0;36m<cell line: 0>\u001b[0;34m()\u001b[0m\n\u001b[0;32m----> 1\u001b[0;31m \u001b[0mtensor_on_gpu\u001b[0m\u001b[0;34m.\u001b[0m\u001b[0mnumpy\u001b[0m\u001b[0;34m(\u001b[0m\u001b[0;34m)\u001b[0m\u001b[0;34m\u001b[0m\u001b[0;34m\u001b[0m\u001b[0m\n\u001b[0m",
            "\u001b[0;31mTypeError\u001b[0m: can't convert cuda:0 device type tensor to numpy. Use Tensor.cpu() to copy the tensor to host memory first."
          ]
        }
      ]
    },
    {
      "cell_type": "markdown",
      "source": [
        "This copies the tensor to CPU memory so it's usable with CPUs.\n",
        "<br>\n",
        "The above returns a copy of the GPU tensor in CPU memory so the original tensor is still on GPU."
      ],
      "metadata": {
        "id": "Z3iEGOWF9wEc"
      }
    },
    {
      "cell_type": "code",
      "source": [
        "tensor_on_cpu = tensor_on_gpu.cpu().numpy()\n",
        "tensor_on_cpu"
      ],
      "metadata": {
        "colab": {
          "base_uri": "https://localhost:8080/"
        },
        "id": "48JCAsQy9ce6",
        "outputId": "9e4217ed-5547-46af-ef24-6515f07002d0"
      },
      "execution_count": 91,
      "outputs": [
        {
          "output_type": "execute_result",
          "data": {
            "text/plain": [
              "array([1, 3, 6])"
            ]
          },
          "metadata": {},
          "execution_count": 91
        }
      ]
    },
    {
      "cell_type": "code",
      "source": [
        "tensor_on_gpu"
      ],
      "metadata": {
        "colab": {
          "base_uri": "https://localhost:8080/"
        },
        "id": "R2VWq1DQ9pF7",
        "outputId": "d91273b0-053d-45e8-da73-ab2197e33b0d"
      },
      "execution_count": 92,
      "outputs": [
        {
          "output_type": "execute_result",
          "data": {
            "text/plain": [
              "tensor([1, 3, 6], device='cuda:0')"
            ]
          },
          "metadata": {},
          "execution_count": 92
        }
      ]
    },
    {
      "cell_type": "markdown",
      "source": [
        "reference taken from: https://www.learnpytorch.io/00_pytorch_fundamentals/"
      ],
      "metadata": {
        "id": "QBH4hkWX9q13"
      }
    }
  ]
}