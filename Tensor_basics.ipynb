{
  "nbformat": 4,
  "nbformat_minor": 0,
  "metadata": {
    "colab": {
      "provenance": [],
      "gpuType": "T4",
      "authorship_tag": "ABX9TyPlCHVG7u3zfspH1kLa2YEh",
      "include_colab_link": true
    },
    "kernelspec": {
      "name": "python3",
      "display_name": "Python 3"
    },
    "language_info": {
      "name": "python"
    },
    "accelerator": "GPU"
  },
  "cells": [
    {
      "cell_type": "markdown",
      "metadata": {
        "id": "view-in-github",
        "colab_type": "text"
      },
      "source": [
        "<a href=\"https://colab.research.google.com/github/divyalaldinani/Deep-Learning-in-PyTorch/blob/main/Tensor_basics.ipynb\" target=\"_parent\"><img src=\"https://colab.research.google.com/assets/colab-badge.svg\" alt=\"Open In Colab\"/></a>"
      ]
    },
    {
      "cell_type": "code",
      "execution_count": 1,
      "metadata": {
        "id": "ahMhLYSYrN12"
      },
      "outputs": [],
      "source": [
        "import torch"
      ]
    },
    {
      "cell_type": "code",
      "source": [
        "x = torch.empty(4)\n",
        "x"
      ],
      "metadata": {
        "colab": {
          "base_uri": "https://localhost:8080/"
        },
        "id": "50JXS2w334bz",
        "outputId": "5a2ac10d-ccfc-4070-9cff-f8738068b570"
      },
      "execution_count": 2,
      "outputs": [
        {
          "output_type": "execute_result",
          "data": {
            "text/plain": [
              "tensor([-2.3964e+12,  4.3159e-41, -2.3964e+12,  4.3159e-41])"
            ]
          },
          "metadata": {},
          "execution_count": 2
        }
      ]
    },
    {
      "cell_type": "code",
      "source": [
        "x.dtype"
      ],
      "metadata": {
        "colab": {
          "base_uri": "https://localhost:8080/"
        },
        "id": "apomUG4d377F",
        "outputId": "f86c400f-e3c8-46f7-82f1-c334211aeec6"
      },
      "execution_count": 3,
      "outputs": [
        {
          "output_type": "execute_result",
          "data": {
            "text/plain": [
              "torch.float32"
            ]
          },
          "metadata": {},
          "execution_count": 3
        }
      ]
    },
    {
      "cell_type": "code",
      "source": [
        "x.abs()"
      ],
      "metadata": {
        "colab": {
          "base_uri": "https://localhost:8080/"
        },
        "id": "CoQvNI2B3-jt",
        "outputId": "e55a50b4-6615-4c7f-cb47-a884323d4582"
      },
      "execution_count": 4,
      "outputs": [
        {
          "output_type": "execute_result",
          "data": {
            "text/plain": [
              "tensor([2.3964e+12, 4.3159e-41, 2.3964e+12, 4.3159e-41])"
            ]
          },
          "metadata": {},
          "execution_count": 4
        }
      ]
    },
    {
      "cell_type": "code",
      "source": [
        "y = torch.empty(4)\n",
        "x.add(y)"
      ],
      "metadata": {
        "colab": {
          "base_uri": "https://localhost:8080/"
        },
        "id": "CqWTqxVd4SnO",
        "outputId": "606b15a7-0e0b-4459-a1e4-be61cacff986"
      },
      "execution_count": 5,
      "outputs": [
        {
          "output_type": "execute_result",
          "data": {
            "text/plain": [
              "tensor([-4.7928e+12,  8.6317e-41, -2.3964e+12,  4.3159e-41])"
            ]
          },
          "metadata": {},
          "execution_count": 5
        }
      ]
    },
    {
      "cell_type": "code",
      "source": [
        "y"
      ],
      "metadata": {
        "colab": {
          "base_uri": "https://localhost:8080/"
        },
        "id": "3QLBlsku4aiC",
        "outputId": "a6e6856e-a602-46eb-bfd3-555e750f59b9"
      },
      "execution_count": 6,
      "outputs": [
        {
          "output_type": "execute_result",
          "data": {
            "text/plain": [
              "tensor([-2.3964e+12,  4.3159e-41,  9.7716e-34,  0.0000e+00])"
            ]
          },
          "metadata": {},
          "execution_count": 6
        }
      ]
    },
    {
      "cell_type": "code",
      "source": [
        "x.amax()"
      ],
      "metadata": {
        "colab": {
          "base_uri": "https://localhost:8080/"
        },
        "id": "AIFxtUtm4dgA",
        "outputId": "52a3b559-0682-4e7f-deb0-f3920599a801"
      },
      "execution_count": 7,
      "outputs": [
        {
          "output_type": "execute_result",
          "data": {
            "text/plain": [
              "tensor(4.3159e-41)"
            ]
          },
          "metadata": {},
          "execution_count": 7
        }
      ]
    },
    {
      "cell_type": "code",
      "source": [
        "x.amin()"
      ],
      "metadata": {
        "colab": {
          "base_uri": "https://localhost:8080/"
        },
        "id": "5z9XHmdQ4iOR",
        "outputId": "e7898931-2e28-41ba-a951-33b8a1f0fde9"
      },
      "execution_count": 8,
      "outputs": [
        {
          "output_type": "execute_result",
          "data": {
            "text/plain": [
              "tensor(-2.3964e+12)"
            ]
          },
          "metadata": {},
          "execution_count": 8
        }
      ]
    },
    {
      "cell_type": "code",
      "source": [
        "x.argmin()"
      ],
      "metadata": {
        "colab": {
          "base_uri": "https://localhost:8080/"
        },
        "id": "1-rna69E4lQG",
        "outputId": "96fd316a-0f7c-4a10-cceb-0558bceed3a4"
      },
      "execution_count": 9,
      "outputs": [
        {
          "output_type": "execute_result",
          "data": {
            "text/plain": [
              "tensor(0)"
            ]
          },
          "metadata": {},
          "execution_count": 9
        }
      ]
    },
    {
      "cell_type": "code",
      "source": [
        "x.argmax()"
      ],
      "metadata": {
        "colab": {
          "base_uri": "https://localhost:8080/"
        },
        "id": "6q0XtsCz4n6H",
        "outputId": "d4501c0e-cd44-466d-caab-34d45e990657"
      },
      "execution_count": 10,
      "outputs": [
        {
          "output_type": "execute_result",
          "data": {
            "text/plain": [
              "tensor(1)"
            ]
          },
          "metadata": {},
          "execution_count": 10
        }
      ]
    },
    {
      "cell_type": "code",
      "source": [
        "x.angle()"
      ],
      "metadata": {
        "colab": {
          "base_uri": "https://localhost:8080/"
        },
        "id": "oOwIQjDp4pQ7",
        "outputId": "8bca1aac-329e-48db-d68e-5d85ae3a4339"
      },
      "execution_count": 11,
      "outputs": [
        {
          "output_type": "execute_result",
          "data": {
            "text/plain": [
              "tensor([3.1416, 0.0000, 3.1416, 0.0000])"
            ]
          },
          "metadata": {},
          "execution_count": 11
        }
      ]
    },
    {
      "cell_type": "code",
      "source": [
        "x.argsort()"
      ],
      "metadata": {
        "colab": {
          "base_uri": "https://localhost:8080/"
        },
        "id": "yfsbGQO_4tXt",
        "outputId": "2db27204-df35-4c26-f3c4-35747c86481c"
      },
      "execution_count": 12,
      "outputs": [
        {
          "output_type": "execute_result",
          "data": {
            "text/plain": [
              "tensor([0, 2, 1, 3])"
            ]
          },
          "metadata": {},
          "execution_count": 12
        }
      ]
    },
    {
      "cell_type": "code",
      "source": [
        "x.argsort(descending=True)"
      ],
      "metadata": {
        "colab": {
          "base_uri": "https://localhost:8080/"
        },
        "id": "p7urZ_3s4xQh",
        "outputId": "305a24bd-c310-40b8-8e31-5f4b79701dd8"
      },
      "execution_count": 13,
      "outputs": [
        {
          "output_type": "execute_result",
          "data": {
            "text/plain": [
              "tensor([1, 3, 0, 2])"
            ]
          },
          "metadata": {},
          "execution_count": 13
        }
      ]
    },
    {
      "cell_type": "code",
      "source": [
        "x = torch.rand(5, 3)\n",
        "x"
      ],
      "metadata": {
        "colab": {
          "base_uri": "https://localhost:8080/"
        },
        "id": "tmlKyn9J46yB",
        "outputId": "aaed983c-d453-470d-db26-3c6d00a615ba"
      },
      "execution_count": 14,
      "outputs": [
        {
          "output_type": "execute_result",
          "data": {
            "text/plain": [
              "tensor([[0.8211, 0.5696, 0.3963],\n",
              "        [0.5613, 0.7211, 0.3941],\n",
              "        [0.4961, 0.7468, 0.1768],\n",
              "        [0.1702, 0.5589, 0.4158],\n",
              "        [0.2010, 0.2005, 0.4398]])"
            ]
          },
          "metadata": {},
          "execution_count": 14
        }
      ]
    },
    {
      "cell_type": "code",
      "source": [
        "x = torch.zeros(5, 3)\n",
        "x"
      ],
      "metadata": {
        "colab": {
          "base_uri": "https://localhost:8080/"
        },
        "id": "spXCJjO05bAW",
        "outputId": "d4faa48e-109d-4b39-d236-8dd474e015a7"
      },
      "execution_count": 15,
      "outputs": [
        {
          "output_type": "execute_result",
          "data": {
            "text/plain": [
              "tensor([[0., 0., 0.],\n",
              "        [0., 0., 0.],\n",
              "        [0., 0., 0.],\n",
              "        [0., 0., 0.],\n",
              "        [0., 0., 0.]])"
            ]
          },
          "metadata": {},
          "execution_count": 15
        }
      ]
    },
    {
      "cell_type": "code",
      "source": [
        "x.size()"
      ],
      "metadata": {
        "colab": {
          "base_uri": "https://localhost:8080/"
        },
        "id": "gOBcpX045f6V",
        "outputId": "d53306db-6324-48a3-ef56-fbb40c2625e0"
      },
      "execution_count": 16,
      "outputs": [
        {
          "output_type": "execute_result",
          "data": {
            "text/plain": [
              "torch.Size([5, 3])"
            ]
          },
          "metadata": {},
          "execution_count": 16
        }
      ]
    },
    {
      "cell_type": "code",
      "source": [
        "x.dtype"
      ],
      "metadata": {
        "colab": {
          "base_uri": "https://localhost:8080/"
        },
        "id": "mVbclt-O5jI1",
        "outputId": "9c73c3d8-0857-4169-c213-67548f7da36f"
      },
      "execution_count": 17,
      "outputs": [
        {
          "output_type": "execute_result",
          "data": {
            "text/plain": [
              "torch.float32"
            ]
          },
          "metadata": {},
          "execution_count": 17
        }
      ]
    },
    {
      "cell_type": "code",
      "source": [
        "x.shape"
      ],
      "metadata": {
        "colab": {
          "base_uri": "https://localhost:8080/"
        },
        "id": "mj-iivCF5kDr",
        "outputId": "400b2ae3-da0c-40d5-a4c2-07b9e1d96790"
      },
      "execution_count": 18,
      "outputs": [
        {
          "output_type": "execute_result",
          "data": {
            "text/plain": [
              "torch.Size([5, 3])"
            ]
          },
          "metadata": {},
          "execution_count": 18
        }
      ]
    },
    {
      "cell_type": "code",
      "source": [
        "x = torch.tensor([0.2, 4])\n",
        "x"
      ],
      "metadata": {
        "colab": {
          "base_uri": "https://localhost:8080/"
        },
        "id": "TpVDEXEX5lEP",
        "outputId": "325af398-b83c-4a29-fa5d-0bf0fab4e7e3"
      },
      "execution_count": 19,
      "outputs": [
        {
          "output_type": "execute_result",
          "data": {
            "text/plain": [
              "tensor([0.2000, 4.0000])"
            ]
          },
          "metadata": {},
          "execution_count": 19
        }
      ]
    },
    {
      "cell_type": "code",
      "source": [
        "x = torch.rand(4, 2, 3)\n",
        "x"
      ],
      "metadata": {
        "colab": {
          "base_uri": "https://localhost:8080/"
        },
        "id": "sRcKYXlx5to7",
        "outputId": "00f6878c-575e-4af5-84ab-7689d2fe99c5"
      },
      "execution_count": 20,
      "outputs": [
        {
          "output_type": "execute_result",
          "data": {
            "text/plain": [
              "tensor([[[0.7722, 0.1474, 0.6951],\n",
              "         [0.6641, 0.9135, 0.1530]],\n",
              "\n",
              "        [[0.8643, 0.3316, 0.6435],\n",
              "         [0.3195, 0.3849, 0.9541]],\n",
              "\n",
              "        [[0.9854, 0.0033, 0.5704],\n",
              "         [0.6190, 0.8129, 0.2270]],\n",
              "\n",
              "        [[0.1372, 0.6806, 0.1717],\n",
              "         [0.7928, 0.0052, 0.8422]]])"
            ]
          },
          "metadata": {},
          "execution_count": 20
        }
      ]
    },
    {
      "cell_type": "code",
      "source": [
        "x[:, :, :]"
      ],
      "metadata": {
        "colab": {
          "base_uri": "https://localhost:8080/"
        },
        "id": "MMBYa8ww7UhZ",
        "outputId": "0b2fb87d-43e4-4093-8965-bfe7ee676d9f"
      },
      "execution_count": 21,
      "outputs": [
        {
          "output_type": "execute_result",
          "data": {
            "text/plain": [
              "tensor([[[0.7722, 0.1474, 0.6951],\n",
              "         [0.6641, 0.9135, 0.1530]],\n",
              "\n",
              "        [[0.8643, 0.3316, 0.6435],\n",
              "         [0.3195, 0.3849, 0.9541]],\n",
              "\n",
              "        [[0.9854, 0.0033, 0.5704],\n",
              "         [0.6190, 0.8129, 0.2270]],\n",
              "\n",
              "        [[0.1372, 0.6806, 0.1717],\n",
              "         [0.7928, 0.0052, 0.8422]]])"
            ]
          },
          "metadata": {},
          "execution_count": 21
        }
      ]
    },
    {
      "cell_type": "code",
      "source": [
        "x[0, :, :]"
      ],
      "metadata": {
        "colab": {
          "base_uri": "https://localhost:8080/"
        },
        "id": "ZW4U45Xe7aV0",
        "outputId": "7c725128-382d-40ed-bc4a-a68b8f61d1ba"
      },
      "execution_count": 22,
      "outputs": [
        {
          "output_type": "execute_result",
          "data": {
            "text/plain": [
              "tensor([[0.7722, 0.1474, 0.6951],\n",
              "        [0.6641, 0.9135, 0.1530]])"
            ]
          },
          "metadata": {},
          "execution_count": 22
        }
      ]
    },
    {
      "cell_type": "code",
      "source": [
        "x[:, 0, :]"
      ],
      "metadata": {
        "colab": {
          "base_uri": "https://localhost:8080/"
        },
        "id": "hQAwaYZK7ch4",
        "outputId": "9e47ed1c-1d0d-4198-ee7e-2a9c3429a2fa"
      },
      "execution_count": 23,
      "outputs": [
        {
          "output_type": "execute_result",
          "data": {
            "text/plain": [
              "tensor([[0.7722, 0.1474, 0.6951],\n",
              "        [0.8643, 0.3316, 0.6435],\n",
              "        [0.9854, 0.0033, 0.5704],\n",
              "        [0.1372, 0.6806, 0.1717]])"
            ]
          },
          "metadata": {},
          "execution_count": 23
        }
      ]
    },
    {
      "cell_type": "code",
      "source": [
        "x[:, :, 1]"
      ],
      "metadata": {
        "colab": {
          "base_uri": "https://localhost:8080/"
        },
        "id": "jW_bJLOJ7fta",
        "outputId": "6bcf32c4-7f0f-471c-d1f4-3cc9deb270cf"
      },
      "execution_count": 24,
      "outputs": [
        {
          "output_type": "execute_result",
          "data": {
            "text/plain": [
              "tensor([[0.1474, 0.9135],\n",
              "        [0.3316, 0.3849],\n",
              "        [0.0033, 0.8129],\n",
              "        [0.6806, 0.0052]])"
            ]
          },
          "metadata": {},
          "execution_count": 24
        }
      ]
    },
    {
      "cell_type": "code",
      "source": [
        "x[1, 1, 1].item() # gets the actual value of a particular element in a tensor"
      ],
      "metadata": {
        "colab": {
          "base_uri": "https://localhost:8080/"
        },
        "id": "q_XpEEhe7kmY",
        "outputId": "4200d204-86fd-4a81-e23b-51d619f5d0db"
      },
      "execution_count": 25,
      "outputs": [
        {
          "output_type": "execute_result",
          "data": {
            "text/plain": [
              "0.3849181532859802"
            ]
          },
          "metadata": {},
          "execution_count": 25
        }
      ]
    },
    {
      "cell_type": "code",
      "source": [
        "x.view(8, 3) # to view a tensor in some shape, note that elements in org tensor = elements in new tensor"
      ],
      "metadata": {
        "colab": {
          "base_uri": "https://localhost:8080/"
        },
        "id": "vRxcLUB57rNz",
        "outputId": "f0e8ff99-3983-470d-ee18-d728f93c4547"
      },
      "execution_count": 26,
      "outputs": [
        {
          "output_type": "execute_result",
          "data": {
            "text/plain": [
              "tensor([[0.7722, 0.1474, 0.6951],\n",
              "        [0.6641, 0.9135, 0.1530],\n",
              "        [0.8643, 0.3316, 0.6435],\n",
              "        [0.3195, 0.3849, 0.9541],\n",
              "        [0.9854, 0.0033, 0.5704],\n",
              "        [0.6190, 0.8129, 0.2270],\n",
              "        [0.1372, 0.6806, 0.1717],\n",
              "        [0.7928, 0.0052, 0.8422]])"
            ]
          },
          "metadata": {},
          "execution_count": 26
        }
      ]
    },
    {
      "cell_type": "code",
      "source": [
        "x"
      ],
      "metadata": {
        "colab": {
          "base_uri": "https://localhost:8080/"
        },
        "id": "dzThyw9g75Ky",
        "outputId": "00515c99-9bb9-4b47-d73b-d2eff66a3e36"
      },
      "execution_count": 27,
      "outputs": [
        {
          "output_type": "execute_result",
          "data": {
            "text/plain": [
              "tensor([[[0.7722, 0.1474, 0.6951],\n",
              "         [0.6641, 0.9135, 0.1530]],\n",
              "\n",
              "        [[0.8643, 0.3316, 0.6435],\n",
              "         [0.3195, 0.3849, 0.9541]],\n",
              "\n",
              "        [[0.9854, 0.0033, 0.5704],\n",
              "         [0.6190, 0.8129, 0.2270]],\n",
              "\n",
              "        [[0.1372, 0.6806, 0.1717],\n",
              "         [0.7928, 0.0052, 0.8422]]])"
            ]
          },
          "metadata": {},
          "execution_count": 27
        }
      ]
    },
    {
      "cell_type": "code",
      "source": [
        "x.view(-1, 4)"
      ],
      "metadata": {
        "colab": {
          "base_uri": "https://localhost:8080/"
        },
        "id": "3tF85t7f7669",
        "outputId": "70e83afb-e5fa-4527-bb02-1647f90a99e4"
      },
      "execution_count": 28,
      "outputs": [
        {
          "output_type": "execute_result",
          "data": {
            "text/plain": [
              "tensor([[0.7722, 0.1474, 0.6951, 0.6641],\n",
              "        [0.9135, 0.1530, 0.8643, 0.3316],\n",
              "        [0.6435, 0.3195, 0.3849, 0.9541],\n",
              "        [0.9854, 0.0033, 0.5704, 0.6190],\n",
              "        [0.8129, 0.2270, 0.1372, 0.6806],\n",
              "        [0.1717, 0.7928, 0.0052, 0.8422]])"
            ]
          },
          "metadata": {},
          "execution_count": 28
        }
      ]
    },
    {
      "cell_type": "code",
      "source": [
        "a = x.numpy()\n",
        "a"
      ],
      "metadata": {
        "colab": {
          "base_uri": "https://localhost:8080/"
        },
        "id": "4B1tt-Oy8GU8",
        "outputId": "edc6768c-322d-485b-f2c4-0d7f4daed235"
      },
      "execution_count": 29,
      "outputs": [
        {
          "output_type": "execute_result",
          "data": {
            "text/plain": [
              "array([[[0.772244  , 0.14735395, 0.69510067],\n",
              "        [0.6641302 , 0.9134845 , 0.15301937]],\n",
              "\n",
              "       [[0.8642882 , 0.33162618, 0.6435337 ],\n",
              "        [0.31950933, 0.38491815, 0.9540867 ]],\n",
              "\n",
              "       [[0.9853702 , 0.003272  , 0.5703962 ],\n",
              "        [0.61897665, 0.8128941 , 0.22696364]],\n",
              "\n",
              "       [[0.13724768, 0.6806337 , 0.17173845],\n",
              "        [0.792772  , 0.0051977 , 0.8421885 ]]], dtype=float32)"
            ]
          },
          "metadata": {},
          "execution_count": 29
        }
      ]
    },
    {
      "cell_type": "code",
      "source": [
        "y = torch.from_numpy(a)\n",
        "y\n",
        "y = y*2 +5"
      ],
      "metadata": {
        "id": "jofwxiXk8N1C"
      },
      "execution_count": 30,
      "outputs": []
    },
    {
      "cell_type": "markdown",
      "source": [
        "### Operations on Tensor"
      ],
      "metadata": {
        "id": "UlpIGI1b8ZpH"
      }
    },
    {
      "cell_type": "code",
      "source": [
        "x + y"
      ],
      "metadata": {
        "colab": {
          "base_uri": "https://localhost:8080/"
        },
        "id": "ZPjj8ueW8VJn",
        "outputId": "2aaf9d1f-56e5-4f2c-d81a-6b47b3f3c10d"
      },
      "execution_count": 31,
      "outputs": [
        {
          "output_type": "execute_result",
          "data": {
            "text/plain": [
              "tensor([[[7.3167, 5.4421, 7.0853],\n",
              "         [6.9924, 7.7405, 5.4591]],\n",
              "\n",
              "        [[7.5929, 5.9949, 6.9306],\n",
              "         [5.9585, 6.1548, 7.8623]],\n",
              "\n",
              "        [[7.9561, 5.0098, 6.7112],\n",
              "         [6.8569, 7.4387, 5.6809]],\n",
              "\n",
              "        [[5.4117, 7.0419, 5.5152],\n",
              "         [7.3783, 5.0156, 7.5266]]])"
            ]
          },
          "metadata": {},
          "execution_count": 31
        }
      ]
    },
    {
      "cell_type": "code",
      "source": [
        "x.add(y)"
      ],
      "metadata": {
        "colab": {
          "base_uri": "https://localhost:8080/"
        },
        "id": "56NbZl768hMS",
        "outputId": "4b101d3c-15f7-4b2a-b729-4745db353dbb"
      },
      "execution_count": 32,
      "outputs": [
        {
          "output_type": "execute_result",
          "data": {
            "text/plain": [
              "tensor([[[7.3167, 5.4421, 7.0853],\n",
              "         [6.9924, 7.7405, 5.4591]],\n",
              "\n",
              "        [[7.5929, 5.9949, 6.9306],\n",
              "         [5.9585, 6.1548, 7.8623]],\n",
              "\n",
              "        [[7.9561, 5.0098, 6.7112],\n",
              "         [6.8569, 7.4387, 5.6809]],\n",
              "\n",
              "        [[5.4117, 7.0419, 5.5152],\n",
              "         [7.3783, 5.0156, 7.5266]]])"
            ]
          },
          "metadata": {},
          "execution_count": 32
        }
      ]
    },
    {
      "cell_type": "code",
      "source": [
        "x.mul(y) # dot product / element wise multiplication"
      ],
      "metadata": {
        "colab": {
          "base_uri": "https://localhost:8080/"
        },
        "id": "QY7UH8E18iEs",
        "outputId": "281c0a11-5f0b-42f7-f024-027e891630c3"
      },
      "execution_count": 33,
      "outputs": [
        {
          "output_type": "execute_result",
          "data": {
            "text/plain": [
              "tensor([[[5.0539, 0.7802, 4.4418],\n",
              "         [4.2028, 6.2363, 0.8119]],\n",
              "\n",
              "        [[5.8154, 1.8781, 4.0459],\n",
              "         [1.8017, 2.2209, 6.5910]],\n",
              "\n",
              "        [[6.8688, 0.0164, 3.5027],\n",
              "         [3.8611, 5.3861, 1.2378]],\n",
              "\n",
              "        [[0.7239, 4.3297, 0.9177],\n",
              "         [5.2208, 0.0260, 5.6295]]])"
            ]
          },
          "metadata": {},
          "execution_count": 33
        }
      ]
    },
    {
      "cell_type": "code",
      "source": [
        "x*y"
      ],
      "metadata": {
        "colab": {
          "base_uri": "https://localhost:8080/"
        },
        "id": "XgvA2qZY8kEa",
        "outputId": "547df3b4-695c-4a27-963d-a3aa52746b77"
      },
      "execution_count": 34,
      "outputs": [
        {
          "output_type": "execute_result",
          "data": {
            "text/plain": [
              "tensor([[[5.0539, 0.7802, 4.4418],\n",
              "         [4.2028, 6.2363, 0.8119]],\n",
              "\n",
              "        [[5.8154, 1.8781, 4.0459],\n",
              "         [1.8017, 2.2209, 6.5910]],\n",
              "\n",
              "        [[6.8688, 0.0164, 3.5027],\n",
              "         [3.8611, 5.3861, 1.2378]],\n",
              "\n",
              "        [[0.7239, 4.3297, 0.9177],\n",
              "         [5.2208, 0.0260, 5.6295]]])"
            ]
          },
          "metadata": {},
          "execution_count": 34
        }
      ]
    },
    {
      "cell_type": "code",
      "source": [
        "x/y # element wise division"
      ],
      "metadata": {
        "colab": {
          "base_uri": "https://localhost:8080/"
        },
        "id": "cLZSttlZ8knp",
        "outputId": "b74e3261-8b85-4b2d-93ad-f878387768d5"
      },
      "execution_count": 35,
      "outputs": [
        {
          "output_type": "execute_result",
          "data": {
            "text/plain": [
              "tensor([[[0.1180, 0.0278, 0.1088],\n",
              "         [0.1049, 0.1338, 0.0288]],\n",
              "\n",
              "        [[0.1285, 0.0586, 0.1024],\n",
              "         [0.0567, 0.0667, 0.1381]],\n",
              "\n",
              "        [[0.1414, 0.0007, 0.0929],\n",
              "         [0.0992, 0.1227, 0.0416]],\n",
              "\n",
              "        [[0.0260, 0.1070, 0.0321],\n",
              "         [0.1204, 0.0010, 0.1260]]])"
            ]
          },
          "metadata": {},
          "execution_count": 35
        }
      ]
    },
    {
      "cell_type": "code",
      "source": [
        "x.div(y)"
      ],
      "metadata": {
        "colab": {
          "base_uri": "https://localhost:8080/"
        },
        "id": "LrZ_rHcK8qaS",
        "outputId": "50c55e11-0923-4998-a325-2d0c417e828c"
      },
      "execution_count": 36,
      "outputs": [
        {
          "output_type": "execute_result",
          "data": {
            "text/plain": [
              "tensor([[[0.1180, 0.0278, 0.1088],\n",
              "         [0.1049, 0.1338, 0.0288]],\n",
              "\n",
              "        [[0.1285, 0.0586, 0.1024],\n",
              "         [0.0567, 0.0667, 0.1381]],\n",
              "\n",
              "        [[0.1414, 0.0007, 0.0929],\n",
              "         [0.0992, 0.1227, 0.0416]],\n",
              "\n",
              "        [[0.0260, 0.1070, 0.0321],\n",
              "         [0.1204, 0.0010, 0.1260]]])"
            ]
          },
          "metadata": {},
          "execution_count": 36
        }
      ]
    },
    {
      "cell_type": "markdown",
      "source": [
        "### Moving tensors on GPU\n",
        "\n",
        "**Make sure that if you are running it on colab then runtime type, GPU is enabled.**"
      ],
      "metadata": {
        "id": "3ZFHQdTY8vLP"
      }
    },
    {
      "cell_type": "code",
      "source": [
        "x_gpu = x.to('cuda')\n",
        "x_gpu"
      ],
      "metadata": {
        "colab": {
          "base_uri": "https://localhost:8080/"
        },
        "id": "Gv0UqDfJ85Km",
        "outputId": "1a2cff06-89ff-43a8-bbe3-0d9ac662d11a"
      },
      "execution_count": 37,
      "outputs": [
        {
          "output_type": "execute_result",
          "data": {
            "text/plain": [
              "tensor([[[0.7722, 0.1474, 0.6951],\n",
              "         [0.6641, 0.9135, 0.1530]],\n",
              "\n",
              "        [[0.8643, 0.3316, 0.6435],\n",
              "         [0.3195, 0.3849, 0.9541]],\n",
              "\n",
              "        [[0.9854, 0.0033, 0.5704],\n",
              "         [0.6190, 0.8129, 0.2270]],\n",
              "\n",
              "        [[0.1372, 0.6806, 0.1717],\n",
              "         [0.7928, 0.0052, 0.8422]]], device='cuda:0')"
            ]
          },
          "metadata": {},
          "execution_count": 37
        }
      ]
    },
    {
      "cell_type": "code",
      "source": [
        "y_gpu = y.to('cuda')\n",
        "y_gpu"
      ],
      "metadata": {
        "colab": {
          "base_uri": "https://localhost:8080/"
        },
        "id": "PZeWxl2P9GZr",
        "outputId": "84a8e4cf-28fe-488a-bea5-e10890af94f3"
      },
      "execution_count": 39,
      "outputs": [
        {
          "output_type": "execute_result",
          "data": {
            "text/plain": [
              "tensor([[[6.5445, 5.2947, 6.3902],\n",
              "         [6.3283, 6.8270, 5.3060]],\n",
              "\n",
              "        [[6.7286, 5.6633, 6.2871],\n",
              "         [5.6390, 5.7698, 6.9082]],\n",
              "\n",
              "        [[6.9707, 5.0065, 6.1408],\n",
              "         [6.2380, 6.6258, 5.4539]],\n",
              "\n",
              "        [[5.2745, 6.3613, 5.3435],\n",
              "         [6.5855, 5.0104, 6.6844]]], device='cuda:0')"
            ]
          },
          "metadata": {},
          "execution_count": 39
        }
      ]
    },
    {
      "cell_type": "code",
      "source": [
        "z = torch.tensor(x+y, device='cuda')"
      ],
      "metadata": {
        "colab": {
          "base_uri": "https://localhost:8080/"
        },
        "id": "o0NW60Bx9pzW",
        "outputId": "4b838955-5a91-4ead-8dab-e9db470db30d"
      },
      "execution_count": 40,
      "outputs": [
        {
          "output_type": "stream",
          "name": "stderr",
          "text": [
            "<ipython-input-40-97fd4530f4c7>:1: UserWarning: To copy construct from a tensor, it is recommended to use sourceTensor.clone().detach() or sourceTensor.clone().detach().requires_grad_(True), rather than torch.tensor(sourceTensor).\n",
            "  z = torch.tensor(x+y, device='cuda')\n"
          ]
        }
      ]
    },
    {
      "cell_type": "code",
      "source": [
        "z"
      ],
      "metadata": {
        "colab": {
          "base_uri": "https://localhost:8080/"
        },
        "id": "n6Es-4AU934q",
        "outputId": "a493a21b-6de5-4519-e011-3dad7e54a3f9"
      },
      "execution_count": 41,
      "outputs": [
        {
          "output_type": "execute_result",
          "data": {
            "text/plain": [
              "tensor([[[7.3167, 5.4421, 7.0853],\n",
              "         [6.9924, 7.7405, 5.4591]],\n",
              "\n",
              "        [[7.5929, 5.9949, 6.9306],\n",
              "         [5.9585, 6.1548, 7.8623]],\n",
              "\n",
              "        [[7.9561, 5.0098, 6.7112],\n",
              "         [6.8569, 7.4387, 5.6809]],\n",
              "\n",
              "        [[5.4117, 7.0419, 5.5152],\n",
              "         [7.3783, 5.0156, 7.5266]]], device='cuda:0')"
            ]
          },
          "metadata": {},
          "execution_count": 41
        }
      ]
    },
    {
      "cell_type": "markdown",
      "source": [
        "Enabling all tensors to run on GPU"
      ],
      "metadata": {
        "id": "fePIAKOW96av"
      }
    },
    {
      "cell_type": "code",
      "source": [
        "torch.set_default_tensor_type(torch.cuda.FloatTensor)\n",
        "# torch.set_default_tensor_type(torch.cuda.FloatTensor)"
      ],
      "metadata": {
        "id": "bkxPGRCK94vo"
      },
      "execution_count": 44,
      "outputs": []
    },
    {
      "cell_type": "code",
      "source": [
        "a = torch.rand(5, 3)\n",
        "a"
      ],
      "metadata": {
        "colab": {
          "base_uri": "https://localhost:8080/"
        },
        "id": "3h3_grxo-FvK",
        "outputId": "619bd702-fe09-4330-a9bc-a8663873464b"
      },
      "execution_count": 45,
      "outputs": [
        {
          "output_type": "execute_result",
          "data": {
            "text/plain": [
              "tensor([[0.1775, 0.0516, 0.7139],\n",
              "        [0.3404, 0.1814, 0.2029],\n",
              "        [0.4098, 0.5411, 0.7437],\n",
              "        [0.1526, 0.7579, 0.6562],\n",
              "        [0.2447, 0.3754, 0.9121]])"
            ]
          },
          "metadata": {},
          "execution_count": 45
        }
      ]
    },
    {
      "cell_type": "code",
      "source": [
        "a.device # running on CUDA/GPU"
      ],
      "metadata": {
        "colab": {
          "base_uri": "https://localhost:8080/"
        },
        "id": "83C3MOEP-JhX",
        "outputId": "78ee2cdd-9010-4820-9a1f-057ec7194776"
      },
      "execution_count": 46,
      "outputs": [
        {
          "output_type": "execute_result",
          "data": {
            "text/plain": [
              "device(type='cuda', index=0)"
            ]
          },
          "metadata": {},
          "execution_count": 46
        }
      ]
    }
  ]
}