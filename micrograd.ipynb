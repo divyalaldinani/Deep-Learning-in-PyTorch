{
  "nbformat": 4,
  "nbformat_minor": 0,
  "metadata": {
    "colab": {
      "provenance": [],
      "authorship_tag": "ABX9TyPwmbEk6w3/r7PSRM885ihX",
      "include_colab_link": true
    },
    "kernelspec": {
      "name": "python3",
      "display_name": "Python 3"
    },
    "language_info": {
      "name": "python"
    }
  },
  "cells": [
    {
      "cell_type": "markdown",
      "metadata": {
        "id": "view-in-github",
        "colab_type": "text"
      },
      "source": [
        "<a href=\"https://colab.research.google.com/github/divyalaldinani/Deep-Learning-in-PyTorch/blob/main/micrograd.ipynb\" target=\"_parent\"><img src=\"https://colab.research.google.com/assets/colab-badge.svg\" alt=\"Open In Colab\"/></a>"
      ]
    },
    {
      "cell_type": "code",
      "execution_count": 340,
      "metadata": {
        "id": "7uqGgYLc3Uk7"
      },
      "outputs": [],
      "source": [
        "import math\n",
        "import random\n",
        "import numpy as np\n",
        "import matplotlib.pyplot as plt\n",
        "%matplotlib inline"
      ]
    },
    {
      "cell_type": "code",
      "source": [
        "def f(x):\n",
        "    return 3*x**2 - 4*x + 5"
      ],
      "metadata": {
        "id": "jroSTbsu3Xzi"
      },
      "execution_count": 341,
      "outputs": []
    },
    {
      "cell_type": "code",
      "source": [
        "f(3.0)"
      ],
      "metadata": {
        "colab": {
          "base_uri": "https://localhost:8080/"
        },
        "id": "4DD2uvZR3ZKm",
        "outputId": "8501be36-5e3a-46f6-d428-62f4fbd62d86"
      },
      "execution_count": 342,
      "outputs": [
        {
          "output_type": "execute_result",
          "data": {
            "text/plain": [
              "20.0"
            ]
          },
          "metadata": {},
          "execution_count": 342
        }
      ]
    },
    {
      "cell_type": "code",
      "source": [
        "xs = np.arange(-5, 5, 0.25)\n",
        "ys = f(xs)"
      ],
      "metadata": {
        "id": "HcJPHj053aUg"
      },
      "execution_count": 343,
      "outputs": []
    },
    {
      "cell_type": "code",
      "source": [
        "xs, ys"
      ],
      "metadata": {
        "colab": {
          "base_uri": "https://localhost:8080/"
        },
        "id": "6FTcQAc93bZC",
        "outputId": "04e8fcbd-3974-4982-a131-40a453ef5352"
      },
      "execution_count": 344,
      "outputs": [
        {
          "output_type": "execute_result",
          "data": {
            "text/plain": [
              "(array([-5.  , -4.75, -4.5 , -4.25, -4.  , -3.75, -3.5 , -3.25, -3.  ,\n",
              "        -2.75, -2.5 , -2.25, -2.  , -1.75, -1.5 , -1.25, -1.  , -0.75,\n",
              "        -0.5 , -0.25,  0.  ,  0.25,  0.5 ,  0.75,  1.  ,  1.25,  1.5 ,\n",
              "         1.75,  2.  ,  2.25,  2.5 ,  2.75,  3.  ,  3.25,  3.5 ,  3.75,\n",
              "         4.  ,  4.25,  4.5 ,  4.75]),\n",
              " array([100.    ,  91.6875,  83.75  ,  76.1875,  69.    ,  62.1875,\n",
              "         55.75  ,  49.6875,  44.    ,  38.6875,  33.75  ,  29.1875,\n",
              "         25.    ,  21.1875,  17.75  ,  14.6875,  12.    ,   9.6875,\n",
              "          7.75  ,   6.1875,   5.    ,   4.1875,   3.75  ,   3.6875,\n",
              "          4.    ,   4.6875,   5.75  ,   7.1875,   9.    ,  11.1875,\n",
              "         13.75  ,  16.6875,  20.    ,  23.6875,  27.75  ,  32.1875,\n",
              "         37.    ,  42.1875,  47.75  ,  53.6875]))"
            ]
          },
          "metadata": {},
          "execution_count": 344
        }
      ]
    },
    {
      "cell_type": "code",
      "source": [
        "plt.plot(xs, ys)"
      ],
      "metadata": {
        "colab": {
          "base_uri": "https://localhost:8080/",
          "height": 447
        },
        "id": "PPV_BXHG3cSL",
        "outputId": "6ce20873-ff0b-4aa1-d9bd-6b768e3e5133"
      },
      "execution_count": 345,
      "outputs": [
        {
          "output_type": "execute_result",
          "data": {
            "text/plain": [
              "[<matplotlib.lines.Line2D at 0x78ac9dea5a90>]"
            ]
          },
          "metadata": {},
          "execution_count": 345
        },
        {
          "output_type": "display_data",
          "data": {
            "text/plain": [
              "<Figure size 640x480 with 1 Axes>"
            ],
            "image/png": "[encoded data removed]"
          },
          "metadata": {}
        }
      ]
    },
    {
      "cell_type": "code",
      "source": [
        "h = 0.000000001\n",
        "x = -3.0"
      ],
      "metadata": {
        "id": "YNNwVVuj3drM"
      },
      "execution_count": 346,
      "outputs": []
    },
    {
      "cell_type": "code",
      "source": [
        "f(x+h)"
      ],
      "metadata": {
        "colab": {
          "base_uri": "https://localhost:8080/"
        },
        "id": "seWbZ9eu3fGD",
        "outputId": "57584675-006e-4fd2-8d7b-61ae30e6dea1"
      },
      "execution_count": 347,
      "outputs": [
        {
          "output_type": "execute_result",
          "data": {
            "text/plain": [
              "43.999999978"
            ]
          },
          "metadata": {},
          "execution_count": 347
        }
      ]
    },
    {
      "cell_type": "code",
      "source": [
        "(f(x+h)-f(x))/h # derivative of f(x) at x = 3.0"
      ],
      "metadata": {
        "colab": {
          "base_uri": "https://localhost:8080/"
        },
        "id": "4FT2DCId3gU7",
        "outputId": "023f056e-26ff-447c-acdd-898ee7efaf40"
      },
      "execution_count": 348,
      "outputs": [
        {
          "output_type": "execute_result",
          "data": {
            "text/plain": [
              "-22.000001820288162"
            ]
          },
          "metadata": {},
          "execution_count": 348
        }
      ]
    },
    {
      "cell_type": "code",
      "source": [
        "h = 0.0000001\n",
        "x = 2/3\n",
        "(f(x+h)-f(x))/h"
      ],
      "metadata": {
        "colab": {
          "base_uri": "https://localhost:8080/"
        },
        "id": "Wi3gdjFQ3hdS",
        "outputId": "5c0247aa-23a9-43c4-cc97-c980c57a1a1a"
      },
      "execution_count": 349,
      "outputs": [
        {
          "output_type": "execute_result",
          "data": {
            "text/plain": [
              "2.9753977059954195e-07"
            ]
          },
          "metadata": {},
          "execution_count": 349
        }
      ]
    },
    {
      "cell_type": "code",
      "source": [
        "## a little complex function\n",
        "a = 2.\n",
        "b = -3.\n",
        "c = 10.\n",
        "d = a*b + c\n",
        "d"
      ],
      "metadata": {
        "colab": {
          "base_uri": "https://localhost:8080/"
        },
        "id": "eG3g3fwq3igW",
        "outputId": "b23ba5f2-e0bd-41b6-b78e-2eb375327682"
      },
      "execution_count": 350,
      "outputs": [
        {
          "output_type": "execute_result",
          "data": {
            "text/plain": [
              "4.0"
            ]
          },
          "metadata": {},
          "execution_count": 350
        }
      ]
    },
    {
      "cell_type": "code",
      "source": [
        "h = 0.0001\n",
        "\n",
        "# derivative at a point\n",
        "a = 2.0\n",
        "b = -3.0\n",
        "c = 10.0\n",
        "\n",
        "d_actual = a*b + c\n",
        "d1 = (a+h)*b + c\n",
        "print(f\"slope wrt a is {(d1-d_actual)/h}\")"
      ],
      "metadata": {
        "colab": {
          "base_uri": "https://localhost:8080/"
        },
        "id": "PIZrrRYY3j02",
        "outputId": "c93d4b42-c931-49b7-8572-002fc40102ec"
      },
      "execution_count": 351,
      "outputs": [
        {
          "output_type": "stream",
          "name": "stdout",
          "text": [
            "slope wrt a is -3.000000000010772\n"
          ]
        }
      ]
    },
    {
      "cell_type": "code",
      "source": [
        "d1"
      ],
      "metadata": {
        "colab": {
          "base_uri": "https://localhost:8080/"
        },
        "id": "6GxDKrks3k_4",
        "outputId": "62651e2d-0f51-4bc4-adfd-42c29121180c"
      },
      "execution_count": 352,
      "outputs": [
        {
          "output_type": "execute_result",
          "data": {
            "text/plain": [
              "3.999699999999999"
            ]
          },
          "metadata": {},
          "execution_count": 352
        }
      ]
    },
    {
      "cell_type": "code",
      "source": [
        "d2 = a*(b+h) + c\n",
        "print(f\"slope wrt b is {(d2-d_actual)/h}\")"
      ],
      "metadata": {
        "colab": {
          "base_uri": "https://localhost:8080/"
        },
        "id": "vXf3xXHd3l15",
        "outputId": "4b445a27-52f2-4082-dc15-61b767cda4bd"
      },
      "execution_count": 353,
      "outputs": [
        {
          "output_type": "stream",
          "name": "stdout",
          "text": [
            "slope wrt b is 2.0000000000042206\n"
          ]
        }
      ]
    },
    {
      "cell_type": "code",
      "source": [
        "d3 = a*b + (c+h)\n",
        "print(f\"slope wrt is {(d3-d_actual)/h}\")"
      ],
      "metadata": {
        "colab": {
          "base_uri": "https://localhost:8080/"
        },
        "id": "-xEclVXw3m4z",
        "outputId": "baf09398-a3b8-4fad-8caa-b064d3286a06"
      },
      "execution_count": 354,
      "outputs": [
        {
          "output_type": "stream",
          "name": "stdout",
          "text": [
            "slope wrt is 0.9999999999976694\n"
          ]
        }
      ]
    },
    {
      "cell_type": "markdown",
      "source": [
        "### started working on NN"
      ],
      "metadata": {
        "id": "V9pwSxHA3oQT"
      }
    },
    {
      "cell_type": "code",
      "source": [
        "class Value:\n",
        "\n",
        "    def __init__(self, data, _children=(), _op = '', label = '' ): # children is the set of nodes that are involved in the making of a particular node, like d = a*b has children = {a, b}, label = var_name, op = '*'\n",
        "        self.data = data\n",
        "        self.grad = 0.0 # d(output)/d(node)\n",
        "        self._backward = lambda : None\n",
        "        self._prev = set(_children)\n",
        "        self._op = _op\n",
        "        self.label = label\n",
        "\n",
        "    def __repr__(self): # defines the way to print an object\n",
        "        return f\"Value(data={self.data}), label='{self.label}'\"\n",
        "\n",
        "    def __add__(self, other): # addition(+) operation on values objects\n",
        "        other = other if isinstance(other, Value) else Value(other) # in case other is constant\n",
        "        out = Value(self.data + other.data, (self, other), '+')\n",
        "\n",
        "        def _backward() :\n",
        "            self.grad += out.grad # accumulating grads if a var is used more than once, initially when the var is created, grad is 0\n",
        "            other.grad += out.grad\n",
        "            # in addition, gradient flows through inputs\n",
        "\n",
        "        out._backward = _backward\n",
        "        return out\n",
        "\n",
        "    def __radd__(self, other):\n",
        "      return self + other\n",
        "\n",
        "    def __mul__(self, other):\n",
        "        other = other if isinstance(other, Value) else Value(other) # in case other is constant\n",
        "        out = Value(self.data * other.data, (self, other), '*')\n",
        "\n",
        "        def _backward():\n",
        "            self.grad += other.data * out.grad # y = x1*w1, dx1/dy = w1 * dy/dy, dw1/dy = x1 * dy/dy\n",
        "            other.grad += self.data * out.grad\n",
        "\n",
        "        out._backward = _backward\n",
        "        return out\n",
        "\n",
        "    def __rmul__(self, other): # other * self, in case self is constant and other is Value object\n",
        "        return self * other\n",
        "\n",
        "    def __truediv__(self, other):\n",
        "        return self*other**(-1)\n",
        "\n",
        "    def tanh(self):\n",
        "        x = self.data\n",
        "        t = (math.exp(2*x)-1)/(math.exp(2*x)+1)\n",
        "        out = Value(t, (self, ), 'tanh' )\n",
        "\n",
        "        def _backward():\n",
        "            self.grad += (1 - t ** 2)*out.grad # y = tanh(x), dy/dx = 1-tanh(x)**2*dx/dx = 1-y**2 * dx/dx\n",
        "\n",
        "        out._backward = _backward\n",
        "        return out\n",
        "\n",
        "    def __pow__(self, other):\n",
        "        assert isinstance(other, (int, float))\n",
        "        out = Value(self.data ** other, (self, ), f'**{other}')\n",
        "\n",
        "        def _backward():\n",
        "            self.grad = other * self.data**(other-1) * out.grad\n",
        "        out._backward = _backward\n",
        "        return out\n",
        "\n",
        "    def exp(self):\n",
        "        x = self.data\n",
        "        out = Value(math.exp(x), (self, ), 'tanh' )\n",
        "\n",
        "        def _backward():\n",
        "            self.grad += out.data * out.grad # y = tanh(x), dy/dx = 1-tanh(x)**2*dx/dx = 1-y**2 * dx/dx\n",
        "\n",
        "        out._backward = _backward\n",
        "        return out\n",
        "\n",
        "    def __neg__(self):\n",
        "        return self*(-1)\n",
        "\n",
        "    def __sub__(self, other):\n",
        "        return self + (-other)\n",
        "\n",
        "    def backward(self):\n",
        "      # topo logical sort to call backward function from rightmost node towards left node and call backward fn such that all nodes on the right of a node are processed before calling backward for a particular node\n",
        "\n",
        "      topo = []\n",
        "      visited = set()\n",
        "      def build_topo(v):\n",
        "        if v not in visited:\n",
        "          visited.add(v)\n",
        "          for child in v._prev:\n",
        "            build_topo(child)\n",
        "          topo.append(v)\n",
        "\n",
        "      build_topo(self) # only calld for output variable/loss fn\n",
        "      self.grad = 1.0\n",
        "      for node in reversed(topo):\n",
        "          node._backward()\n",
        "\n",
        "\n",
        "a = Value(2.0, label = 'a')\n",
        "b = Value(-3.0, label = 'b')\n",
        "c = Value(10.0, label = 'c')\n",
        "e = a*b; e.label = 'e'\n",
        "d = e + c; d.label = 'd'\n",
        "f = Value(-2.0, label = 'f')\n",
        "L = d*f; L.label = 'L'\n",
        "L"
      ],
      "metadata": {
        "id": "H8v2UU1q3sB-",
        "colab": {
          "base_uri": "https://localhost:8080/"
        },
        "outputId": "0dd86939-06d4-473f-9d2e-7c221b4d654d"
      },
      "execution_count": 355,
      "outputs": [
        {
          "output_type": "execute_result",
          "data": {
            "text/plain": [
              "Value(data=-8.0), label='L'"
            ]
          },
          "metadata": {},
          "execution_count": 355
        }
      ]
    },
    {
      "cell_type": "code",
      "source": [
        "(a.__mul__(b)).__add__(c)"
      ],
      "metadata": {
        "colab": {
          "base_uri": "https://localhost:8080/"
        },
        "id": "3qq4ch7m3sgV",
        "outputId": "3a579f19-6194-4f4b-8d59-45022b44ca35"
      },
      "execution_count": 356,
      "outputs": [
        {
          "output_type": "execute_result",
          "data": {
            "text/plain": [
              "Value(data=4.0), label=''"
            ]
          },
          "metadata": {},
          "execution_count": 356
        }
      ]
    },
    {
      "cell_type": "code",
      "source": [
        "d._op"
      ],
      "metadata": {
        "colab": {
          "base_uri": "https://localhost:8080/",
          "height": 36
        },
        "id": "S2eZGNAh4gzR",
        "outputId": "3acb4a28-2832-425a-e1b7-53a62a37423a"
      },
      "execution_count": 357,
      "outputs": [
        {
          "output_type": "execute_result",
          "data": {
            "text/plain": [
              "'+'"
            ],
            "application/vnd.google.colaboratory.intrinsic+json": {
              "type": "string"
            }
          },
          "metadata": {},
          "execution_count": 357
        }
      ]
    },
    {
      "cell_type": "code",
      "source": [
        "from graphviz import Digraph\n",
        "\n",
        "def trace(root):\n",
        "  # builds a set of all nodes and edges in a graph\n",
        "  nodes, edges = set(), set()\n",
        "  def build(v):\n",
        "    if v not in nodes:\n",
        "      nodes.add(v)\n",
        "      for child in v._prev:\n",
        "        edges.add((child, v))\n",
        "        build(child)\n",
        "  build(root)\n",
        "  return nodes, edges\n",
        "\n",
        "def draw_dot(root):\n",
        "  dot = Digraph(format='svg', graph_attr={'rankdir': 'LR'}) # LR = left to right\n",
        "\n",
        "  nodes, edges = trace(root)\n",
        "  for n in nodes:\n",
        "    uid = str(id(n))\n",
        "    # for any value in the graph, create a rectangular ('record') node for it\n",
        "    dot.node(name = uid, label = \"{ %s | data %.4f | grad %.4f}\" % (n.label, n.data, n.grad), shape='record')\n",
        "    if n._op: # op nodes\n",
        "      # if this value is a result of some operation, create an op node for it\n",
        "      dot.node(name = uid + n._op, label = n._op)\n",
        "      # and connect this node to it\n",
        "      dot.edge(uid + n._op, uid)\n",
        "\n",
        "  for n1, n2 in edges:\n",
        "    # connect n1 to the op node of n2\n",
        "    dot.edge(str(id(n1)), str(id(n2)) + n2._op)\n",
        "\n",
        "  return dot"
      ],
      "metadata": {
        "id": "3skhO0Uq3t9D"
      },
      "execution_count": 358,
      "outputs": []
    },
    {
      "cell_type": "code",
      "source": [
        "L.grad = 1.0\n",
        "d.grad = f.data\n",
        "f.grad = d.data\n",
        "c.grad = d.grad\n",
        "e.grad = d.grad\n",
        "a.grad = e.grad * b.data\n",
        "b.grad = e.grad * a.data"
      ],
      "metadata": {
        "id": "O86-CJkh85wq"
      },
      "execution_count": 359,
      "outputs": []
    },
    {
      "cell_type": "code",
      "source": [
        "draw_dot(L)"
      ],
      "metadata": {
        "colab": {
          "base_uri": "https://localhost:8080/",
          "height": 250
        },
        "id": "OPsA8jAv3vTs",
        "outputId": "e2126ac0-ffde-4c88-e76b-dd60dba1da56"
      },
      "execution_count": 360,
      "outputs": [
        {
          "output_type": "execute_result",
          "data": {
            "image/svg+xml": "<?xml version=\"1.0\" encoding=\"UTF-8\" standalone=\"no\"?>\n<!DOCTYPE svg PUBLIC \"-//W3C//DTD SVG 1.1//EN\"\n \"http://www.w3.org/Graphics/SVG/1.1/DTD/svg11.dtd\">\n<!-- Generated by graphviz version 2.43.0 (0)\n -->\n<!-- Title: %3 Pages: 1 -->\n<svg width=\"1157pt\" height=\"156pt\"\n viewBox=\"0.00 0.00 1157.00 156.00\" xmlns=\"http://www.w3.org/2000/svg\" xmlns:xlink=\"http://www.w3.org/1999/xlink\">\n<g id=\"graph0\" class=\"graph\" transform=\"scale(1 1) rotate(0) translate(4 152)\">\n<title>%3</title>\n<polygon fill=\"white\" stroke=\"transparent\" points=\"-4,4 -4,-152 1153,-152 1153,4 -4,4\"/>\n<!-- 132682770402704 -->\n<g id=\"node1\" class=\"node\">\n<title>132682770402704</title>\n<polygon fill=\"none\" stroke=\"black\" points=\"0,-111.5 0,-147.5 194,-147.5 194,-111.5 0,-111.5\"/>\n<text text-anchor=\"middle\" x=\"11.5\" y=\"-125.8\" font-family=\"Times,serif\" font-size=\"14.00\">b</text>\n<polyline fill=\"none\" stroke=\"black\" points=\"23,-111.5 23,-147.5 \"/>\n<text text-anchor=\"middle\" x=\"65.5\" y=\"-125.8\" font-family=\"Times,serif\" font-size=\"14.00\">data &#45;3.0000</text>\n<polyline fill=\"none\" stroke=\"black\" points=\"108,-111.5 108,-147.5 \"/>\n<text text-anchor=\"middle\" x=\"151\" y=\"-125.8\" font-family=\"Times,serif\" font-size=\"14.00\">grad &#45;4.0000</text>\n</g>\n<!-- 132682767650000* -->\n<g id=\"node7\" class=\"node\">\n<title>132682767650000*</title>\n<ellipse fill=\"none\" stroke=\"black\" cx=\"257\" cy=\"-101.5\" rx=\"27\" ry=\"18\"/>\n<text text-anchor=\"middle\" x=\"257\" y=\"-97.8\" font-family=\"Times,serif\" font-size=\"14.00\">*</text>\n</g>\n<!-- 132682770402704&#45;&gt;132682767650000* -->\n<g id=\"edge6\" class=\"edge\">\n<title>132682770402704&#45;&gt;132682767650000*</title>\n<path fill=\"none\" stroke=\"black\" d=\"M194.01,-112.49C203.35,-110.83 212.37,-109.23 220.49,-107.79\"/>\n<polygon fill=\"black\" stroke=\"black\" points=\"221.37,-111.19 230.6,-106 220.15,-104.3 221.37,-111.19\"/>\n</g>\n<!-- 132682767650896 -->\n<g id=\"node2\" class=\"node\">\n<title>132682767650896</title>\n<polygon fill=\"none\" stroke=\"black\" points=\"642,-55.5 642,-91.5 831,-91.5 831,-55.5 642,-55.5\"/>\n<text text-anchor=\"middle\" x=\"653.5\" y=\"-69.8\" font-family=\"Times,serif\" font-size=\"14.00\">d</text>\n<polyline fill=\"none\" stroke=\"black\" points=\"665,-55.5 665,-91.5 \"/>\n<text text-anchor=\"middle\" x=\"705\" y=\"-69.8\" font-family=\"Times,serif\" font-size=\"14.00\">data 4.0000</text>\n<polyline fill=\"none\" stroke=\"black\" points=\"745,-55.5 745,-91.5 \"/>\n<text text-anchor=\"middle\" x=\"788\" y=\"-69.8\" font-family=\"Times,serif\" font-size=\"14.00\">grad &#45;2.0000</text>\n</g>\n<!-- 132682767649616* -->\n<g id=\"node9\" class=\"node\">\n<title>132682767649616*</title>\n<ellipse fill=\"none\" stroke=\"black\" cx=\"894\" cy=\"-45.5\" rx=\"27\" ry=\"18\"/>\n<text text-anchor=\"middle\" x=\"894\" y=\"-41.8\" font-family=\"Times,serif\" font-size=\"14.00\">*</text>\n</g>\n<!-- 132682767650896&#45;&gt;132682767649616* -->\n<g id=\"edge8\" class=\"edge\">\n<title>132682767650896&#45;&gt;132682767649616*</title>\n<path fill=\"none\" stroke=\"black\" d=\"M831.1,-56.65C840.4,-54.97 849.38,-53.35 857.49,-51.89\"/>\n<polygon fill=\"black\" stroke=\"black\" points=\"858.37,-55.29 867.59,-50.07 857.13,-48.4 858.37,-55.29\"/>\n</g>\n<!-- 132682767650896+ -->\n<g id=\"node3\" class=\"node\">\n<title>132682767650896+</title>\n<ellipse fill=\"none\" stroke=\"black\" cx=\"579\" cy=\"-73.5\" rx=\"27\" ry=\"18\"/>\n<text text-anchor=\"middle\" x=\"579\" y=\"-69.8\" font-family=\"Times,serif\" font-size=\"14.00\">+</text>\n</g>\n<!-- 132682767650896+&#45;&gt;132682767650896 -->\n<g id=\"edge1\" class=\"edge\">\n<title>132682767650896+&#45;&gt;132682767650896</title>\n<path fill=\"none\" stroke=\"black\" d=\"M606.03,-73.5C613.66,-73.5 622.52,-73.5 631.94,-73.5\"/>\n<polygon fill=\"black\" stroke=\"black\" points=\"631.94,-77 641.94,-73.5 631.94,-70 631.94,-77\"/>\n</g>\n<!-- 132682772973648 -->\n<g id=\"node4\" class=\"node\">\n<title>132682772973648</title>\n<polygon fill=\"none\" stroke=\"black\" points=\"320,-28.5 320,-64.5 516,-64.5 516,-28.5 320,-28.5\"/>\n<text text-anchor=\"middle\" x=\"331.5\" y=\"-42.8\" font-family=\"Times,serif\" font-size=\"14.00\">c</text>\n<polyline fill=\"none\" stroke=\"black\" points=\"343,-28.5 343,-64.5 \"/>\n<text text-anchor=\"middle\" x=\"386.5\" y=\"-42.8\" font-family=\"Times,serif\" font-size=\"14.00\">data 10.0000</text>\n<polyline fill=\"none\" stroke=\"black\" points=\"430,-28.5 430,-64.5 \"/>\n<text text-anchor=\"middle\" x=\"473\" y=\"-42.8\" font-family=\"Times,serif\" font-size=\"14.00\">grad &#45;2.0000</text>\n</g>\n<!-- 132682772973648&#45;&gt;132682767650896+ -->\n<g id=\"edge7\" class=\"edge\">\n<title>132682772973648&#45;&gt;132682767650896+</title>\n<path fill=\"none\" stroke=\"black\" d=\"M516.07,-62.98C525.42,-64.57 534.43,-66.1 542.55,-67.48\"/>\n<polygon fill=\"black\" stroke=\"black\" points=\"542.21,-70.97 552.65,-69.2 543.38,-64.07 542.21,-70.97\"/>\n</g>\n<!-- 132682767651472 -->\n<g id=\"node5\" class=\"node\">\n<title>132682767651472</title>\n<polygon fill=\"none\" stroke=\"black\" points=\"642.5,-0.5 642.5,-36.5 830.5,-36.5 830.5,-0.5 642.5,-0.5\"/>\n<text text-anchor=\"middle\" x=\"653\" y=\"-14.8\" font-family=\"Times,serif\" font-size=\"14.00\">f</text>\n<polyline fill=\"none\" stroke=\"black\" points=\"663.5,-0.5 663.5,-36.5 \"/>\n<text text-anchor=\"middle\" x=\"706\" y=\"-14.8\" font-family=\"Times,serif\" font-size=\"14.00\">data &#45;2.0000</text>\n<polyline fill=\"none\" stroke=\"black\" points=\"748.5,-0.5 748.5,-36.5 \"/>\n<text text-anchor=\"middle\" x=\"789.5\" y=\"-14.8\" font-family=\"Times,serif\" font-size=\"14.00\">grad 4.0000</text>\n</g>\n<!-- 132682767651472&#45;&gt;132682767649616* -->\n<g id=\"edge9\" class=\"edge\">\n<title>132682767651472&#45;&gt;132682767649616*</title>\n<path fill=\"none\" stroke=\"black\" d=\"M830.65,-34.67C840.2,-36.33 849.43,-37.93 857.72,-39.37\"/>\n<polygon fill=\"black\" stroke=\"black\" points=\"857.24,-42.84 867.69,-41.11 858.44,-35.95 857.24,-42.84\"/>\n</g>\n<!-- 132682767650000 -->\n<g id=\"node6\" class=\"node\">\n<title>132682767650000</title>\n<polygon fill=\"none\" stroke=\"black\" points=\"321,-83.5 321,-119.5 515,-119.5 515,-83.5 321,-83.5\"/>\n<text text-anchor=\"middle\" x=\"332.5\" y=\"-97.8\" font-family=\"Times,serif\" font-size=\"14.00\">e</text>\n<polyline fill=\"none\" stroke=\"black\" points=\"344,-83.5 344,-119.5 \"/>\n<text text-anchor=\"middle\" x=\"386.5\" y=\"-97.8\" font-family=\"Times,serif\" font-size=\"14.00\">data &#45;6.0000</text>\n<polyline fill=\"none\" stroke=\"black\" points=\"429,-83.5 429,-119.5 \"/>\n<text text-anchor=\"middle\" x=\"472\" y=\"-97.8\" font-family=\"Times,serif\" font-size=\"14.00\">grad &#45;2.0000</text>\n</g>\n<!-- 132682767650000&#45;&gt;132682767650896+ -->\n<g id=\"edge5\" class=\"edge\">\n<title>132682767650000&#45;&gt;132682767650896+</title>\n<path fill=\"none\" stroke=\"black\" d=\"M515.16,-84.57C524.82,-82.87 534.13,-81.23 542.49,-79.75\"/>\n<polygon fill=\"black\" stroke=\"black\" points=\"543.3,-83.17 552.54,-77.98 542.08,-76.27 543.3,-83.17\"/>\n</g>\n<!-- 132682767650000*&#45;&gt;132682767650000 -->\n<g id=\"edge2\" class=\"edge\">\n<title>132682767650000*&#45;&gt;132682767650000</title>\n<path fill=\"none\" stroke=\"black\" d=\"M284.26,-101.5C292.05,-101.5 301.1,-101.5 310.75,-101.5\"/>\n<polygon fill=\"black\" stroke=\"black\" points=\"310.99,-105 320.99,-101.5 310.99,-98 310.99,-105\"/>\n</g>\n<!-- 132682767649616 -->\n<g id=\"node8\" class=\"node\">\n<title>132682767649616</title>\n<polygon fill=\"none\" stroke=\"black\" points=\"957,-27.5 957,-63.5 1149,-63.5 1149,-27.5 957,-27.5\"/>\n<text text-anchor=\"middle\" x=\"969.5\" y=\"-41.8\" font-family=\"Times,serif\" font-size=\"14.00\">L</text>\n<polyline fill=\"none\" stroke=\"black\" points=\"982,-27.5 982,-63.5 \"/>\n<text text-anchor=\"middle\" x=\"1024.5\" y=\"-41.8\" font-family=\"Times,serif\" font-size=\"14.00\">data &#45;8.0000</text>\n<polyline fill=\"none\" stroke=\"black\" points=\"1067,-27.5 1067,-63.5 \"/>\n<text text-anchor=\"middle\" x=\"1108\" y=\"-41.8\" font-family=\"Times,serif\" font-size=\"14.00\">grad 1.0000</text>\n</g>\n<!-- 132682767649616*&#45;&gt;132682767649616 -->\n<g id=\"edge3\" class=\"edge\">\n<title>132682767649616*&#45;&gt;132682767649616</title>\n<path fill=\"none\" stroke=\"black\" d=\"M921.28,-45.5C928.78,-45.5 937.44,-45.5 946.67,-45.5\"/>\n<polygon fill=\"black\" stroke=\"black\" points=\"946.87,-49 956.87,-45.5 946.87,-42 946.87,-49\"/>\n</g>\n<!-- 132682767710608 -->\n<g id=\"node10\" class=\"node\">\n<title>132682767710608</title>\n<polygon fill=\"none\" stroke=\"black\" points=\"4.5,-56.5 4.5,-92.5 189.5,-92.5 189.5,-56.5 4.5,-56.5\"/>\n<text text-anchor=\"middle\" x=\"16\" y=\"-70.8\" font-family=\"Times,serif\" font-size=\"14.00\">a</text>\n<polyline fill=\"none\" stroke=\"black\" points=\"27.5,-56.5 27.5,-92.5 \"/>\n<text text-anchor=\"middle\" x=\"67.5\" y=\"-70.8\" font-family=\"Times,serif\" font-size=\"14.00\">data 2.0000</text>\n<polyline fill=\"none\" stroke=\"black\" points=\"107.5,-56.5 107.5,-92.5 \"/>\n<text text-anchor=\"middle\" x=\"148.5\" y=\"-70.8\" font-family=\"Times,serif\" font-size=\"14.00\">grad 6.0000</text>\n</g>\n<!-- 132682767710608&#45;&gt;132682767650000* -->\n<g id=\"edge4\" class=\"edge\">\n<title>132682767710608&#45;&gt;132682767650000*</title>\n<path fill=\"none\" stroke=\"black\" d=\"M189.91,-90.21C200.76,-92.06 211.28,-93.86 220.61,-95.45\"/>\n<polygon fill=\"black\" stroke=\"black\" points=\"220.16,-98.93 230.6,-97.16 221.34,-92.03 220.16,-98.93\"/>\n</g>\n</g>\n</svg>\n",
            "text/plain": [
              "<graphviz.graphs.Digraph at 0x78ac9d3ba610>"
            ]
          },
          "metadata": {},
          "execution_count": 360
        }
      ]
    },
    {
      "cell_type": "code",
      "source": [
        "def lol():\n",
        "  h = 0.00001\n",
        "  a = Value(2.0, label = 'a')\n",
        "  b = Value(-3.0, label = 'b')\n",
        "  c = Value(10.0, label = 'c')\n",
        "  e = a*b; e.label = 'e'\n",
        "  d = e + c; d.label = 'd'\n",
        "  f = Value(-2.0, label = 'f')\n",
        "  L = d*f; L.label = 'L'\n",
        "  L1 = L.data\n",
        "\n",
        "\n",
        "  a = Value(2.0, label = 'a')\n",
        "  # a.data += h\n",
        "  b = Value(-3.0, label = 'b')\n",
        "  b.data += h\n",
        "  c = Value(10.0, label = 'c')\n",
        "  e = a*b; e.label = 'e'\n",
        "  d = e + c; d.label = 'd'\n",
        "  f = Value(-2.0, label = 'f')\n",
        "  L = d*f; L.label = 'L'\n",
        "  L2 = L.data\n",
        "\n",
        "  print((L2-L1)/h) # dL/dd\n"
      ],
      "metadata": {
        "id": "Kj4DvKrr34XO"
      },
      "execution_count": 361,
      "outputs": []
    },
    {
      "cell_type": "code",
      "source": [
        "lol()"
      ],
      "metadata": {
        "colab": {
          "base_uri": "https://localhost:8080/"
        },
        "id": "xGJam95X8KkO",
        "outputId": "6a2332ec-438c-48cf-9af8-e1e1f2c10f51"
      },
      "execution_count": 362,
      "outputs": [
        {
          "output_type": "stream",
          "name": "stdout",
          "text": [
            "-4.000000000026205\n"
          ]
        }
      ]
    },
    {
      "cell_type": "markdown",
      "source": [
        "dL / dc = dL/dd * dd/dc = dL/dd * 1.0 = dL/dd<br>\n",
        "dd / dc = 1.0<br>\n",
        "d = c+e\n"
      ],
      "metadata": {
        "id": "dTtnGdw58leV"
      }
    },
    {
      "cell_type": "markdown",
      "source": [
        "dL/de = -2\n",
        "\n",
        "dL/da = ?\n",
        "\n",
        "dL/da = dL/de * de/da = dL/de * b =\n",
        "e = a*b\n"
      ],
      "metadata": {
        "id": "6z9k3PQrAam8"
      }
    },
    {
      "cell_type": "code",
      "source": [
        "## changing leaf nodes in the direction of their respective gradient to increase the value of L\n",
        "a.data += 0.01 * a.grad\n",
        "b.data += 0.01 * b.grad\n",
        "c.data += 0.01 * c.grad\n",
        "f.data += 0.01 * f.grad\n",
        "\n",
        "e = a * b\n",
        "d = c + e\n",
        "L = d * f\n",
        "L # l increases"
      ],
      "metadata": {
        "colab": {
          "base_uri": "https://localhost:8080/"
        },
        "id": "txHIkAokDrFS",
        "outputId": "c829e096-0e49-415a-a116-248395e9778d"
      },
      "execution_count": 363,
      "outputs": [
        {
          "output_type": "execute_result",
          "data": {
            "text/plain": [
              "Value(data=-7.286496), label=''"
            ]
          },
          "metadata": {},
          "execution_count": 363
        }
      ]
    },
    {
      "cell_type": "code",
      "source": [
        "plt.plot(np.arange(-5, 5, 0.2), np.tanh(np.arange(-5, 5, 0.2)));\n",
        "plt.grid()"
      ],
      "metadata": {
        "colab": {
          "base_uri": "https://localhost:8080/",
          "height": 430
        },
        "id": "08qKi0qe-gNy",
        "outputId": "3d7009fa-4f4d-4836-ab4b-5b936519afa4"
      },
      "execution_count": 364,
      "outputs": [
        {
          "output_type": "display_data",
          "data": {
            "text/plain": [
              "<Figure size 640x480 with 1 Axes>"
            ],
            "image/png": "[encoded data removed]"
          },
          "metadata": {}
        }
      ]
    },
    {
      "cell_type": "markdown",
      "source": [
        "### Simple NN"
      ],
      "metadata": {
        "id": "CkWdx4_RD8hp"
      }
    },
    {
      "cell_type": "code",
      "source": [
        "#inputs: x1, x2, weights: w1, w2\n",
        "x1 = Value(2.0, label='x1')\n",
        "x2 = Value(0.0, label='x2')\n",
        "w1 = Value(-3.0, label='w1')\n",
        "w2 = Value(1.0, label='w2')\n",
        "b = Value(6.8813735870195432, label='b')\n",
        "x1w1 = x1*w1; x1w1.label = 'x1 * w1'\n",
        "x2w2 = x2*w2; x2w2.label = 'x2 * w2'\n",
        "x1w1x2w2 = x1w1 + x2w2;\n",
        "x1w1x2w2.label = 'x1 * w1 + x2 * w2'\n",
        "n = x1w1x2w2 + b; n.label = 'n'\n",
        "o = n.tanh(); o.label = 'o'"
      ],
      "metadata": {
        "id": "JTLTE-Jh8aLF"
      },
      "execution_count": 365,
      "outputs": []
    },
    {
      "cell_type": "code",
      "source": [
        "# o.grad = 1.0\n",
        "\n",
        "# # o = tanh(n), do/dn = 1-tanh(n)**2\n",
        "# # do/dn = 1-o**2\n",
        "# n.grad = 1-o.data**2\n",
        "# x1w1x2w2.grad = n.grad\n",
        "# b.grad = n.grad\n",
        "\n",
        "# x1w1.grad = x1w1x2w2.grad\n",
        "# x2w2.grad = x1w1x2w2.grad\n",
        "\n",
        "# # do/dx2 = do/dx2w2 * dx2w2/dx2 = do/dx2w2 * w2\n",
        "# x2.grad = x2w2.grad * w2.data\n",
        "# w2.grad = x2w2.grad * x2.data\n",
        "# x1.grad = x1w1.grad * w1.data\n",
        "# w1.grad = x1w1.grad * x1.data"
      ],
      "metadata": {
        "id": "1QFxuX7K9LaT"
      },
      "execution_count": 366,
      "outputs": []
    },
    {
      "cell_type": "code",
      "source": [
        "# o.grad = 1.0\n",
        "# o._backward()\n",
        "\n",
        "\n",
        "# n._backward()\n",
        "\n",
        "# b._backward()\n",
        "\n",
        "# x1w1x2w2._backward()\n",
        "\n",
        "# x1w1._backward()\n",
        "# x2w2._backward()"
      ],
      "metadata": {
        "id": "rRtprEM4Fhm0"
      },
      "execution_count": 367,
      "outputs": []
    },
    {
      "cell_type": "code",
      "source": [
        "draw_dot(o)"
      ],
      "metadata": {
        "colab": {
          "base_uri": "https://localhost:8080/",
          "height": 322
        },
        "id": "lllBFL3j9NhS",
        "outputId": "c6b09fb2-c9f5-49cb-ab5b-5a07e295442c"
      },
      "execution_count": 368,
      "outputs": [
        {
          "output_type": "execute_result",
          "data": {
            "image/svg+xml": "<?xml version=\"1.0\" encoding=\"UTF-8\" standalone=\"no\"?>\n<!DOCTYPE svg PUBLIC \"-//W3C//DTD SVG 1.1//EN\"\n \"http://www.w3.org/Graphics/SVG/1.1/DTD/svg11.dtd\">\n<!-- Generated by graphviz version 2.43.0 (0)\n -->\n<!-- Title: %3 Pages: 1 -->\n<svg width=\"1598pt\" height=\"210pt\"\n viewBox=\"0.00 0.00 1598.00 210.00\" xmlns=\"http://www.w3.org/2000/svg\" xmlns:xlink=\"http://www.w3.org/1999/xlink\">\n<g id=\"graph0\" class=\"graph\" transform=\"scale(1 1) rotate(0) translate(4 206)\">\n<title>%3</title>\n<polygon fill=\"white\" stroke=\"transparent\" points=\"-4,4 -4,-206 1594,-206 1594,4 -4,4\"/>\n<!-- 132682779090960 -->\n<g id=\"node1\" class=\"node\">\n<title>132682779090960</title>\n<polygon fill=\"none\" stroke=\"black\" points=\"680,-82.5 680,-118.5 968,-118.5 968,-82.5 680,-82.5\"/>\n<text text-anchor=\"middle\" x=\"740.5\" y=\"-96.8\" font-family=\"Times,serif\" font-size=\"14.00\">x1 * w1 + x2 * w2</text>\n<polyline fill=\"none\" stroke=\"black\" points=\"801,-82.5 801,-118.5 \"/>\n<text text-anchor=\"middle\" x=\"843.5\" y=\"-96.8\" font-family=\"Times,serif\" font-size=\"14.00\">data &#45;6.0000</text>\n<polyline fill=\"none\" stroke=\"black\" points=\"886,-82.5 886,-118.5 \"/>\n<text text-anchor=\"middle\" x=\"927\" y=\"-96.8\" font-family=\"Times,serif\" font-size=\"14.00\">grad 0.0000</text>\n</g>\n<!-- 132682779098832+ -->\n<g id=\"node7\" class=\"node\">\n<title>132682779098832+</title>\n<ellipse fill=\"none\" stroke=\"black\" cx=\"1031\" cy=\"-127.5\" rx=\"27\" ry=\"18\"/>\n<text text-anchor=\"middle\" x=\"1031\" y=\"-123.8\" font-family=\"Times,serif\" font-size=\"14.00\">+</text>\n</g>\n<!-- 132682779090960&#45;&gt;132682779098832+ -->\n<g id=\"edge9\" class=\"edge\">\n<title>132682779090960&#45;&gt;132682779098832+</title>\n<path fill=\"none\" stroke=\"black\" d=\"M961.74,-118.51C973.37,-120.04 984.34,-121.49 993.94,-122.75\"/>\n<polygon fill=\"black\" stroke=\"black\" points=\"993.79,-126.26 1004.16,-124.1 994.71,-119.32 993.79,-126.26\"/>\n</g>\n<!-- 132682779090960+ -->\n<g id=\"node2\" class=\"node\">\n<title>132682779090960+</title>\n<ellipse fill=\"none\" stroke=\"black\" cx=\"617\" cy=\"-100.5\" rx=\"27\" ry=\"18\"/>\n<text text-anchor=\"middle\" x=\"617\" y=\"-96.8\" font-family=\"Times,serif\" font-size=\"14.00\">+</text>\n</g>\n<!-- 132682779090960+&#45;&gt;132682779090960 -->\n<g id=\"edge1\" class=\"edge\">\n<title>132682779090960+&#45;&gt;132682779090960</title>\n<path fill=\"none\" stroke=\"black\" d=\"M644.38,-100.5C651.69,-100.5 660.17,-100.5 669.41,-100.5\"/>\n<polygon fill=\"black\" stroke=\"black\" points=\"669.69,-104 679.69,-100.5 669.69,-97 669.69,-104\"/>\n</g>\n<!-- 132682767821968 -->\n<g id=\"node3\" class=\"node\">\n<title>132682767821968</title>\n<polygon fill=\"none\" stroke=\"black\" points=\"326,-110.5 326,-146.5 554,-146.5 554,-110.5 326,-110.5\"/>\n<text text-anchor=\"middle\" x=\"356.5\" y=\"-124.8\" font-family=\"Times,serif\" font-size=\"14.00\">x1 * w1</text>\n<polyline fill=\"none\" stroke=\"black\" points=\"387,-110.5 387,-146.5 \"/>\n<text text-anchor=\"middle\" x=\"429.5\" y=\"-124.8\" font-family=\"Times,serif\" font-size=\"14.00\">data &#45;6.0000</text>\n<polyline fill=\"none\" stroke=\"black\" points=\"472,-110.5 472,-146.5 \"/>\n<text text-anchor=\"middle\" x=\"513\" y=\"-124.8\" font-family=\"Times,serif\" font-size=\"14.00\">grad 0.0000</text>\n</g>\n<!-- 132682767821968&#45;&gt;132682779090960+ -->\n<g id=\"edge12\" class=\"edge\">\n<title>132682767821968&#45;&gt;132682779090960+</title>\n<path fill=\"none\" stroke=\"black\" d=\"M553.81,-110.45C563.28,-108.93 572.32,-107.49 580.43,-106.19\"/>\n<polygon fill=\"black\" stroke=\"black\" points=\"581.19,-109.61 590.51,-104.58 580.08,-102.7 581.19,-109.61\"/>\n</g>\n<!-- 132682767821968* -->\n<g id=\"node4\" class=\"node\">\n<title>132682767821968*</title>\n<ellipse fill=\"none\" stroke=\"black\" cx=\"263\" cy=\"-128.5\" rx=\"27\" ry=\"18\"/>\n<text text-anchor=\"middle\" x=\"263\" y=\"-124.8\" font-family=\"Times,serif\" font-size=\"14.00\">*</text>\n</g>\n<!-- 132682767821968*&#45;&gt;132682767821968 -->\n<g id=\"edge2\" class=\"edge\">\n<title>132682767821968*&#45;&gt;132682767821968</title>\n<path fill=\"none\" stroke=\"black\" d=\"M290.2,-128.5C297.62,-128.5 306.23,-128.5 315.48,-128.5\"/>\n<polygon fill=\"black\" stroke=\"black\" points=\"315.76,-132 325.76,-128.5 315.76,-125 315.76,-132\"/>\n</g>\n<!-- 132682767816592 -->\n<g id=\"node5\" class=\"node\">\n<title>132682767816592</title>\n<polygon fill=\"none\" stroke=\"black\" points=\"2.5,-55.5 2.5,-91.5 197.5,-91.5 197.5,-55.5 2.5,-55.5\"/>\n<text text-anchor=\"middle\" x=\"19\" y=\"-69.8\" font-family=\"Times,serif\" font-size=\"14.00\">w2</text>\n<polyline fill=\"none\" stroke=\"black\" points=\"35.5,-55.5 35.5,-91.5 \"/>\n<text text-anchor=\"middle\" x=\"75.5\" y=\"-69.8\" font-family=\"Times,serif\" font-size=\"14.00\">data 1.0000</text>\n<polyline fill=\"none\" stroke=\"black\" points=\"115.5,-55.5 115.5,-91.5 \"/>\n<text text-anchor=\"middle\" x=\"156.5\" y=\"-69.8\" font-family=\"Times,serif\" font-size=\"14.00\">grad 0.0000</text>\n</g>\n<!-- 132682779087248* -->\n<g id=\"node13\" class=\"node\">\n<title>132682779087248*</title>\n<ellipse fill=\"none\" stroke=\"black\" cx=\"263\" cy=\"-73.5\" rx=\"27\" ry=\"18\"/>\n<text text-anchor=\"middle\" x=\"263\" y=\"-69.8\" font-family=\"Times,serif\" font-size=\"14.00\">*</text>\n</g>\n<!-- 132682767816592&#45;&gt;132682779087248* -->\n<g id=\"edge8\" class=\"edge\">\n<title>132682767816592&#45;&gt;132682779087248*</title>\n<path fill=\"none\" stroke=\"black\" d=\"M197.91,-73.5C207.65,-73.5 217.05,-73.5 225.52,-73.5\"/>\n<polygon fill=\"black\" stroke=\"black\" points=\"225.7,-77 235.7,-73.5 225.7,-70 225.7,-77\"/>\n</g>\n<!-- 132682779098832 -->\n<g id=\"node6\" class=\"node\">\n<title>132682779098832</title>\n<polygon fill=\"none\" stroke=\"black\" points=\"1094,-109.5 1094,-145.5 1279,-145.5 1279,-109.5 1094,-109.5\"/>\n<text text-anchor=\"middle\" x=\"1105.5\" y=\"-123.8\" font-family=\"Times,serif\" font-size=\"14.00\">n</text>\n<polyline fill=\"none\" stroke=\"black\" points=\"1117,-109.5 1117,-145.5 \"/>\n<text text-anchor=\"middle\" x=\"1157\" y=\"-123.8\" font-family=\"Times,serif\" font-size=\"14.00\">data 0.8814</text>\n<polyline fill=\"none\" stroke=\"black\" points=\"1197,-109.5 1197,-145.5 \"/>\n<text text-anchor=\"middle\" x=\"1238\" y=\"-123.8\" font-family=\"Times,serif\" font-size=\"14.00\">grad 0.0000</text>\n</g>\n<!-- 132682767906768tanh -->\n<g id=\"node15\" class=\"node\">\n<title>132682767906768tanh</title>\n<ellipse fill=\"none\" stroke=\"black\" cx=\"1342\" cy=\"-127.5\" rx=\"27\" ry=\"18\"/>\n<text text-anchor=\"middle\" x=\"1342\" y=\"-123.8\" font-family=\"Times,serif\" font-size=\"14.00\">tanh</text>\n</g>\n<!-- 132682779098832&#45;&gt;132682767906768tanh -->\n<g id=\"edge6\" class=\"edge\">\n<title>132682779098832&#45;&gt;132682767906768tanh</title>\n<path fill=\"none\" stroke=\"black\" d=\"M1279.01,-127.5C1288.01,-127.5 1296.74,-127.5 1304.66,-127.5\"/>\n<polygon fill=\"black\" stroke=\"black\" points=\"1304.91,-131 1314.91,-127.5 1304.91,-124 1304.91,-131\"/>\n</g>\n<!-- 132682779098832+&#45;&gt;132682779098832 -->\n<g id=\"edge3\" class=\"edge\">\n<title>132682779098832+&#45;&gt;132682779098832</title>\n<path fill=\"none\" stroke=\"black\" d=\"M1058.04,-127.5C1065.58,-127.5 1074.3,-127.5 1083.57,-127.5\"/>\n<polygon fill=\"black\" stroke=\"black\" points=\"1083.81,-131 1093.81,-127.5 1083.81,-124 1083.81,-131\"/>\n</g>\n<!-- 132682767821584 -->\n<g id=\"node8\" class=\"node\">\n<title>132682767821584</title>\n<polygon fill=\"none\" stroke=\"black\" points=\"0,-165.5 0,-201.5 200,-201.5 200,-165.5 0,-165.5\"/>\n<text text-anchor=\"middle\" x=\"16.5\" y=\"-179.8\" font-family=\"Times,serif\" font-size=\"14.00\">w1</text>\n<polyline fill=\"none\" stroke=\"black\" points=\"33,-165.5 33,-201.5 \"/>\n<text text-anchor=\"middle\" x=\"75.5\" y=\"-179.8\" font-family=\"Times,serif\" font-size=\"14.00\">data &#45;3.0000</text>\n<polyline fill=\"none\" stroke=\"black\" points=\"118,-165.5 118,-201.5 \"/>\n<text text-anchor=\"middle\" x=\"159\" y=\"-179.8\" font-family=\"Times,serif\" font-size=\"14.00\">grad 0.0000</text>\n</g>\n<!-- 132682767821584&#45;&gt;132682767821968* -->\n<g id=\"edge14\" class=\"edge\">\n<title>132682767821584&#45;&gt;132682767821968*</title>\n<path fill=\"none\" stroke=\"black\" d=\"M172.53,-165.44C181.84,-162.67 191.2,-159.67 200,-156.5 210.53,-152.71 221.75,-147.9 231.72,-143.33\"/>\n<polygon fill=\"black\" stroke=\"black\" points=\"233.25,-146.48 240.82,-139.07 230.28,-140.14 233.25,-146.48\"/>\n</g>\n<!-- 132682767818512 -->\n<g id=\"node9\" class=\"node\">\n<title>132682767818512</title>\n<polygon fill=\"none\" stroke=\"black\" points=\"731.5,-137.5 731.5,-173.5 916.5,-173.5 916.5,-137.5 731.5,-137.5\"/>\n<text text-anchor=\"middle\" x=\"743\" y=\"-151.8\" font-family=\"Times,serif\" font-size=\"14.00\">b</text>\n<polyline fill=\"none\" stroke=\"black\" points=\"754.5,-137.5 754.5,-173.5 \"/>\n<text text-anchor=\"middle\" x=\"794.5\" y=\"-151.8\" font-family=\"Times,serif\" font-size=\"14.00\">data 6.8814</text>\n<polyline fill=\"none\" stroke=\"black\" points=\"834.5,-137.5 834.5,-173.5 \"/>\n<text text-anchor=\"middle\" x=\"875.5\" y=\"-151.8\" font-family=\"Times,serif\" font-size=\"14.00\">grad 0.0000</text>\n</g>\n<!-- 132682767818512&#45;&gt;132682779098832+ -->\n<g id=\"edge7\" class=\"edge\">\n<title>132682767818512&#45;&gt;132682779098832+</title>\n<path fill=\"none\" stroke=\"black\" d=\"M916.71,-142.97C944.19,-139.22 972.72,-135.32 994.28,-132.38\"/>\n<polygon fill=\"black\" stroke=\"black\" points=\"994.83,-135.84 1004.26,-131.02 993.88,-128.9 994.83,-135.84\"/>\n</g>\n<!-- 132682770393936 -->\n<g id=\"node10\" class=\"node\">\n<title>132682770393936</title>\n<polygon fill=\"none\" stroke=\"black\" points=\"4,-110.5 4,-146.5 196,-146.5 196,-110.5 4,-110.5\"/>\n<text text-anchor=\"middle\" x=\"19\" y=\"-124.8\" font-family=\"Times,serif\" font-size=\"14.00\">x1</text>\n<polyline fill=\"none\" stroke=\"black\" points=\"34,-110.5 34,-146.5 \"/>\n<text text-anchor=\"middle\" x=\"74\" y=\"-124.8\" font-family=\"Times,serif\" font-size=\"14.00\">data 2.0000</text>\n<polyline fill=\"none\" stroke=\"black\" points=\"114,-110.5 114,-146.5 \"/>\n<text text-anchor=\"middle\" x=\"155\" y=\"-124.8\" font-family=\"Times,serif\" font-size=\"14.00\">grad 0.0000</text>\n</g>\n<!-- 132682770393936&#45;&gt;132682767821968* -->\n<g id=\"edge10\" class=\"edge\">\n<title>132682770393936&#45;&gt;132682767821968*</title>\n<path fill=\"none\" stroke=\"black\" d=\"M196.05,-128.5C206.52,-128.5 216.65,-128.5 225.71,-128.5\"/>\n<polygon fill=\"black\" stroke=\"black\" points=\"225.79,-132 235.79,-128.5 225.79,-125 225.79,-132\"/>\n</g>\n<!-- 132682777816912 -->\n<g id=\"node11\" class=\"node\">\n<title>132682777816912</title>\n<polygon fill=\"none\" stroke=\"black\" points=\"4,-0.5 4,-36.5 196,-36.5 196,-0.5 4,-0.5\"/>\n<text text-anchor=\"middle\" x=\"19\" y=\"-14.8\" font-family=\"Times,serif\" font-size=\"14.00\">x2</text>\n<polyline fill=\"none\" stroke=\"black\" points=\"34,-0.5 34,-36.5 \"/>\n<text text-anchor=\"middle\" x=\"74\" y=\"-14.8\" font-family=\"Times,serif\" font-size=\"14.00\">data 0.0000</text>\n<polyline fill=\"none\" stroke=\"black\" points=\"114,-0.5 114,-36.5 \"/>\n<text text-anchor=\"middle\" x=\"155\" y=\"-14.8\" font-family=\"Times,serif\" font-size=\"14.00\">grad 0.0000</text>\n</g>\n<!-- 132682777816912&#45;&gt;132682779087248* -->\n<g id=\"edge13\" class=\"edge\">\n<title>132682777816912&#45;&gt;132682779087248*</title>\n<path fill=\"none\" stroke=\"black\" d=\"M169.28,-36.5C179.65,-39.61 190.16,-42.98 200,-46.5 210.28,-50.17 221.28,-54.74 231.11,-59.07\"/>\n<polygon fill=\"black\" stroke=\"black\" points=\"229.93,-62.37 240.48,-63.27 232.79,-55.99 229.93,-62.37\"/>\n</g>\n<!-- 132682779087248 -->\n<g id=\"node12\" class=\"node\">\n<title>132682779087248</title>\n<polygon fill=\"none\" stroke=\"black\" points=\"328.5,-55.5 328.5,-91.5 551.5,-91.5 551.5,-55.5 328.5,-55.5\"/>\n<text text-anchor=\"middle\" x=\"359\" y=\"-69.8\" font-family=\"Times,serif\" font-size=\"14.00\">x2 * w2</text>\n<polyline fill=\"none\" stroke=\"black\" points=\"389.5,-55.5 389.5,-91.5 \"/>\n<text text-anchor=\"middle\" x=\"429.5\" y=\"-69.8\" font-family=\"Times,serif\" font-size=\"14.00\">data 0.0000</text>\n<polyline fill=\"none\" stroke=\"black\" points=\"469.5,-55.5 469.5,-91.5 \"/>\n<text text-anchor=\"middle\" x=\"510.5\" y=\"-69.8\" font-family=\"Times,serif\" font-size=\"14.00\">grad 0.0000</text>\n</g>\n<!-- 132682779087248&#45;&gt;132682779090960+ -->\n<g id=\"edge11\" class=\"edge\">\n<title>132682779087248&#45;&gt;132682779090960+</title>\n<path fill=\"none\" stroke=\"black\" d=\"M551.83,-90.6C562.05,-92.18 571.82,-93.68 580.51,-95.02\"/>\n<polygon fill=\"black\" stroke=\"black\" points=\"580.12,-98.51 590.54,-96.57 581.19,-91.59 580.12,-98.51\"/>\n</g>\n<!-- 132682779087248*&#45;&gt;132682779087248 -->\n<g id=\"edge4\" class=\"edge\">\n<title>132682779087248*&#45;&gt;132682779087248</title>\n<path fill=\"none\" stroke=\"black\" d=\"M290.2,-73.5C298.36,-73.5 307.96,-73.5 318.28,-73.5\"/>\n<polygon fill=\"black\" stroke=\"black\" points=\"318.37,-77 328.37,-73.5 318.37,-70 318.37,-77\"/>\n</g>\n<!-- 132682767906768 -->\n<g id=\"node14\" class=\"node\">\n<title>132682767906768</title>\n<polygon fill=\"none\" stroke=\"black\" points=\"1405,-109.5 1405,-145.5 1590,-145.5 1590,-109.5 1405,-109.5\"/>\n<text text-anchor=\"middle\" x=\"1416.5\" y=\"-123.8\" font-family=\"Times,serif\" font-size=\"14.00\">o</text>\n<polyline fill=\"none\" stroke=\"black\" points=\"1428,-109.5 1428,-145.5 \"/>\n<text text-anchor=\"middle\" x=\"1468\" y=\"-123.8\" font-family=\"Times,serif\" font-size=\"14.00\">data 0.7071</text>\n<polyline fill=\"none\" stroke=\"black\" points=\"1508,-109.5 1508,-145.5 \"/>\n<text text-anchor=\"middle\" x=\"1549\" y=\"-123.8\" font-family=\"Times,serif\" font-size=\"14.00\">grad 0.0000</text>\n</g>\n<!-- 132682767906768tanh&#45;&gt;132682767906768 -->\n<g id=\"edge5\" class=\"edge\">\n<title>132682767906768tanh&#45;&gt;132682767906768</title>\n<path fill=\"none\" stroke=\"black\" d=\"M1369.04,-127.5C1376.58,-127.5 1385.3,-127.5 1394.57,-127.5\"/>\n<polygon fill=\"black\" stroke=\"black\" points=\"1394.81,-131 1404.81,-127.5 1394.81,-124 1394.81,-131\"/>\n</g>\n</g>\n</svg>\n",
            "text/plain": [
              "<graphviz.graphs.Digraph at 0x78ac9d660990>"
            ]
          },
          "metadata": {},
          "execution_count": 368
        }
      ]
    },
    {
      "cell_type": "code",
      "source": [
        "h=0.001\n",
        "o_dash = (x2.data + x2.grad*h)*(w2.data + w2.grad*h) + (x1.data + x1.grad*h)*(w1.data + w1.grad*h) + b.data\n",
        "o_dash"
      ],
      "metadata": {
        "colab": {
          "base_uri": "https://localhost:8080/"
        },
        "id": "VzpzU4QW_Y9d",
        "outputId": "62289ad0-4a28-4eb7-94ab-1f6604239eff"
      },
      "execution_count": 369,
      "outputs": [
        {
          "output_type": "execute_result",
          "data": {
            "text/plain": [
              "0.8813735870195432"
            ]
          },
          "metadata": {},
          "execution_count": 369
        }
      ]
    },
    {
      "cell_type": "code",
      "source": [
        "o.backward()"
      ],
      "metadata": {
        "id": "SDshKqBuETKX"
      },
      "execution_count": 370,
      "outputs": []
    },
    {
      "cell_type": "code",
      "source": [
        "draw_dot(o)"
      ],
      "metadata": {
        "colab": {
          "base_uri": "https://localhost:8080/",
          "height": 322
        },
        "id": "24D7Ryf9HZZ6",
        "outputId": "57f401d5-fd06-40b1-8a66-09f4fe45dd90"
      },
      "execution_count": 371,
      "outputs": [
        {
          "output_type": "execute_result",
          "data": {
            "image/svg+xml": "<?xml version=\"1.0\" encoding=\"UTF-8\" standalone=\"no\"?>\n<!DOCTYPE svg PUBLIC \"-//W3C//DTD SVG 1.1//EN\"\n \"http://www.w3.org/Graphics/SVG/1.1/DTD/svg11.dtd\">\n<!-- Generated by graphviz version 2.43.0 (0)\n -->\n<!-- Title: %3 Pages: 1 -->\n<svg width=\"1598pt\" height=\"210pt\"\n viewBox=\"0.00 0.00 1598.00 210.00\" xmlns=\"http://www.w3.org/2000/svg\" xmlns:xlink=\"http://www.w3.org/1999/xlink\">\n<g id=\"graph0\" class=\"graph\" transform=\"scale(1 1) rotate(0) translate(4 206)\">\n<title>%3</title>\n<polygon fill=\"white\" stroke=\"transparent\" points=\"-4,4 -4,-206 1594,-206 1594,4 -4,4\"/>\n<!-- 132682779090960 -->\n<g id=\"node1\" class=\"node\">\n<title>132682779090960</title>\n<polygon fill=\"none\" stroke=\"black\" points=\"680,-82.5 680,-118.5 968,-118.5 968,-82.5 680,-82.5\"/>\n<text text-anchor=\"middle\" x=\"740.5\" y=\"-96.8\" font-family=\"Times,serif\" font-size=\"14.00\">x1 * w1 + x2 * w2</text>\n<polyline fill=\"none\" stroke=\"black\" points=\"801,-82.5 801,-118.5 \"/>\n<text text-anchor=\"middle\" x=\"843.5\" y=\"-96.8\" font-family=\"Times,serif\" font-size=\"14.00\">data &#45;6.0000</text>\n<polyline fill=\"none\" stroke=\"black\" points=\"886,-82.5 886,-118.5 \"/>\n<text text-anchor=\"middle\" x=\"927\" y=\"-96.8\" font-family=\"Times,serif\" font-size=\"14.00\">grad 0.5000</text>\n</g>\n<!-- 132682779098832+ -->\n<g id=\"node7\" class=\"node\">\n<title>132682779098832+</title>\n<ellipse fill=\"none\" stroke=\"black\" cx=\"1031\" cy=\"-127.5\" rx=\"27\" ry=\"18\"/>\n<text text-anchor=\"middle\" x=\"1031\" y=\"-123.8\" font-family=\"Times,serif\" font-size=\"14.00\">+</text>\n</g>\n<!-- 132682779090960&#45;&gt;132682779098832+ -->\n<g id=\"edge9\" class=\"edge\">\n<title>132682779090960&#45;&gt;132682779098832+</title>\n<path fill=\"none\" stroke=\"black\" d=\"M961.74,-118.51C973.37,-120.04 984.34,-121.49 993.94,-122.75\"/>\n<polygon fill=\"black\" stroke=\"black\" points=\"993.79,-126.26 1004.16,-124.1 994.71,-119.32 993.79,-126.26\"/>\n</g>\n<!-- 132682779090960+ -->\n<g id=\"node2\" class=\"node\">\n<title>132682779090960+</title>\n<ellipse fill=\"none\" stroke=\"black\" cx=\"617\" cy=\"-100.5\" rx=\"27\" ry=\"18\"/>\n<text text-anchor=\"middle\" x=\"617\" y=\"-96.8\" font-family=\"Times,serif\" font-size=\"14.00\">+</text>\n</g>\n<!-- 132682779090960+&#45;&gt;132682779090960 -->\n<g id=\"edge1\" class=\"edge\">\n<title>132682779090960+&#45;&gt;132682779090960</title>\n<path fill=\"none\" stroke=\"black\" d=\"M644.38,-100.5C651.69,-100.5 660.17,-100.5 669.41,-100.5\"/>\n<polygon fill=\"black\" stroke=\"black\" points=\"669.69,-104 679.69,-100.5 669.69,-97 669.69,-104\"/>\n</g>\n<!-- 132682767821968 -->\n<g id=\"node3\" class=\"node\">\n<title>132682767821968</title>\n<polygon fill=\"none\" stroke=\"black\" points=\"326,-110.5 326,-146.5 554,-146.5 554,-110.5 326,-110.5\"/>\n<text text-anchor=\"middle\" x=\"356.5\" y=\"-124.8\" font-family=\"Times,serif\" font-size=\"14.00\">x1 * w1</text>\n<polyline fill=\"none\" stroke=\"black\" points=\"387,-110.5 387,-146.5 \"/>\n<text text-anchor=\"middle\" x=\"429.5\" y=\"-124.8\" font-family=\"Times,serif\" font-size=\"14.00\">data &#45;6.0000</text>\n<polyline fill=\"none\" stroke=\"black\" points=\"472,-110.5 472,-146.5 \"/>\n<text text-anchor=\"middle\" x=\"513\" y=\"-124.8\" font-family=\"Times,serif\" font-size=\"14.00\">grad 0.5000</text>\n</g>\n<!-- 132682767821968&#45;&gt;132682779090960+ -->\n<g id=\"edge12\" class=\"edge\">\n<title>132682767821968&#45;&gt;132682779090960+</title>\n<path fill=\"none\" stroke=\"black\" d=\"M553.81,-110.45C563.28,-108.93 572.32,-107.49 580.43,-106.19\"/>\n<polygon fill=\"black\" stroke=\"black\" points=\"581.19,-109.61 590.51,-104.58 580.08,-102.7 581.19,-109.61\"/>\n</g>\n<!-- 132682767821968* -->\n<g id=\"node4\" class=\"node\">\n<title>132682767821968*</title>\n<ellipse fill=\"none\" stroke=\"black\" cx=\"263\" cy=\"-128.5\" rx=\"27\" ry=\"18\"/>\n<text text-anchor=\"middle\" x=\"263\" y=\"-124.8\" font-family=\"Times,serif\" font-size=\"14.00\">*</text>\n</g>\n<!-- 132682767821968*&#45;&gt;132682767821968 -->\n<g id=\"edge2\" class=\"edge\">\n<title>132682767821968*&#45;&gt;132682767821968</title>\n<path fill=\"none\" stroke=\"black\" d=\"M290.2,-128.5C297.62,-128.5 306.23,-128.5 315.48,-128.5\"/>\n<polygon fill=\"black\" stroke=\"black\" points=\"315.76,-132 325.76,-128.5 315.76,-125 315.76,-132\"/>\n</g>\n<!-- 132682767816592 -->\n<g id=\"node5\" class=\"node\">\n<title>132682767816592</title>\n<polygon fill=\"none\" stroke=\"black\" points=\"2.5,-55.5 2.5,-91.5 197.5,-91.5 197.5,-55.5 2.5,-55.5\"/>\n<text text-anchor=\"middle\" x=\"19\" y=\"-69.8\" font-family=\"Times,serif\" font-size=\"14.00\">w2</text>\n<polyline fill=\"none\" stroke=\"black\" points=\"35.5,-55.5 35.5,-91.5 \"/>\n<text text-anchor=\"middle\" x=\"75.5\" y=\"-69.8\" font-family=\"Times,serif\" font-size=\"14.00\">data 1.0000</text>\n<polyline fill=\"none\" stroke=\"black\" points=\"115.5,-55.5 115.5,-91.5 \"/>\n<text text-anchor=\"middle\" x=\"156.5\" y=\"-69.8\" font-family=\"Times,serif\" font-size=\"14.00\">grad 0.0000</text>\n</g>\n<!-- 132682779087248* -->\n<g id=\"node13\" class=\"node\">\n<title>132682779087248*</title>\n<ellipse fill=\"none\" stroke=\"black\" cx=\"263\" cy=\"-73.5\" rx=\"27\" ry=\"18\"/>\n<text text-anchor=\"middle\" x=\"263\" y=\"-69.8\" font-family=\"Times,serif\" font-size=\"14.00\">*</text>\n</g>\n<!-- 132682767816592&#45;&gt;132682779087248* -->\n<g id=\"edge8\" class=\"edge\">\n<title>132682767816592&#45;&gt;132682779087248*</title>\n<path fill=\"none\" stroke=\"black\" d=\"M197.91,-73.5C207.65,-73.5 217.05,-73.5 225.52,-73.5\"/>\n<polygon fill=\"black\" stroke=\"black\" points=\"225.7,-77 235.7,-73.5 225.7,-70 225.7,-77\"/>\n</g>\n<!-- 132682779098832 -->\n<g id=\"node6\" class=\"node\">\n<title>132682779098832</title>\n<polygon fill=\"none\" stroke=\"black\" points=\"1094,-109.5 1094,-145.5 1279,-145.5 1279,-109.5 1094,-109.5\"/>\n<text text-anchor=\"middle\" x=\"1105.5\" y=\"-123.8\" font-family=\"Times,serif\" font-size=\"14.00\">n</text>\n<polyline fill=\"none\" stroke=\"black\" points=\"1117,-109.5 1117,-145.5 \"/>\n<text text-anchor=\"middle\" x=\"1157\" y=\"-123.8\" font-family=\"Times,serif\" font-size=\"14.00\">data 0.8814</text>\n<polyline fill=\"none\" stroke=\"black\" points=\"1197,-109.5 1197,-145.5 \"/>\n<text text-anchor=\"middle\" x=\"1238\" y=\"-123.8\" font-family=\"Times,serif\" font-size=\"14.00\">grad 0.5000</text>\n</g>\n<!-- 132682767906768tanh -->\n<g id=\"node15\" class=\"node\">\n<title>132682767906768tanh</title>\n<ellipse fill=\"none\" stroke=\"black\" cx=\"1342\" cy=\"-127.5\" rx=\"27\" ry=\"18\"/>\n<text text-anchor=\"middle\" x=\"1342\" y=\"-123.8\" font-family=\"Times,serif\" font-size=\"14.00\">tanh</text>\n</g>\n<!-- 132682779098832&#45;&gt;132682767906768tanh -->\n<g id=\"edge6\" class=\"edge\">\n<title>132682779098832&#45;&gt;132682767906768tanh</title>\n<path fill=\"none\" stroke=\"black\" d=\"M1279.01,-127.5C1288.01,-127.5 1296.74,-127.5 1304.66,-127.5\"/>\n<polygon fill=\"black\" stroke=\"black\" points=\"1304.91,-131 1314.91,-127.5 1304.91,-124 1304.91,-131\"/>\n</g>\n<!-- 132682779098832+&#45;&gt;132682779098832 -->\n<g id=\"edge3\" class=\"edge\">\n<title>132682779098832+&#45;&gt;132682779098832</title>\n<path fill=\"none\" stroke=\"black\" d=\"M1058.04,-127.5C1065.58,-127.5 1074.3,-127.5 1083.57,-127.5\"/>\n<polygon fill=\"black\" stroke=\"black\" points=\"1083.81,-131 1093.81,-127.5 1083.81,-124 1083.81,-131\"/>\n</g>\n<!-- 132682767821584 -->\n<g id=\"node8\" class=\"node\">\n<title>132682767821584</title>\n<polygon fill=\"none\" stroke=\"black\" points=\"0,-165.5 0,-201.5 200,-201.5 200,-165.5 0,-165.5\"/>\n<text text-anchor=\"middle\" x=\"16.5\" y=\"-179.8\" font-family=\"Times,serif\" font-size=\"14.00\">w1</text>\n<polyline fill=\"none\" stroke=\"black\" points=\"33,-165.5 33,-201.5 \"/>\n<text text-anchor=\"middle\" x=\"75.5\" y=\"-179.8\" font-family=\"Times,serif\" font-size=\"14.00\">data &#45;3.0000</text>\n<polyline fill=\"none\" stroke=\"black\" points=\"118,-165.5 118,-201.5 \"/>\n<text text-anchor=\"middle\" x=\"159\" y=\"-179.8\" font-family=\"Times,serif\" font-size=\"14.00\">grad 1.0000</text>\n</g>\n<!-- 132682767821584&#45;&gt;132682767821968* -->\n<g id=\"edge14\" class=\"edge\">\n<title>132682767821584&#45;&gt;132682767821968*</title>\n<path fill=\"none\" stroke=\"black\" d=\"M172.53,-165.44C181.84,-162.67 191.2,-159.67 200,-156.5 210.53,-152.71 221.75,-147.9 231.72,-143.33\"/>\n<polygon fill=\"black\" stroke=\"black\" points=\"233.25,-146.48 240.82,-139.07 230.28,-140.14 233.25,-146.48\"/>\n</g>\n<!-- 132682767818512 -->\n<g id=\"node9\" class=\"node\">\n<title>132682767818512</title>\n<polygon fill=\"none\" stroke=\"black\" points=\"731.5,-137.5 731.5,-173.5 916.5,-173.5 916.5,-137.5 731.5,-137.5\"/>\n<text text-anchor=\"middle\" x=\"743\" y=\"-151.8\" font-family=\"Times,serif\" font-size=\"14.00\">b</text>\n<polyline fill=\"none\" stroke=\"black\" points=\"754.5,-137.5 754.5,-173.5 \"/>\n<text text-anchor=\"middle\" x=\"794.5\" y=\"-151.8\" font-family=\"Times,serif\" font-size=\"14.00\">data 6.8814</text>\n<polyline fill=\"none\" stroke=\"black\" points=\"834.5,-137.5 834.5,-173.5 \"/>\n<text text-anchor=\"middle\" x=\"875.5\" y=\"-151.8\" font-family=\"Times,serif\" font-size=\"14.00\">grad 0.5000</text>\n</g>\n<!-- 132682767818512&#45;&gt;132682779098832+ -->\n<g id=\"edge7\" class=\"edge\">\n<title>132682767818512&#45;&gt;132682779098832+</title>\n<path fill=\"none\" stroke=\"black\" d=\"M916.71,-142.97C944.19,-139.22 972.72,-135.32 994.28,-132.38\"/>\n<polygon fill=\"black\" stroke=\"black\" points=\"994.83,-135.84 1004.26,-131.02 993.88,-128.9 994.83,-135.84\"/>\n</g>\n<!-- 132682770393936 -->\n<g id=\"node10\" class=\"node\">\n<title>132682770393936</title>\n<polygon fill=\"none\" stroke=\"black\" points=\"2,-110.5 2,-146.5 198,-146.5 198,-110.5 2,-110.5\"/>\n<text text-anchor=\"middle\" x=\"17\" y=\"-124.8\" font-family=\"Times,serif\" font-size=\"14.00\">x1</text>\n<polyline fill=\"none\" stroke=\"black\" points=\"32,-110.5 32,-146.5 \"/>\n<text text-anchor=\"middle\" x=\"72\" y=\"-124.8\" font-family=\"Times,serif\" font-size=\"14.00\">data 2.0000</text>\n<polyline fill=\"none\" stroke=\"black\" points=\"112,-110.5 112,-146.5 \"/>\n<text text-anchor=\"middle\" x=\"155\" y=\"-124.8\" font-family=\"Times,serif\" font-size=\"14.00\">grad &#45;1.5000</text>\n</g>\n<!-- 132682770393936&#45;&gt;132682767821968* -->\n<g id=\"edge10\" class=\"edge\">\n<title>132682770393936&#45;&gt;132682767821968*</title>\n<path fill=\"none\" stroke=\"black\" d=\"M198.37,-128.5C208.05,-128.5 217.4,-128.5 225.8,-128.5\"/>\n<polygon fill=\"black\" stroke=\"black\" points=\"225.91,-132 235.91,-128.5 225.91,-125 225.91,-132\"/>\n</g>\n<!-- 132682777816912 -->\n<g id=\"node11\" class=\"node\">\n<title>132682777816912</title>\n<polygon fill=\"none\" stroke=\"black\" points=\"4,-0.5 4,-36.5 196,-36.5 196,-0.5 4,-0.5\"/>\n<text text-anchor=\"middle\" x=\"19\" y=\"-14.8\" font-family=\"Times,serif\" font-size=\"14.00\">x2</text>\n<polyline fill=\"none\" stroke=\"black\" points=\"34,-0.5 34,-36.5 \"/>\n<text text-anchor=\"middle\" x=\"74\" y=\"-14.8\" font-family=\"Times,serif\" font-size=\"14.00\">data 0.0000</text>\n<polyline fill=\"none\" stroke=\"black\" points=\"114,-0.5 114,-36.5 \"/>\n<text text-anchor=\"middle\" x=\"155\" y=\"-14.8\" font-family=\"Times,serif\" font-size=\"14.00\">grad 0.5000</text>\n</g>\n<!-- 132682777816912&#45;&gt;132682779087248* -->\n<g id=\"edge13\" class=\"edge\">\n<title>132682777816912&#45;&gt;132682779087248*</title>\n<path fill=\"none\" stroke=\"black\" d=\"M169.28,-36.5C179.65,-39.61 190.16,-42.98 200,-46.5 210.28,-50.17 221.28,-54.74 231.11,-59.07\"/>\n<polygon fill=\"black\" stroke=\"black\" points=\"229.93,-62.37 240.48,-63.27 232.79,-55.99 229.93,-62.37\"/>\n</g>\n<!-- 132682779087248 -->\n<g id=\"node12\" class=\"node\">\n<title>132682779087248</title>\n<polygon fill=\"none\" stroke=\"black\" points=\"328.5,-55.5 328.5,-91.5 551.5,-91.5 551.5,-55.5 328.5,-55.5\"/>\n<text text-anchor=\"middle\" x=\"359\" y=\"-69.8\" font-family=\"Times,serif\" font-size=\"14.00\">x2 * w2</text>\n<polyline fill=\"none\" stroke=\"black\" points=\"389.5,-55.5 389.5,-91.5 \"/>\n<text text-anchor=\"middle\" x=\"429.5\" y=\"-69.8\" font-family=\"Times,serif\" font-size=\"14.00\">data 0.0000</text>\n<polyline fill=\"none\" stroke=\"black\" points=\"469.5,-55.5 469.5,-91.5 \"/>\n<text text-anchor=\"middle\" x=\"510.5\" y=\"-69.8\" font-family=\"Times,serif\" font-size=\"14.00\">grad 0.5000</text>\n</g>\n<!-- 132682779087248&#45;&gt;132682779090960+ -->\n<g id=\"edge11\" class=\"edge\">\n<title>132682779087248&#45;&gt;132682779090960+</title>\n<path fill=\"none\" stroke=\"black\" d=\"M551.83,-90.6C562.05,-92.18 571.82,-93.68 580.51,-95.02\"/>\n<polygon fill=\"black\" stroke=\"black\" points=\"580.12,-98.51 590.54,-96.57 581.19,-91.59 580.12,-98.51\"/>\n</g>\n<!-- 132682779087248*&#45;&gt;132682779087248 -->\n<g id=\"edge4\" class=\"edge\">\n<title>132682779087248*&#45;&gt;132682779087248</title>\n<path fill=\"none\" stroke=\"black\" d=\"M290.2,-73.5C298.36,-73.5 307.96,-73.5 318.28,-73.5\"/>\n<polygon fill=\"black\" stroke=\"black\" points=\"318.37,-77 328.37,-73.5 318.37,-70 318.37,-77\"/>\n</g>\n<!-- 132682767906768 -->\n<g id=\"node14\" class=\"node\">\n<title>132682767906768</title>\n<polygon fill=\"none\" stroke=\"black\" points=\"1405,-109.5 1405,-145.5 1590,-145.5 1590,-109.5 1405,-109.5\"/>\n<text text-anchor=\"middle\" x=\"1416.5\" y=\"-123.8\" font-family=\"Times,serif\" font-size=\"14.00\">o</text>\n<polyline fill=\"none\" stroke=\"black\" points=\"1428,-109.5 1428,-145.5 \"/>\n<text text-anchor=\"middle\" x=\"1468\" y=\"-123.8\" font-family=\"Times,serif\" font-size=\"14.00\">data 0.7071</text>\n<polyline fill=\"none\" stroke=\"black\" points=\"1508,-109.5 1508,-145.5 \"/>\n<text text-anchor=\"middle\" x=\"1549\" y=\"-123.8\" font-family=\"Times,serif\" font-size=\"14.00\">grad 1.0000</text>\n</g>\n<!-- 132682767906768tanh&#45;&gt;132682767906768 -->\n<g id=\"edge5\" class=\"edge\">\n<title>132682767906768tanh&#45;&gt;132682767906768</title>\n<path fill=\"none\" stroke=\"black\" d=\"M1369.04,-127.5C1376.58,-127.5 1385.3,-127.5 1394.57,-127.5\"/>\n<polygon fill=\"black\" stroke=\"black\" points=\"1394.81,-131 1404.81,-127.5 1394.81,-124 1394.81,-131\"/>\n</g>\n</g>\n</svg>\n",
            "text/plain": [
              "<graphviz.graphs.Digraph at 0x78ac9d409450>"
            ]
          },
          "metadata": {},
          "execution_count": 371
        }
      ]
    },
    {
      "cell_type": "code",
      "source": [
        "a = Value(1.0, label ='a')\n",
        "b = a+a; b.label = 'b'\n",
        "b.backward()"
      ],
      "metadata": {
        "id": "1a15ycx-KZsO"
      },
      "execution_count": 372,
      "outputs": []
    },
    {
      "cell_type": "code",
      "source": [
        "draw_dot(b)"
      ],
      "metadata": {
        "colab": {
          "base_uri": "https://localhost:8080/",
          "height": 102
        },
        "id": "4OM7YlSuLTad",
        "outputId": "5d722302-7b05-4bf4-b997-65d2719e9cc3"
      },
      "execution_count": 373,
      "outputs": [
        {
          "output_type": "execute_result",
          "data": {
            "image/svg+xml": "<?xml version=\"1.0\" encoding=\"UTF-8\" standalone=\"no\"?>\n<!DOCTYPE svg PUBLIC \"-//W3C//DTD SVG 1.1//EN\"\n \"http://www.w3.org/Graphics/SVG/1.1/DTD/svg11.dtd\">\n<!-- Generated by graphviz version 2.43.0 (0)\n -->\n<!-- Title: %3 Pages: 1 -->\n<svg width=\"504pt\" height=\"45pt\"\n viewBox=\"0.00 0.00 504.00 45.00\" xmlns=\"http://www.w3.org/2000/svg\" xmlns:xlink=\"http://www.w3.org/1999/xlink\">\n<g id=\"graph0\" class=\"graph\" transform=\"scale(1 1) rotate(0) translate(4 41)\">\n<title>%3</title>\n<polygon fill=\"white\" stroke=\"transparent\" points=\"-4,4 -4,-41 500,-41 500,4 -4,4\"/>\n<!-- 132682767971856 -->\n<g id=\"node1\" class=\"node\">\n<title>132682767971856</title>\n<polygon fill=\"none\" stroke=\"black\" points=\"0,-0.5 0,-36.5 185,-36.5 185,-0.5 0,-0.5\"/>\n<text text-anchor=\"middle\" x=\"11.5\" y=\"-14.8\" font-family=\"Times,serif\" font-size=\"14.00\">a</text>\n<polyline fill=\"none\" stroke=\"black\" points=\"23,-0.5 23,-36.5 \"/>\n<text text-anchor=\"middle\" x=\"63\" y=\"-14.8\" font-family=\"Times,serif\" font-size=\"14.00\">data 1.0000</text>\n<polyline fill=\"none\" stroke=\"black\" points=\"103,-0.5 103,-36.5 \"/>\n<text text-anchor=\"middle\" x=\"144\" y=\"-14.8\" font-family=\"Times,serif\" font-size=\"14.00\">grad 2.0000</text>\n</g>\n<!-- 132682770395344+ -->\n<g id=\"node3\" class=\"node\">\n<title>132682770395344+</title>\n<ellipse fill=\"none\" stroke=\"black\" cx=\"248\" cy=\"-18.5\" rx=\"27\" ry=\"18\"/>\n<text text-anchor=\"middle\" x=\"248\" y=\"-14.8\" font-family=\"Times,serif\" font-size=\"14.00\">+</text>\n</g>\n<!-- 132682767971856&#45;&gt;132682770395344+ -->\n<g id=\"edge2\" class=\"edge\">\n<title>132682767971856&#45;&gt;132682770395344+</title>\n<path fill=\"none\" stroke=\"black\" d=\"M185.01,-18.5C194.01,-18.5 202.74,-18.5 210.66,-18.5\"/>\n<polygon fill=\"black\" stroke=\"black\" points=\"210.91,-22 220.91,-18.5 210.91,-15 210.91,-22\"/>\n</g>\n<!-- 132682770395344 -->\n<g id=\"node2\" class=\"node\">\n<title>132682770395344</title>\n<polygon fill=\"none\" stroke=\"black\" points=\"311,-0.5 311,-36.5 496,-36.5 496,-0.5 311,-0.5\"/>\n<text text-anchor=\"middle\" x=\"322.5\" y=\"-14.8\" font-family=\"Times,serif\" font-size=\"14.00\">b</text>\n<polyline fill=\"none\" stroke=\"black\" points=\"334,-0.5 334,-36.5 \"/>\n<text text-anchor=\"middle\" x=\"374\" y=\"-14.8\" font-family=\"Times,serif\" font-size=\"14.00\">data 2.0000</text>\n<polyline fill=\"none\" stroke=\"black\" points=\"414,-0.5 414,-36.5 \"/>\n<text text-anchor=\"middle\" x=\"455\" y=\"-14.8\" font-family=\"Times,serif\" font-size=\"14.00\">grad 1.0000</text>\n</g>\n<!-- 132682770395344+&#45;&gt;132682770395344 -->\n<g id=\"edge1\" class=\"edge\">\n<title>132682770395344+&#45;&gt;132682770395344</title>\n<path fill=\"none\" stroke=\"black\" d=\"M275.04,-18.5C282.58,-18.5 291.3,-18.5 300.57,-18.5\"/>\n<polygon fill=\"black\" stroke=\"black\" points=\"300.81,-22 310.81,-18.5 300.81,-15 300.81,-22\"/>\n</g>\n</g>\n</svg>\n",
            "text/plain": [
              "<graphviz.graphs.Digraph at 0x78ac9dd096d0>"
            ]
          },
          "metadata": {},
          "execution_count": 373
        }
      ]
    },
    {
      "cell_type": "markdown",
      "source": [
        "🔑Without accumulating grads, a.grad would have been 1.0 which is incorrect.<br>\n",
        "reason:<br>\n",
        "b = a+a<br>\n",
        "when gradient flows through b, it initializes<br>\n",
        "a.grad = 1.0<br>\n",
        "a.grad = 1.0\n"
      ],
      "metadata": {
        "id": "JekdtvcjLUmx"
      }
    },
    {
      "cell_type": "code",
      "source": [
        "a = Value(1.0)\n",
        "2*a"
      ],
      "metadata": {
        "colab": {
          "base_uri": "https://localhost:8080/"
        },
        "id": "BU2N6iyCLlwE",
        "outputId": "da9ddf99-61be-4176-b57d-3abe0ab49e99"
      },
      "execution_count": 374,
      "outputs": [
        {
          "output_type": "execute_result",
          "data": {
            "text/plain": [
              "Value(data=2.0), label=''"
            ]
          },
          "metadata": {},
          "execution_count": 374
        }
      ]
    },
    {
      "cell_type": "code",
      "source": [
        "a.exp()"
      ],
      "metadata": {
        "colab": {
          "base_uri": "https://localhost:8080/"
        },
        "id": "47UmzEZOM03K",
        "outputId": "b3b9b090-eabb-4538-e741-a739eb8431b6"
      },
      "execution_count": 375,
      "outputs": [
        {
          "output_type": "execute_result",
          "data": {
            "text/plain": [
              "Value(data=2.718281828459045), label=''"
            ]
          },
          "metadata": {},
          "execution_count": 375
        }
      ]
    },
    {
      "cell_type": "code",
      "source": [
        "a = Value(2.0)\n",
        "b = Value(4.0)\n",
        "a/b"
      ],
      "metadata": {
        "colab": {
          "base_uri": "https://localhost:8080/"
        },
        "id": "fUlH5hKSSqpx",
        "outputId": "0a502216-a201-4d83-93ee-4eb6b5af4f48"
      },
      "execution_count": 376,
      "outputs": [
        {
          "output_type": "execute_result",
          "data": {
            "text/plain": [
              "Value(data=0.5), label=''"
            ]
          },
          "metadata": {},
          "execution_count": 376
        }
      ]
    },
    {
      "cell_type": "code",
      "source": [
        "#inputs: x1, x2, weights: w1, w2\n",
        "x1 = Value(2.0, label='x1')\n",
        "x2 = Value(0.0, label='x2')\n",
        "w1 = Value(-3.0, label='w1')\n",
        "w2 = Value(1.0, label='w2')\n",
        "b = Value(6.8813735870195432, label='b')\n",
        "x1w1 = x1*w1; x1w1.label = 'x1 * w1'\n",
        "x2w2 = x2*w2; x2w2.label = 'x2 * w2'\n",
        "x1w1x2w2 = x1w1 + x2w2;\n",
        "x1w1x2w2.label = 'x1 * w1 + x2 * w2'\n",
        "n = x1w1x2w2 + b; n.label = 'n'\n",
        "\n",
        "e = (2*n).exp();\n",
        "o = (e-1)/(e+1); e.label = 'e'\n",
        "\n",
        "o.label = 'o'\n",
        "o.backward()"
      ],
      "metadata": {
        "id": "3V3ana4jUBU3"
      },
      "execution_count": 377,
      "outputs": []
    },
    {
      "cell_type": "code",
      "source": [
        "draw_dot(o)"
      ],
      "metadata": {
        "colab": {
          "base_uri": "https://localhost:8080/",
          "height": 356
        },
        "id": "p2hs8ARPUCkV",
        "outputId": "ec3726c8-1eb2-4494-bd26-6640db8cca22"
      },
      "execution_count": 378,
      "outputs": [
        {
          "output_type": "execute_result",
          "data": {
            "image/svg+xml": "<?xml version=\"1.0\" encoding=\"UTF-8\" standalone=\"no\"?>\n<!DOCTYPE svg PUBLIC \"-//W3C//DTD SVG 1.1//EN\"\n \"http://www.w3.org/Graphics/SVG/1.1/DTD/svg11.dtd\">\n<!-- Generated by graphviz version 2.43.0 (0)\n -->\n<!-- Title: %3 Pages: 1 -->\n<svg width=\"2967pt\" height=\"236pt\"\n viewBox=\"0.00 0.00 2967.00 236.00\" xmlns=\"http://www.w3.org/2000/svg\" xmlns:xlink=\"http://www.w3.org/1999/xlink\">\n<g id=\"graph0\" class=\"graph\" transform=\"scale(1 1) rotate(0) translate(4 232)\">\n<title>%3</title>\n<polygon fill=\"white\" stroke=\"transparent\" points=\"-4,4 -4,-232 2963,-232 2963,4 -4,4\"/>\n<!-- 132682768089680 -->\n<g id=\"node1\" class=\"node\">\n<title>132682768089680</title>\n<polygon fill=\"none\" stroke=\"black\" points=\"2774,-135.5 2774,-171.5 2959,-171.5 2959,-135.5 2774,-135.5\"/>\n<text text-anchor=\"middle\" x=\"2785.5\" y=\"-149.8\" font-family=\"Times,serif\" font-size=\"14.00\">o</text>\n<polyline fill=\"none\" stroke=\"black\" points=\"2797,-135.5 2797,-171.5 \"/>\n<text text-anchor=\"middle\" x=\"2837\" y=\"-149.8\" font-family=\"Times,serif\" font-size=\"14.00\">data 0.7071</text>\n<polyline fill=\"none\" stroke=\"black\" points=\"2877,-135.5 2877,-171.5 \"/>\n<text text-anchor=\"middle\" x=\"2918\" y=\"-149.8\" font-family=\"Times,serif\" font-size=\"14.00\">grad 1.0000</text>\n</g>\n<!-- 132682768089680* -->\n<g id=\"node2\" class=\"node\">\n<title>132682768089680*</title>\n<ellipse fill=\"none\" stroke=\"black\" cx=\"2711\" cy=\"-153.5\" rx=\"27\" ry=\"18\"/>\n<text text-anchor=\"middle\" x=\"2711\" y=\"-149.8\" font-family=\"Times,serif\" font-size=\"14.00\">*</text>\n</g>\n<!-- 132682768089680*&#45;&gt;132682768089680 -->\n<g id=\"edge1\" class=\"edge\">\n<title>132682768089680*&#45;&gt;132682768089680</title>\n<path fill=\"none\" stroke=\"black\" d=\"M2738.04,-153.5C2745.58,-153.5 2754.3,-153.5 2763.57,-153.5\"/>\n<polygon fill=\"black\" stroke=\"black\" points=\"2763.81,-157 2773.81,-153.5 2763.81,-150 2763.81,-157\"/>\n</g>\n<!-- 132682768022608 -->\n<g id=\"node3\" class=\"node\">\n<title>132682768022608</title>\n<polygon fill=\"none\" stroke=\"black\" points=\"326,-110.5 326,-146.5 554,-146.5 554,-110.5 326,-110.5\"/>\n<text text-anchor=\"middle\" x=\"356.5\" y=\"-124.8\" font-family=\"Times,serif\" font-size=\"14.00\">x1 * w1</text>\n<polyline fill=\"none\" stroke=\"black\" points=\"387,-110.5 387,-146.5 \"/>\n<text text-anchor=\"middle\" x=\"429.5\" y=\"-124.8\" font-family=\"Times,serif\" font-size=\"14.00\">data &#45;6.0000</text>\n<polyline fill=\"none\" stroke=\"black\" points=\"472,-110.5 472,-146.5 \"/>\n<text text-anchor=\"middle\" x=\"513\" y=\"-124.8\" font-family=\"Times,serif\" font-size=\"14.00\">grad 0.5000</text>\n</g>\n<!-- 132682768023504+ -->\n<g id=\"node28\" class=\"node\">\n<title>132682768023504+</title>\n<ellipse fill=\"none\" stroke=\"black\" cx=\"617\" cy=\"-100.5\" rx=\"27\" ry=\"18\"/>\n<text text-anchor=\"middle\" x=\"617\" y=\"-96.8\" font-family=\"Times,serif\" font-size=\"14.00\">+</text>\n</g>\n<!-- 132682768022608&#45;&gt;132682768023504+ -->\n<g id=\"edge27\" class=\"edge\">\n<title>132682768022608&#45;&gt;132682768023504+</title>\n<path fill=\"none\" stroke=\"black\" d=\"M553.81,-110.45C563.28,-108.93 572.32,-107.49 580.43,-106.19\"/>\n<polygon fill=\"black\" stroke=\"black\" points=\"581.19,-109.61 590.51,-104.58 580.08,-102.7 581.19,-109.61\"/>\n</g>\n<!-- 132682768022608* -->\n<g id=\"node4\" class=\"node\">\n<title>132682768022608*</title>\n<ellipse fill=\"none\" stroke=\"black\" cx=\"263\" cy=\"-128.5\" rx=\"27\" ry=\"18\"/>\n<text text-anchor=\"middle\" x=\"263\" y=\"-124.8\" font-family=\"Times,serif\" font-size=\"14.00\">*</text>\n</g>\n<!-- 132682768022608*&#45;&gt;132682768022608 -->\n<g id=\"edge2\" class=\"edge\">\n<title>132682768022608*&#45;&gt;132682768022608</title>\n<path fill=\"none\" stroke=\"black\" d=\"M290.2,-128.5C297.62,-128.5 306.23,-128.5 315.48,-128.5\"/>\n<polygon fill=\"black\" stroke=\"black\" points=\"315.76,-132 325.76,-128.5 315.76,-125 315.76,-132\"/>\n</g>\n<!-- 132682773123984 -->\n<g id=\"node5\" class=\"node\">\n<title>132682773123984</title>\n<polygon fill=\"none\" stroke=\"black\" points=\"1713,-81.5 1713,-117.5 1900,-117.5 1900,-81.5 1713,-81.5\"/>\n<text text-anchor=\"middle\" x=\"1723\" y=\"-95.8\" font-family=\"Times,serif\" font-size=\"14.00\"> </text>\n<polyline fill=\"none\" stroke=\"black\" points=\"1733,-81.5 1733,-117.5 \"/>\n<text text-anchor=\"middle\" x=\"1775.5\" y=\"-95.8\" font-family=\"Times,serif\" font-size=\"14.00\">data &#45;1.0000</text>\n<polyline fill=\"none\" stroke=\"black\" points=\"1818,-81.5 1818,-117.5 \"/>\n<text text-anchor=\"middle\" x=\"1859\" y=\"-95.8\" font-family=\"Times,serif\" font-size=\"14.00\">grad 0.1464</text>\n</g>\n<!-- 132682768089488+ -->\n<g id=\"node25\" class=\"node\">\n<title>132682768089488+</title>\n<ellipse fill=\"none\" stroke=\"black\" cx=\"1963\" cy=\"-126.5\" rx=\"27\" ry=\"18\"/>\n<text text-anchor=\"middle\" x=\"1963\" y=\"-122.8\" font-family=\"Times,serif\" font-size=\"14.00\">+</text>\n</g>\n<!-- 132682773123984&#45;&gt;132682768089488+ -->\n<g id=\"edge22\" class=\"edge\">\n<title>132682773123984&#45;&gt;132682768089488+</title>\n<path fill=\"none\" stroke=\"black\" d=\"M1900.05,-115.67C1909.34,-117.3 1918.33,-118.87 1926.44,-120.29\"/>\n<polygon fill=\"black\" stroke=\"black\" points=\"1926.1,-123.78 1936.55,-122.05 1927.3,-116.88 1926.1,-123.78\"/>\n</g>\n<!-- 132682768089168 -->\n<g id=\"node6\" class=\"node\">\n<title>132682768089168</title>\n<polygon fill=\"none\" stroke=\"black\" points=\"1095.5,-164.5 1095.5,-200.5 1277.5,-200.5 1277.5,-164.5 1095.5,-164.5\"/>\n<text text-anchor=\"middle\" x=\"1105.5\" y=\"-178.8\" font-family=\"Times,serif\" font-size=\"14.00\"> </text>\n<polyline fill=\"none\" stroke=\"black\" points=\"1115.5,-164.5 1115.5,-200.5 \"/>\n<text text-anchor=\"middle\" x=\"1155.5\" y=\"-178.8\" font-family=\"Times,serif\" font-size=\"14.00\">data 2.0000</text>\n<polyline fill=\"none\" stroke=\"black\" points=\"1195.5,-164.5 1195.5,-200.5 \"/>\n<text text-anchor=\"middle\" x=\"1236.5\" y=\"-178.8\" font-family=\"Times,serif\" font-size=\"14.00\">grad 0.2203</text>\n</g>\n<!-- 132682768089424* -->\n<g id=\"node20\" class=\"node\">\n<title>132682768089424*</title>\n<ellipse fill=\"none\" stroke=\"black\" cx=\"1342\" cy=\"-154.5\" rx=\"27\" ry=\"18\"/>\n<text text-anchor=\"middle\" x=\"1342\" y=\"-150.8\" font-family=\"Times,serif\" font-size=\"14.00\">*</text>\n</g>\n<!-- 132682768089168&#45;&gt;132682768089424* -->\n<g id=\"edge21\" class=\"edge\">\n<title>132682768089168&#45;&gt;132682768089424*</title>\n<path fill=\"none\" stroke=\"black\" d=\"M1277.68,-166.05C1287.61,-164.24 1297.23,-162.48 1305.84,-160.91\"/>\n<polygon fill=\"black\" stroke=\"black\" points=\"1306.6,-164.33 1315.81,-159.09 1305.35,-157.45 1306.6,-164.33\"/>\n</g>\n<!-- 132682768089232 -->\n<g id=\"node7\" class=\"node\">\n<title>132682768089232</title>\n<polygon fill=\"none\" stroke=\"black\" points=\"1094,-109.5 1094,-145.5 1279,-145.5 1279,-109.5 1094,-109.5\"/>\n<text text-anchor=\"middle\" x=\"1105.5\" y=\"-123.8\" font-family=\"Times,serif\" font-size=\"14.00\">n</text>\n<polyline fill=\"none\" stroke=\"black\" points=\"1117,-109.5 1117,-145.5 \"/>\n<text text-anchor=\"middle\" x=\"1157\" y=\"-123.8\" font-family=\"Times,serif\" font-size=\"14.00\">data 0.8814</text>\n<polyline fill=\"none\" stroke=\"black\" points=\"1197,-109.5 1197,-145.5 \"/>\n<text text-anchor=\"middle\" x=\"1238\" y=\"-123.8\" font-family=\"Times,serif\" font-size=\"14.00\">grad 0.5000</text>\n</g>\n<!-- 132682768089232&#45;&gt;132682768089424* -->\n<g id=\"edge11\" class=\"edge\">\n<title>132682768089232&#45;&gt;132682768089424*</title>\n<path fill=\"none\" stroke=\"black\" d=\"M1279.01,-143.6C1288.49,-145.26 1297.66,-146.88 1305.9,-148.33\"/>\n<polygon fill=\"black\" stroke=\"black\" points=\"1305.36,-151.78 1315.81,-150.07 1306.57,-144.89 1305.36,-151.78\"/>\n</g>\n<!-- 132682768089232+ -->\n<g id=\"node8\" class=\"node\">\n<title>132682768089232+</title>\n<ellipse fill=\"none\" stroke=\"black\" cx=\"1031\" cy=\"-127.5\" rx=\"27\" ry=\"18\"/>\n<text text-anchor=\"middle\" x=\"1031\" y=\"-123.8\" font-family=\"Times,serif\" font-size=\"14.00\">+</text>\n</g>\n<!-- 132682768089232+&#45;&gt;132682768089232 -->\n<g id=\"edge3\" class=\"edge\">\n<title>132682768089232+&#45;&gt;132682768089232</title>\n<path fill=\"none\" stroke=\"black\" d=\"M1058.04,-127.5C1065.58,-127.5 1074.3,-127.5 1083.57,-127.5\"/>\n<polygon fill=\"black\" stroke=\"black\" points=\"1083.81,-131 1093.81,-127.5 1083.81,-124 1083.81,-131\"/>\n</g>\n<!-- 132682768022736 -->\n<g id=\"node9\" class=\"node\">\n<title>132682768022736</title>\n<polygon fill=\"none\" stroke=\"black\" points=\"2.5,-55.5 2.5,-91.5 197.5,-91.5 197.5,-55.5 2.5,-55.5\"/>\n<text text-anchor=\"middle\" x=\"19\" y=\"-69.8\" font-family=\"Times,serif\" font-size=\"14.00\">w2</text>\n<polyline fill=\"none\" stroke=\"black\" points=\"35.5,-55.5 35.5,-91.5 \"/>\n<text text-anchor=\"middle\" x=\"75.5\" y=\"-69.8\" font-family=\"Times,serif\" font-size=\"14.00\">data 1.0000</text>\n<polyline fill=\"none\" stroke=\"black\" points=\"115.5,-55.5 115.5,-91.5 \"/>\n<text text-anchor=\"middle\" x=\"156.5\" y=\"-69.8\" font-family=\"Times,serif\" font-size=\"14.00\">grad 0.0000</text>\n</g>\n<!-- 132682768023376* -->\n<g id=\"node23\" class=\"node\">\n<title>132682768023376*</title>\n<ellipse fill=\"none\" stroke=\"black\" cx=\"263\" cy=\"-73.5\" rx=\"27\" ry=\"18\"/>\n<text text-anchor=\"middle\" x=\"263\" y=\"-69.8\" font-family=\"Times,serif\" font-size=\"14.00\">*</text>\n</g>\n<!-- 132682768022736&#45;&gt;132682768023376* -->\n<g id=\"edge19\" class=\"edge\">\n<title>132682768022736&#45;&gt;132682768023376*</title>\n<path fill=\"none\" stroke=\"black\" d=\"M197.91,-73.5C207.65,-73.5 217.05,-73.5 225.52,-73.5\"/>\n<polygon fill=\"black\" stroke=\"black\" points=\"225.7,-77 235.7,-73.5 225.7,-70 225.7,-77\"/>\n</g>\n<!-- 132682768089296 -->\n<g id=\"node10\" class=\"node\">\n<title>132682768089296</title>\n<polygon fill=\"none\" stroke=\"black\" points=\"2466,-161.5 2466,-197.5 2648,-197.5 2648,-161.5 2466,-161.5\"/>\n<text text-anchor=\"middle\" x=\"2476\" y=\"-175.8\" font-family=\"Times,serif\" font-size=\"14.00\"> </text>\n<polyline fill=\"none\" stroke=\"black\" points=\"2486,-161.5 2486,-197.5 \"/>\n<text text-anchor=\"middle\" x=\"2526\" y=\"-175.8\" font-family=\"Times,serif\" font-size=\"14.00\">data 0.1464</text>\n<polyline fill=\"none\" stroke=\"black\" points=\"2566,-161.5 2566,-197.5 \"/>\n<text text-anchor=\"middle\" x=\"2607\" y=\"-175.8\" font-family=\"Times,serif\" font-size=\"14.00\">grad 4.8284</text>\n</g>\n<!-- 132682768089296&#45;&gt;132682768089680* -->\n<g id=\"edge13\" class=\"edge\">\n<title>132682768089296&#45;&gt;132682768089680*</title>\n<path fill=\"none\" stroke=\"black\" d=\"M2648.18,-164.08C2657.42,-162.49 2666.38,-160.96 2674.47,-159.58\"/>\n<polygon fill=\"black\" stroke=\"black\" points=\"2675.29,-162.99 2684.56,-157.85 2674.11,-156.09 2675.29,-162.99\"/>\n</g>\n<!-- 132682768089296**&#45;1 -->\n<g id=\"node11\" class=\"node\">\n<title>132682768089296**&#45;1</title>\n<ellipse fill=\"none\" stroke=\"black\" cx=\"2339\" cy=\"-181.5\" rx=\"27\" ry=\"18\"/>\n<text text-anchor=\"middle\" x=\"2339\" y=\"-177.8\" font-family=\"Times,serif\" font-size=\"14.00\">**&#45;1</text>\n</g>\n<!-- 132682768089296**&#45;1&#45;&gt;132682768089296 -->\n<g id=\"edge4\" class=\"edge\">\n<title>132682768089296**&#45;1&#45;&gt;132682768089296</title>\n<path fill=\"none\" stroke=\"black\" d=\"M2366.05,-181.26C2388.53,-181.05 2422.48,-180.74 2455.5,-180.43\"/>\n<polygon fill=\"black\" stroke=\"black\" points=\"2455.74,-183.93 2465.7,-180.34 2455.67,-176.93 2455.74,-183.93\"/>\n</g>\n<!-- 132682768022800 -->\n<g id=\"node12\" class=\"node\">\n<title>132682768022800</title>\n<polygon fill=\"none\" stroke=\"black\" points=\"4,-0.5 4,-36.5 196,-36.5 196,-0.5 4,-0.5\"/>\n<text text-anchor=\"middle\" x=\"19\" y=\"-14.8\" font-family=\"Times,serif\" font-size=\"14.00\">x2</text>\n<polyline fill=\"none\" stroke=\"black\" points=\"34,-0.5 34,-36.5 \"/>\n<text text-anchor=\"middle\" x=\"74\" y=\"-14.8\" font-family=\"Times,serif\" font-size=\"14.00\">data 0.0000</text>\n<polyline fill=\"none\" stroke=\"black\" points=\"114,-0.5 114,-36.5 \"/>\n<text text-anchor=\"middle\" x=\"155\" y=\"-14.8\" font-family=\"Times,serif\" font-size=\"14.00\">grad 0.5000</text>\n</g>\n<!-- 132682768022800&#45;&gt;132682768023376* -->\n<g id=\"edge17\" class=\"edge\">\n<title>132682768022800&#45;&gt;132682768023376*</title>\n<path fill=\"none\" stroke=\"black\" d=\"M172.53,-36.56C181.84,-39.33 191.2,-42.33 200,-45.5 210.53,-49.29 221.75,-54.1 231.72,-58.67\"/>\n<polygon fill=\"black\" stroke=\"black\" points=\"230.28,-61.86 240.82,-62.93 233.25,-55.52 230.28,-61.86\"/>\n</g>\n<!-- 132682768023312 -->\n<g id=\"node13\" class=\"node\">\n<title>132682768023312</title>\n<polygon fill=\"none\" stroke=\"black\" points=\"0,-165.5 0,-201.5 200,-201.5 200,-165.5 0,-165.5\"/>\n<text text-anchor=\"middle\" x=\"16.5\" y=\"-179.8\" font-family=\"Times,serif\" font-size=\"14.00\">w1</text>\n<polyline fill=\"none\" stroke=\"black\" points=\"33,-165.5 33,-201.5 \"/>\n<text text-anchor=\"middle\" x=\"75.5\" y=\"-179.8\" font-family=\"Times,serif\" font-size=\"14.00\">data &#45;3.0000</text>\n<polyline fill=\"none\" stroke=\"black\" points=\"118,-165.5 118,-201.5 \"/>\n<text text-anchor=\"middle\" x=\"159\" y=\"-179.8\" font-family=\"Times,serif\" font-size=\"14.00\">grad 1.0000</text>\n</g>\n<!-- 132682768023312&#45;&gt;132682768022608* -->\n<g id=\"edge26\" class=\"edge\">\n<title>132682768023312&#45;&gt;132682768022608*</title>\n<path fill=\"none\" stroke=\"black\" d=\"M172.53,-165.44C181.84,-162.67 191.2,-159.67 200,-156.5 210.53,-152.71 221.75,-147.9 231.72,-143.33\"/>\n<polygon fill=\"black\" stroke=\"black\" points=\"233.25,-146.48 240.82,-139.07 230.28,-140.14 233.25,-146.48\"/>\n</g>\n<!-- 132682768089360 -->\n<g id=\"node14\" class=\"node\">\n<title>132682768089360</title>\n<polygon fill=\"none\" stroke=\"black\" points=\"2026,-163.5 2026,-199.5 2212,-199.5 2212,-163.5 2026,-163.5\"/>\n<text text-anchor=\"middle\" x=\"2036\" y=\"-177.8\" font-family=\"Times,serif\" font-size=\"14.00\"> </text>\n<polyline fill=\"none\" stroke=\"black\" points=\"2046,-163.5 2046,-199.5 \"/>\n<text text-anchor=\"middle\" x=\"2086\" y=\"-177.8\" font-family=\"Times,serif\" font-size=\"14.00\">data 6.8284</text>\n<polyline fill=\"none\" stroke=\"black\" points=\"2126,-163.5 2126,-199.5 \"/>\n<text text-anchor=\"middle\" x=\"2169\" y=\"-177.8\" font-family=\"Times,serif\" font-size=\"14.00\">grad &#45;0.1036</text>\n</g>\n<!-- 132682768089360&#45;&gt;132682768089296**&#45;1 -->\n<g id=\"edge24\" class=\"edge\">\n<title>132682768089360&#45;&gt;132682768089296**&#45;1</title>\n<path fill=\"none\" stroke=\"black\" d=\"M2212.14,-181.5C2243.72,-181.5 2277.24,-181.5 2301.74,-181.5\"/>\n<polygon fill=\"black\" stroke=\"black\" points=\"2301.98,-185 2311.98,-181.5 2301.98,-178 2301.98,-185\"/>\n</g>\n<!-- 132682768089360+ -->\n<g id=\"node15\" class=\"node\">\n<title>132682768089360+</title>\n<ellipse fill=\"none\" stroke=\"black\" cx=\"1963\" cy=\"-181.5\" rx=\"27\" ry=\"18\"/>\n<text text-anchor=\"middle\" x=\"1963\" y=\"-177.8\" font-family=\"Times,serif\" font-size=\"14.00\">+</text>\n</g>\n<!-- 132682768089360+&#45;&gt;132682768089360 -->\n<g id=\"edge5\" class=\"edge\">\n<title>132682768089360+&#45;&gt;132682768089360</title>\n<path fill=\"none\" stroke=\"black\" d=\"M1990.12,-181.5C1997.62,-181.5 2006.29,-181.5 2015.5,-181.5\"/>\n<polygon fill=\"black\" stroke=\"black\" points=\"2015.69,-185 2025.69,-181.5 2015.69,-178 2015.69,-185\"/>\n</g>\n<!-- 132682768089552 -->\n<g id=\"node16\" class=\"node\">\n<title>132682768089552</title>\n<polygon fill=\"none\" stroke=\"black\" points=\"1713.5,-191.5 1713.5,-227.5 1899.5,-227.5 1899.5,-191.5 1713.5,-191.5\"/>\n<text text-anchor=\"middle\" x=\"1723.5\" y=\"-205.8\" font-family=\"Times,serif\" font-size=\"14.00\"> </text>\n<polyline fill=\"none\" stroke=\"black\" points=\"1733.5,-191.5 1733.5,-227.5 \"/>\n<text text-anchor=\"middle\" x=\"1773.5\" y=\"-205.8\" font-family=\"Times,serif\" font-size=\"14.00\">data 1.0000</text>\n<polyline fill=\"none\" stroke=\"black\" points=\"1813.5,-191.5 1813.5,-227.5 \"/>\n<text text-anchor=\"middle\" x=\"1856.5\" y=\"-205.8\" font-family=\"Times,serif\" font-size=\"14.00\">grad &#45;0.1036</text>\n</g>\n<!-- 132682768089552&#45;&gt;132682768089360+ -->\n<g id=\"edge12\" class=\"edge\">\n<title>132682768089552&#45;&gt;132682768089360+</title>\n<path fill=\"none\" stroke=\"black\" d=\"M1899.6,-192.81C1909.15,-191.08 1918.37,-189.41 1926.68,-187.9\"/>\n<polygon fill=\"black\" stroke=\"black\" points=\"1927.43,-191.32 1936.65,-186.09 1926.18,-184.43 1927.43,-191.32\"/>\n</g>\n<!-- 132682787577168 -->\n<g id=\"node17\" class=\"node\">\n<title>132682787577168</title>\n<polygon fill=\"none\" stroke=\"black\" points=\"1714,-136.5 1714,-172.5 1899,-172.5 1899,-136.5 1714,-136.5\"/>\n<text text-anchor=\"middle\" x=\"1725.5\" y=\"-150.8\" font-family=\"Times,serif\" font-size=\"14.00\">e</text>\n<polyline fill=\"none\" stroke=\"black\" points=\"1737,-136.5 1737,-172.5 \"/>\n<text text-anchor=\"middle\" x=\"1777\" y=\"-150.8\" font-family=\"Times,serif\" font-size=\"14.00\">data 5.8284</text>\n<polyline fill=\"none\" stroke=\"black\" points=\"1817,-136.5 1817,-172.5 \"/>\n<text text-anchor=\"middle\" x=\"1858\" y=\"-150.8\" font-family=\"Times,serif\" font-size=\"14.00\">grad 0.0429</text>\n</g>\n<!-- 132682787577168&#45;&gt;132682768089360+ -->\n<g id=\"edge25\" class=\"edge\">\n<title>132682787577168&#45;&gt;132682768089360+</title>\n<path fill=\"none\" stroke=\"black\" d=\"M1899.16,-170.52C1908.84,-172.21 1918.22,-173.85 1926.64,-175.32\"/>\n<polygon fill=\"black\" stroke=\"black\" points=\"1926.29,-178.81 1936.75,-177.09 1927.5,-171.92 1926.29,-178.81\"/>\n</g>\n<!-- 132682787577168&#45;&gt;132682768089488+ -->\n<g id=\"edge14\" class=\"edge\">\n<title>132682787577168&#45;&gt;132682768089488+</title>\n<path fill=\"none\" stroke=\"black\" d=\"M1899.16,-137.89C1908.84,-136.13 1918.22,-134.43 1926.64,-132.91\"/>\n<polygon fill=\"black\" stroke=\"black\" points=\"1927.53,-136.3 1936.75,-131.08 1926.28,-129.42 1927.53,-136.3\"/>\n</g>\n<!-- 132682787577168tanh -->\n<g id=\"node18\" class=\"node\">\n<title>132682787577168tanh</title>\n<ellipse fill=\"none\" stroke=\"black\" cx=\"1650\" cy=\"-154.5\" rx=\"27\" ry=\"18\"/>\n<text text-anchor=\"middle\" x=\"1650\" y=\"-150.8\" font-family=\"Times,serif\" font-size=\"14.00\">tanh</text>\n</g>\n<!-- 132682787577168tanh&#45;&gt;132682787577168 -->\n<g id=\"edge6\" class=\"edge\">\n<title>132682787577168tanh&#45;&gt;132682787577168</title>\n<path fill=\"none\" stroke=\"black\" d=\"M1677.21,-154.5C1685,-154.5 1694.05,-154.5 1703.67,-154.5\"/>\n<polygon fill=\"black\" stroke=\"black\" points=\"1703.87,-158 1713.87,-154.5 1703.87,-151 1703.87,-158\"/>\n</g>\n<!-- 132682768089424 -->\n<g id=\"node19\" class=\"node\">\n<title>132682768089424</title>\n<polygon fill=\"none\" stroke=\"black\" points=\"1405,-136.5 1405,-172.5 1587,-172.5 1587,-136.5 1405,-136.5\"/>\n<text text-anchor=\"middle\" x=\"1415\" y=\"-150.8\" font-family=\"Times,serif\" font-size=\"14.00\"> </text>\n<polyline fill=\"none\" stroke=\"black\" points=\"1425,-136.5 1425,-172.5 \"/>\n<text text-anchor=\"middle\" x=\"1465\" y=\"-150.8\" font-family=\"Times,serif\" font-size=\"14.00\">data 1.7627</text>\n<polyline fill=\"none\" stroke=\"black\" points=\"1505,-136.5 1505,-172.5 \"/>\n<text text-anchor=\"middle\" x=\"1546\" y=\"-150.8\" font-family=\"Times,serif\" font-size=\"14.00\">grad 0.2500</text>\n</g>\n<!-- 132682768089424&#45;&gt;132682787577168tanh -->\n<g id=\"edge28\" class=\"edge\">\n<title>132682768089424&#45;&gt;132682787577168tanh</title>\n<path fill=\"none\" stroke=\"black\" d=\"M1587.18,-154.5C1596.14,-154.5 1604.83,-154.5 1612.73,-154.5\"/>\n<polygon fill=\"black\" stroke=\"black\" points=\"1612.96,-158 1622.96,-154.5 1612.96,-151 1612.96,-158\"/>\n</g>\n<!-- 132682768089424*&#45;&gt;132682768089424 -->\n<g id=\"edge7\" class=\"edge\">\n<title>132682768089424*&#45;&gt;132682768089424</title>\n<path fill=\"none\" stroke=\"black\" d=\"M1369.13,-154.5C1376.67,-154.5 1385.39,-154.5 1394.64,-154.5\"/>\n<polygon fill=\"black\" stroke=\"black\" points=\"1394.87,-158 1404.87,-154.5 1394.87,-151 1394.87,-158\"/>\n</g>\n<!-- 132682768015696 -->\n<g id=\"node21\" class=\"node\">\n<title>132682768015696</title>\n<polygon fill=\"none\" stroke=\"black\" points=\"731.5,-137.5 731.5,-173.5 916.5,-173.5 916.5,-137.5 731.5,-137.5\"/>\n<text text-anchor=\"middle\" x=\"743\" y=\"-151.8\" font-family=\"Times,serif\" font-size=\"14.00\">b</text>\n<polyline fill=\"none\" stroke=\"black\" points=\"754.5,-137.5 754.5,-173.5 \"/>\n<text text-anchor=\"middle\" x=\"794.5\" y=\"-151.8\" font-family=\"Times,serif\" font-size=\"14.00\">data 6.8814</text>\n<polyline fill=\"none\" stroke=\"black\" points=\"834.5,-137.5 834.5,-173.5 \"/>\n<text text-anchor=\"middle\" x=\"875.5\" y=\"-151.8\" font-family=\"Times,serif\" font-size=\"14.00\">grad 0.5000</text>\n</g>\n<!-- 132682768015696&#45;&gt;132682768089232+ -->\n<g id=\"edge18\" class=\"edge\">\n<title>132682768015696&#45;&gt;132682768089232+</title>\n<path fill=\"none\" stroke=\"black\" d=\"M916.71,-142.97C944.19,-139.22 972.72,-135.32 994.28,-132.38\"/>\n<polygon fill=\"black\" stroke=\"black\" points=\"994.83,-135.84 1004.26,-131.02 993.88,-128.9 994.83,-135.84\"/>\n</g>\n<!-- 132682768023376 -->\n<g id=\"node22\" class=\"node\">\n<title>132682768023376</title>\n<polygon fill=\"none\" stroke=\"black\" points=\"328.5,-55.5 328.5,-91.5 551.5,-91.5 551.5,-55.5 328.5,-55.5\"/>\n<text text-anchor=\"middle\" x=\"359\" y=\"-69.8\" font-family=\"Times,serif\" font-size=\"14.00\">x2 * w2</text>\n<polyline fill=\"none\" stroke=\"black\" points=\"389.5,-55.5 389.5,-91.5 \"/>\n<text text-anchor=\"middle\" x=\"429.5\" y=\"-69.8\" font-family=\"Times,serif\" font-size=\"14.00\">data 0.0000</text>\n<polyline fill=\"none\" stroke=\"black\" points=\"469.5,-55.5 469.5,-91.5 \"/>\n<text text-anchor=\"middle\" x=\"510.5\" y=\"-69.8\" font-family=\"Times,serif\" font-size=\"14.00\">grad 0.5000</text>\n</g>\n<!-- 132682768023376&#45;&gt;132682768023504+ -->\n<g id=\"edge23\" class=\"edge\">\n<title>132682768023376&#45;&gt;132682768023504+</title>\n<path fill=\"none\" stroke=\"black\" d=\"M551.83,-90.6C562.05,-92.18 571.82,-93.68 580.51,-95.02\"/>\n<polygon fill=\"black\" stroke=\"black\" points=\"580.12,-98.51 590.54,-96.57 581.19,-91.59 580.12,-98.51\"/>\n</g>\n<!-- 132682768023376*&#45;&gt;132682768023376 -->\n<g id=\"edge8\" class=\"edge\">\n<title>132682768023376*&#45;&gt;132682768023376</title>\n<path fill=\"none\" stroke=\"black\" d=\"M290.2,-73.5C298.36,-73.5 307.96,-73.5 318.28,-73.5\"/>\n<polygon fill=\"black\" stroke=\"black\" points=\"318.37,-77 328.37,-73.5 318.37,-70 318.37,-77\"/>\n</g>\n<!-- 132682768089488 -->\n<g id=\"node24\" class=\"node\">\n<title>132682768089488</title>\n<polygon fill=\"none\" stroke=\"black\" points=\"2248,-108.5 2248,-144.5 2430,-144.5 2430,-108.5 2248,-108.5\"/>\n<text text-anchor=\"middle\" x=\"2258\" y=\"-122.8\" font-family=\"Times,serif\" font-size=\"14.00\"> </text>\n<polyline fill=\"none\" stroke=\"black\" points=\"2268,-108.5 2268,-144.5 \"/>\n<text text-anchor=\"middle\" x=\"2308\" y=\"-122.8\" font-family=\"Times,serif\" font-size=\"14.00\">data 4.8284</text>\n<polyline fill=\"none\" stroke=\"black\" points=\"2348,-108.5 2348,-144.5 \"/>\n<text text-anchor=\"middle\" x=\"2389\" y=\"-122.8\" font-family=\"Times,serif\" font-size=\"14.00\">grad 0.1464</text>\n</g>\n<!-- 132682768089488&#45;&gt;132682768089680* -->\n<g id=\"edge15\" class=\"edge\">\n<title>132682768089488&#45;&gt;132682768089680*</title>\n<path fill=\"none\" stroke=\"black\" d=\"M2430.04,-133.07C2508.41,-138.79 2617.98,-146.79 2673.96,-150.87\"/>\n<polygon fill=\"black\" stroke=\"black\" points=\"2673.87,-154.37 2684.1,-151.61 2674.38,-147.39 2673.87,-154.37\"/>\n</g>\n<!-- 132682768089488+&#45;&gt;132682768089488 -->\n<g id=\"edge9\" class=\"edge\">\n<title>132682768089488+&#45;&gt;132682768089488</title>\n<path fill=\"none\" stroke=\"black\" d=\"M1990,-126.5C2040.46,-126.5 2154.06,-126.5 2237.81,-126.5\"/>\n<polygon fill=\"black\" stroke=\"black\" points=\"2237.87,-130 2247.87,-126.5 2237.87,-123 2237.87,-130\"/>\n</g>\n<!-- 132682768018256 -->\n<g id=\"node26\" class=\"node\">\n<title>132682768018256</title>\n<polygon fill=\"none\" stroke=\"black\" points=\"2,-110.5 2,-146.5 198,-146.5 198,-110.5 2,-110.5\"/>\n<text text-anchor=\"middle\" x=\"17\" y=\"-124.8\" font-family=\"Times,serif\" font-size=\"14.00\">x1</text>\n<polyline fill=\"none\" stroke=\"black\" points=\"32,-110.5 32,-146.5 \"/>\n<text text-anchor=\"middle\" x=\"72\" y=\"-124.8\" font-family=\"Times,serif\" font-size=\"14.00\">data 2.0000</text>\n<polyline fill=\"none\" stroke=\"black\" points=\"112,-110.5 112,-146.5 \"/>\n<text text-anchor=\"middle\" x=\"155\" y=\"-124.8\" font-family=\"Times,serif\" font-size=\"14.00\">grad &#45;1.5000</text>\n</g>\n<!-- 132682768018256&#45;&gt;132682768022608* -->\n<g id=\"edge20\" class=\"edge\">\n<title>132682768018256&#45;&gt;132682768022608*</title>\n<path fill=\"none\" stroke=\"black\" d=\"M198.37,-128.5C208.05,-128.5 217.4,-128.5 225.8,-128.5\"/>\n<polygon fill=\"black\" stroke=\"black\" points=\"225.91,-132 235.91,-128.5 225.91,-125 225.91,-132\"/>\n</g>\n<!-- 132682768023504 -->\n<g id=\"node27\" class=\"node\">\n<title>132682768023504</title>\n<polygon fill=\"none\" stroke=\"black\" points=\"680,-82.5 680,-118.5 968,-118.5 968,-82.5 680,-82.5\"/>\n<text text-anchor=\"middle\" x=\"740.5\" y=\"-96.8\" font-family=\"Times,serif\" font-size=\"14.00\">x1 * w1 + x2 * w2</text>\n<polyline fill=\"none\" stroke=\"black\" points=\"801,-82.5 801,-118.5 \"/>\n<text text-anchor=\"middle\" x=\"843.5\" y=\"-96.8\" font-family=\"Times,serif\" font-size=\"14.00\">data &#45;6.0000</text>\n<polyline fill=\"none\" stroke=\"black\" points=\"886,-82.5 886,-118.5 \"/>\n<text text-anchor=\"middle\" x=\"927\" y=\"-96.8\" font-family=\"Times,serif\" font-size=\"14.00\">grad 0.5000</text>\n</g>\n<!-- 132682768023504&#45;&gt;132682768089232+ -->\n<g id=\"edge16\" class=\"edge\">\n<title>132682768023504&#45;&gt;132682768089232+</title>\n<path fill=\"none\" stroke=\"black\" d=\"M961.74,-118.51C973.37,-120.04 984.34,-121.49 993.94,-122.75\"/>\n<polygon fill=\"black\" stroke=\"black\" points=\"993.79,-126.26 1004.16,-124.1 994.71,-119.32 993.79,-126.26\"/>\n</g>\n<!-- 132682768023504+&#45;&gt;132682768023504 -->\n<g id=\"edge10\" class=\"edge\">\n<title>132682768023504+&#45;&gt;132682768023504</title>\n<path fill=\"none\" stroke=\"black\" d=\"M644.38,-100.5C651.69,-100.5 660.17,-100.5 669.41,-100.5\"/>\n<polygon fill=\"black\" stroke=\"black\" points=\"669.69,-104 679.69,-100.5 669.69,-97 669.69,-104\"/>\n</g>\n</g>\n</svg>\n",
            "text/plain": [
              "<graphviz.graphs.Digraph at 0x78ac9d416910>"
            ]
          },
          "metadata": {},
          "execution_count": 378
        }
      ]
    },
    {
      "cell_type": "markdown",
      "source": [
        "## Doing this using PyTorch"
      ],
      "metadata": {
        "id": "9Bhm2ACYUWLQ"
      }
    },
    {
      "cell_type": "code",
      "source": [
        "import torch"
      ],
      "metadata": {
        "id": "XsOWNCj3j-jJ"
      },
      "execution_count": 379,
      "outputs": []
    },
    {
      "cell_type": "code",
      "source": [
        "x1 = torch.Tensor([2.0]).double(); x1.requires_grad = True # torch assumes that scalars dont require backward prop\n",
        "w1 = torch.Tensor([-3.0]).double(); w1.requires_grad = True # torch assumes that scalars dont require backward prop\n",
        "x2 = torch.Tensor([0.0]).double(); x2.requires_grad = True # torch assumes that scalars dont require backward prop\n",
        "w2 = torch.Tensor([1.0]).double(); w2.requires_grad = True # torch assumes that scalars dont require backward prop\n",
        "b = torch.Tensor([6.8813735870195432]).double(); b.requires_grad = True # torch assumes that scalars dont require backward prop\n",
        "\n",
        "\n",
        "n = x1 * w1 + x2 * w2 + b\n",
        "o = torch.tanh(n)\n",
        "print('o: ', o.data.item())\n",
        "o.backward()\n"
      ],
      "metadata": {
        "colab": {
          "base_uri": "https://localhost:8080/"
        },
        "id": "1iwN8IyQj_v-",
        "outputId": "6800944d-15d2-4af4-d701-5bc3cc057f9b"
      },
      "execution_count": 380,
      "outputs": [
        {
          "output_type": "stream",
          "name": "stdout",
          "text": [
            "o:  0.7071066904050358\n"
          ]
        }
      ]
    },
    {
      "cell_type": "code",
      "source": [
        "# x1.grad returns grad tensor, .item() returns the data item of tensor\n",
        "print('x2', x2.grad)\n",
        "print('w2', w2.grad.item())\n",
        "print('x1', x1.grad.item())\n",
        "print('w1', w1.grad.item())"
      ],
      "metadata": {
        "colab": {
          "base_uri": "https://localhost:8080/"
        },
        "id": "06_ZitqxkUC0",
        "outputId": "9b9085a2-8490-48a9-da9a-b815c51c5950"
      },
      "execution_count": 381,
      "outputs": [
        {
          "output_type": "stream",
          "name": "stdout",
          "text": [
            "x2 tensor([0.5000], dtype=torch.float64)\n",
            "w2 0.0\n",
            "x1 -1.5000003851533106\n",
            "w1 1.0000002567688737\n"
          ]
        }
      ]
    },
    {
      "cell_type": "code",
      "source": [
        "o.item()"
      ],
      "metadata": {
        "colab": {
          "base_uri": "https://localhost:8080/"
        },
        "id": "E0kwcuNhk5Qa",
        "outputId": "b905573b-a118-45c0-ee74-bafce6d7cf5b"
      },
      "execution_count": 382,
      "outputs": [
        {
          "output_type": "execute_result",
          "data": {
            "text/plain": [
              "0.7071066904050358"
            ]
          },
          "metadata": {},
          "execution_count": 382
        }
      ]
    },
    {
      "cell_type": "code",
      "source": [
        "class Neuron:\n",
        "\n",
        "  def __init__(self, nin):\n",
        "    self.w = [Value(random.uniform(-1,1)) for _ in range(nin)]\n",
        "    self.b = Value(random.uniform(-1,1))\n",
        "\n",
        "  def __call__(self, x):\n",
        "    # w * x + b\n",
        "    act = sum((wi*xi for wi, xi in zip(self.w, x)), self.b)\n",
        "    out = act.tanh()\n",
        "    return out\n",
        "\n",
        "  def parameters(self):\n",
        "    return self.w + [self.b]\n",
        "\n",
        "class Layer:\n",
        "  def __init__(self, nin, nout):\n",
        "    self.neurons = [Neuron(nin) for _ in range(nout)] # each output neurons is connected to each input neuron\n",
        "\n",
        "  def __call__(self, x):\n",
        "    outs = [n(x) for n in self.neurons]\n",
        "    return outs[0] if len(outs) == 1 else outs\n",
        "\n",
        "  def parameters(self):\n",
        "    return [p for neuron in self.neurons for p in neuron .parameters()]\n",
        "\n",
        "class MLP: # multi layer perceptron\n",
        "  def __init__(self, nin, nouts):\n",
        "    sz = [nin] + nouts\n",
        "    self.layers = [Layer(sz[i], sz[i+1]) for i in range(len(nouts))]\n",
        "\n",
        "  def __call__(self, x):\n",
        "    for layer in self.layers:\n",
        "      x = layer(x)\n",
        "    return x\n",
        "\n",
        "  def parameters(self):\n",
        "    return [p for layer in self.layers for p in layer.parameters()]"
      ],
      "metadata": {
        "id": "Jf3uewb5laWK"
      },
      "execution_count": 383,
      "outputs": []
    },
    {
      "cell_type": "code",
      "source": [
        "x = [2.0, 3.0, -1.0]\n",
        "n = MLP(3, [4, 4, 1])\n",
        "n(x)"
      ],
      "metadata": {
        "colab": {
          "base_uri": "https://localhost:8080/"
        },
        "id": "Uj0Gj2W5mtZd",
        "outputId": "16da0c35-1a7b-4110-ec72-838eea3ce958"
      },
      "execution_count": 384,
      "outputs": [
        {
          "output_type": "execute_result",
          "data": {
            "text/plain": [
              "Value(data=0.06142639579449249), label=''"
            ]
          },
          "metadata": {},
          "execution_count": 384
        }
      ]
    },
    {
      "cell_type": "code",
      "source": [
        "n.parameters()"
      ],
      "metadata": {
        "colab": {
          "base_uri": "https://localhost:8080/"
        },
        "id": "OT26_RrTYmV7",
        "outputId": "247c60d6-593c-4e7c-b1ee-f60d2680df6a"
      },
      "execution_count": 385,
      "outputs": [
        {
          "output_type": "execute_result",
          "data": {
            "text/plain": [
              "[Value(data=-0.6965076980089497), label='',\n",
              " Value(data=-0.6420335145292682), label='',\n",
              " Value(data=-0.37748621454844566), label='',\n",
              " Value(data=0.7879810890499532), label='',\n",
              " Value(data=-0.8646983945712869), label='',\n",
              " Value(data=-0.20355957704410366), label='',\n",
              " Value(data=-0.17852734750379717), label='',\n",
              " Value(data=0.907093168915611), label='',\n",
              " Value(data=-0.4336732365605023), label='',\n",
              " Value(data=-0.7778128754135614), label='',\n",
              " Value(data=0.2617382559693233), label='',\n",
              " Value(data=0.002058304933672428), label='',\n",
              " Value(data=0.015556174978194726), label='',\n",
              " Value(data=0.6503207026632434), label='',\n",
              " Value(data=0.3836773799571809), label='',\n",
              " Value(data=0.8529230378666164), label='',\n",
              " Value(data=-0.13604629358312015), label='',\n",
              " Value(data=-0.3026514939520484), label='',\n",
              " Value(data=-0.11462897948024642), label='',\n",
              " Value(data=-0.8879510570400917), label='',\n",
              " Value(data=0.06885794939538536), label='',\n",
              " Value(data=-0.7602483487953033), label='',\n",
              " Value(data=0.21999885360848648), label='',\n",
              " Value(data=-0.09607683914908427), label='',\n",
              " Value(data=0.2595387314465707), label='',\n",
              " Value(data=-0.22724353432782385), label='',\n",
              " Value(data=-0.7572988714950015), label='',\n",
              " Value(data=-0.7518616447445119), label='',\n",
              " Value(data=-0.45815980778930787), label='',\n",
              " Value(data=-0.6071220418997525), label='',\n",
              " Value(data=0.8547243295797338), label='',\n",
              " Value(data=-0.6518054933223452), label='',\n",
              " Value(data=-0.9977644699486756), label='',\n",
              " Value(data=0.02246824421447724), label='',\n",
              " Value(data=-0.6775748801659895), label='',\n",
              " Value(data=0.9757274178161708), label='',\n",
              " Value(data=0.18103010883871207), label='',\n",
              " Value(data=0.033175977154427105), label='',\n",
              " Value(data=-0.07360444803740229), label='',\n",
              " Value(data=-0.5363899602381683), label='',\n",
              " Value(data=0.6724101666656768), label='']"
            ]
          },
          "metadata": {},
          "execution_count": 385
        }
      ]
    },
    {
      "cell_type": "code",
      "source": [
        "n(x).backward()\n",
        "# draw_dot(n(x))"
      ],
      "metadata": {
        "id": "_hdwBrionvC8"
      },
      "execution_count": 386,
      "outputs": []
    },
    {
      "cell_type": "code",
      "source": [
        "xs = [\n",
        "  [2.0, 3.0, -1.0],\n",
        "  [3.0, -1.0, 0.5],\n",
        "  [0.5, 1.0, 1.0],\n",
        "  [1.0, 1.0, -1.0],\n",
        "]\n",
        "ys = [1.0, -1.0, -1.0, 1.0] # desired targets\n",
        "# ys = [Value(y) for y in ys]\n",
        "ys"
      ],
      "metadata": {
        "colab": {
          "base_uri": "https://localhost:8080/"
        },
        "id": "aZwKfkKfsxfU",
        "outputId": "ba4a540e-b698-469d-cd0f-0efe9429128f"
      },
      "execution_count": 387,
      "outputs": [
        {
          "output_type": "execute_result",
          "data": {
            "text/plain": [
              "[1.0, -1.0, -1.0, 1.0]"
            ]
          },
          "metadata": {},
          "execution_count": 387
        }
      ]
    },
    {
      "cell_type": "code",
      "source": [
        "y_preds = [n(x) for x in xs] # getting all preds\n",
        "y_preds"
      ],
      "metadata": {
        "colab": {
          "base_uri": "https://localhost:8080/"
        },
        "id": "eXP692EwtfAU",
        "outputId": "9b6aea9b-a47f-4aec-bd47-d3a0b1696594"
      },
      "execution_count": 388,
      "outputs": [
        {
          "output_type": "execute_result",
          "data": {
            "text/plain": [
              "[Value(data=0.06142639579449249), label='',\n",
              " Value(data=0.11060236025444446), label='',\n",
              " Value(data=0.25118073936360225), label='',\n",
              " Value(data=0.2831474572544147), label='']"
            ]
          },
          "metadata": {},
          "execution_count": 388
        }
      ]
    },
    {
      "cell_type": "code",
      "source": [
        "zip(ys, y_preds)"
      ],
      "metadata": {
        "colab": {
          "base_uri": "https://localhost:8080/"
        },
        "id": "hsdIFClbVfgL",
        "outputId": "562d4216-2e6a-4c3e-d1cb-937cf8bd61ba"
      },
      "execution_count": 389,
      "outputs": [
        {
          "output_type": "execute_result",
          "data": {
            "text/plain": [
              "<zip at 0x78ac9d65c080>"
            ]
          },
          "metadata": {},
          "execution_count": 389
        }
      ]
    },
    {
      "cell_type": "code",
      "source": [
        "loss = sum((yout-ygt)**2 for ygt, yout in zip(ys, y_preds))"
      ],
      "metadata": {
        "id": "NAWvSrjoVNpt"
      },
      "execution_count": 390,
      "outputs": []
    },
    {
      "cell_type": "code",
      "source": [
        "# draw_dot(loss)"
      ],
      "metadata": {
        "id": "dNC1BAvnxXkm"
      },
      "execution_count": 391,
      "outputs": []
    },
    {
      "cell_type": "code",
      "source": [
        "loss"
      ],
      "metadata": {
        "id": "GQggAQuLyDVE",
        "colab": {
          "base_uri": "https://localhost:8080/"
        },
        "outputId": "4d53a39f-bc6e-41e8-f9f7-155bb40c2fe5"
      },
      "execution_count": 392,
      "outputs": [
        {
          "output_type": "execute_result",
          "data": {
            "text/plain": [
              "Value(data=4.193688823709321), label=''"
            ]
          },
          "metadata": {},
          "execution_count": 392
        }
      ]
    },
    {
      "cell_type": "code",
      "source": [
        "loss.backward()"
      ],
      "metadata": {
        "id": "OXws9NCNWFgZ"
      },
      "execution_count": 393,
      "outputs": []
    },
    {
      "cell_type": "code",
      "source": [
        "n.layers[0].neurons[0].w[0].grad"
      ],
      "metadata": {
        "colab": {
          "base_uri": "https://localhost:8080/"
        },
        "id": "OCvDp9_XW_bz",
        "outputId": "7e4801ac-bb43-4001-9c7b-463be2bdacd5"
      },
      "execution_count": 394,
      "outputs": [
        {
          "output_type": "execute_result",
          "data": {
            "text/plain": [
              "-0.19434865875175703"
            ]
          },
          "metadata": {},
          "execution_count": 394
        }
      ]
    },
    {
      "cell_type": "code",
      "source": [
        "# draw_dot(loss)"
      ],
      "metadata": {
        "id": "98mYK_h8XENu"
      },
      "execution_count": 395,
      "outputs": []
    },
    {
      "cell_type": "code",
      "source": [
        "n.layers[0].neurons[0].w[0].data"
      ],
      "metadata": {
        "colab": {
          "base_uri": "https://localhost:8080/"
        },
        "id": "8tLzm7UbXRUz",
        "outputId": "ef5a0c11-6048-4f9f-c6de-cc43cfc75b9a"
      },
      "execution_count": 396,
      "outputs": [
        {
          "output_type": "execute_result",
          "data": {
            "text/plain": [
              "-0.6965076980089497"
            ]
          },
          "metadata": {},
          "execution_count": 396
        }
      ]
    },
    {
      "cell_type": "code",
      "source": [
        "lr = 0.01\n",
        "for p in n.parameters():\n",
        "  p.data += -p.grad*lr"
      ],
      "metadata": {
        "id": "5rWO8vjSY1hU"
      },
      "execution_count": 397,
      "outputs": []
    },
    {
      "cell_type": "code",
      "source": [
        "n.layers[0].neurons[0].w[0].grad"
      ],
      "metadata": {
        "colab": {
          "base_uri": "https://localhost:8080/"
        },
        "id": "CSZy9h4mZoI_",
        "outputId": "41f056a7-84a3-445b-dbe9-fce909019be1"
      },
      "execution_count": 398,
      "outputs": [
        {
          "output_type": "execute_result",
          "data": {
            "text/plain": [
              "-0.19434865875175703"
            ]
          },
          "metadata": {},
          "execution_count": 398
        }
      ]
    },
    {
      "cell_type": "code",
      "source": [
        "n.layers[0].neurons[0].w[0].data"
      ],
      "metadata": {
        "colab": {
          "base_uri": "https://localhost:8080/"
        },
        "id": "tQOM95wZaYnE",
        "outputId": "9440a73c-b691-4018-e876-b8b93ebbfcfb"
      },
      "execution_count": 399,
      "outputs": [
        {
          "output_type": "execute_result",
          "data": {
            "text/plain": [
              "-0.6945642114214322"
            ]
          },
          "metadata": {},
          "execution_count": 399
        }
      ]
    },
    {
      "cell_type": "code",
      "source": [
        "y_preds = [n(x) for x in xs]\n",
        "loss = sum((y_pred- y_true)**2 for y_pred, y_true in zip(y_preds, ys))\n",
        "loss"
      ],
      "metadata": {
        "colab": {
          "base_uri": "https://localhost:8080/"
        },
        "id": "pdIOL1-HaZZ7",
        "outputId": "accf50d1-e796-48d5-e415-b7c1e23152d1"
      },
      "execution_count": 400,
      "outputs": [
        {
          "output_type": "execute_result",
          "data": {
            "text/plain": [
              "Value(data=4.091446306046115), label=''"
            ]
          },
          "metadata": {},
          "execution_count": 400
        }
      ]
    },
    {
      "cell_type": "code",
      "source": [
        "print(f\"y_true is {ys}\")\n",
        "lr = 0.05\n",
        "\n",
        "for iter in range(20):\n",
        "\n",
        "    loss.backward()\n",
        "\n",
        "    for p in n.parameters():\n",
        "      p.data += -p.grad*lr\n",
        "      # remember that we do grad += ... as we have to accumulate them in backward pass\n",
        "      # thus we need to 0 them after backward pass\n",
        "\n",
        "    # 0 grad\n",
        "    for p in n.parameters():\n",
        "      p.grad = 0\n",
        "\n",
        "    y_preds = [n(x) for x in xs]\n",
        "\n",
        "    loss = sum((y_pred- y_true)**2 for y_pred, y_true in zip(y_preds, ys))\n",
        "    print(f\"iter is {iter} | loss is {loss.data}\")"
      ],
      "metadata": {
        "colab": {
          "base_uri": "https://localhost:8080/"
        },
        "id": "IfDkKzh2a_kz",
        "outputId": "7d6ce5b5-b021-4997-86b2-4f0e3c15b1cf"
      },
      "execution_count": 403,
      "outputs": [
        {
          "output_type": "stream",
          "name": "stdout",
          "text": [
            "y_true is [1.0, -1.0, -1.0, 1.0]\n",
            "iter is 0 | loss is 0.0788939243927507\n",
            "iter is 1 | loss is 0.07159304325687811\n",
            "iter is 2 | loss is 0.06538647085212952\n",
            "iter is 3 | loss is 0.060064465677213325\n",
            "iter is 4 | loss is 0.055464638049595436\n",
            "iter is 5 | loss is 0.05145980761926149\n",
            "iter is 6 | loss is 0.04794934001707086\n",
            "iter is 7 | loss is 0.04485285700288394\n",
            "iter is 8 | loss is 0.04210560198931899\n",
            "iter is 9 | loss is 0.03965498184830601\n",
            "iter is 10 | loss is 0.03745795781776022\n",
            "iter is 11 | loss is 0.03547905757616695\n",
            "iter is 12 | loss is 0.033688847009414026\n",
            "iter is 13 | loss is 0.03206274564184629\n",
            "iter is 14 | loss is 0.030580101343707134\n",
            "iter is 15 | loss is 0.029223462288610405\n",
            "iter is 16 | loss is 0.027978000141648165\n",
            "iter is 17 | loss is 0.026831050043800868\n",
            "iter is 18 | loss is 0.025771741424516673\n",
            "iter is 19 | loss is 0.02479069991522069\n"
          ]
        }
      ]
    },
    {
      "cell_type": "code",
      "source": [
        " y_preds"
      ],
      "metadata": {
        "colab": {
          "base_uri": "https://localhost:8080/"
        },
        "id": "fgPFykVAbiMr",
        "outputId": "750dbf44-4510-4088-b1d8-20979f021860"
      },
      "execution_count": 404,
      "outputs": [
        {
          "output_type": "execute_result",
          "data": {
            "text/plain": [
              "[Value(data=0.9168493712090835), label='',\n",
              " Value(data=-0.9340527241088196), label='',\n",
              " Value(data=-0.8907633730214557), label='',\n",
              " Value(data=0.9600626869233946), label='']"
            ]
          },
          "metadata": {},
          "execution_count": 404
        }
      ]
    },
    {
      "cell_type": "markdown",
      "source": [
        "reference: https://youtu.be/VMj-3S1tku0?si=kmrSpIkajZCI12sy"
      ],
      "metadata": {
        "id": "uc6uxaYecPey"
      }
    }
  ]
}